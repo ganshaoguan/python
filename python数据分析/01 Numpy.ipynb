{
 "cells": [
  {
   "cell_type": "markdown",
   "id": "7294af5c",
   "metadata": {},
   "source": [
    "# Numpy基础数据结构"
   ]
  },
  {
   "cell_type": "code",
   "execution_count": 1,
   "id": "31137d0f",
   "metadata": {},
   "outputs": [],
   "source": [
    "import pandas as pd\n",
    "import numpy as np"
   ]
  },
  {
   "cell_type": "code",
   "execution_count": 2,
   "id": "9b190012",
   "metadata": {},
   "outputs": [
    {
     "name": "stdout",
     "output_type": "stream",
     "text": [
      "[[1 2 3 4 5 6]\n",
      " [1 2 2 5 6 7]]\n",
      "<class 'numpy.ndarray'>\n",
      "(2, 6)\n",
      "2\n",
      "12\n",
      "int32\n",
      "4\n",
      "<memory at 0x00000260591924A8>\n"
     ]
    }
   ],
   "source": [
    "# 多维数组ndarray\n",
    "ar = np.array([[1,2,3,4,5,6], [1,2,2,5,6,7]])\n",
    "print(ar)\n",
    "print(type(ar))   # 数据类型\n",
    "print(ar.shape)  # 形状\n",
    "print(ar.ndim)   # 维度\n",
    "print(ar.size)   # 元素个数 = 行数*列数\n",
    "print(ar.dtype)   # 数据类型，跟type有区别\n",
    "print(ar.itemsize)  # 每个元素的字节大小\n",
    "print(ar.data)   # 显示数组的存储，一般用不到"
   ]
  },
  {
   "cell_type": "code",
   "execution_count": 3,
   "id": "279db675",
   "metadata": {},
   "outputs": [
    {
     "name": "stdout",
     "output_type": "stream",
     "text": [
      "[0 1 2 3 4 5 6 7 8 9]\n",
      "[0 1 2 3 4 5 6 7 8 9]\n",
      "[[1 2 3 4 5 6]\n",
      " [1 2 3 4 5 6]]\n",
      "[[0.53960134 0.44510484 0.39614945 0.47171336 0.34229212]\n",
      " [0.32938921 0.16470323 0.64205572 0.23573864 0.68174976]]\n"
     ]
    }
   ],
   "source": [
    "# 创建数组 array()函数\n",
    "ar1 = np.array(range(10))   # 生成器\n",
    "ar2 = np.arange(10)   # numpy 自己的生成器\n",
    "ar3 = np.array([[1,2,3,4,5,6],[1,2,3,4,5,6]])   # 直接传入列表，或者嵌套的列表,数据类型需要保持一致，个数需要保持一致，也不是必须的，但最好是这样\n",
    "print(ar1)\n",
    "print(ar2)\n",
    "print(ar3)\n",
    "print(np.random.rand(10).reshape(2,5))   # 生成随机数后再改变形状\n",
    "\n"
   ]
  },
  {
   "cell_type": "code",
   "execution_count": 4,
   "id": "39d9c471",
   "metadata": {},
   "outputs": [
    {
     "name": "stdout",
     "output_type": "stream",
     "text": [
      "[0 1 2 3 4 5 6 7 8 9]\n",
      "[0. 1. 2. 3. 4. 5. 6. 7. 8. 9.]\n",
      "[ 5  6  7  8  9 10 11]\n",
      "[ 5.  7.  9. 11.]\n",
      "[   0    1    2 ... 9997 9998 9999]\n"
     ]
    }
   ],
   "source": [
    "# 创建数组  np.arange()\n",
    "print(np.arange(10))\n",
    "print(np.arange(10.0))\n",
    "print(np.arange(5, 12))\n",
    "print(np.arange(5.0, 12, 2))\n",
    "print(np.arange(10000))\n"
   ]
  },
  {
   "cell_type": "code",
   "execution_count": 5,
   "id": "7920d26f",
   "metadata": {},
   "outputs": [
    {
     "name": "stdout",
     "output_type": "stream",
     "text": [
      "[10.  10.5 11.  11.5 12.  12.5 13.  13.5 14.  14.5 15.  15.5 16.  16.5\n",
      " 17.  17.5 18.  18.5 19.  19.5 20. ]\n",
      "[10.         10.47619048 10.95238095 11.42857143 11.9047619  12.38095238\n",
      " 12.85714286 13.33333333 13.80952381 14.28571429 14.76190476 15.23809524\n",
      " 15.71428571 16.19047619 16.66666667 17.14285714 17.61904762 18.0952381\n",
      " 18.57142857 19.04761905 19.52380952]\n",
      "(array([10. , 10.5, 11. , 11.5, 12. , 12.5, 13. , 13.5, 14. , 14.5, 15. ,\n",
      "       15.5, 16. , 16.5, 17. , 17.5, 18. , 18.5, 19. , 19.5, 20. ]), 0.5)\n"
     ]
    }
   ],
   "source": [
    "# 创建数组 np.linspace():返回在间隔[开始，结束]上计算的num个均匀间隔样本\n",
    "print(np.linspace(start = 10, stop = 20, num = 21))\n",
    "print(np.linspace(start = 10, stop = 20, num = 21, endpoint=False))   # endpoint,是否包含stop的值\n",
    "print(np.linspace(start = 10, stop = 20, num = 21, retstep = True))   # restep，显示步长值，此时返回的是元组，一个是array，一个是步长值\n"
   ]
  },
  {
   "cell_type": "code",
   "execution_count": 6,
   "id": "c77c8a6c",
   "metadata": {},
   "outputs": [
    {
     "name": "stdout",
     "output_type": "stream",
     "text": [
      "[0. 0. 0. 0. 0. 0. 0. 0. 0. 0.]\n",
      "[[0 0 0 0 0]\n",
      " [0 0 0 0 0]]\n",
      "[[0 1 2 3 4 5 6 7 8 9]\n",
      " [10 11 12 13 14 15 16 17 18 19]]\n",
      "[[0 0 0 0 0 0 0 0 0 0]\n",
      " [0 0 0 0 0 0 0 0 0 0]]\n"
     ]
    }
   ],
   "source": [
    "# 创建数组 zeros, zeros_like, ones, ones_like\n",
    "print(np.zeros(10))\n",
    "print(np.zeros((2, 5), dtype = np.int32))\n",
    "\n",
    "ar = np.array([list(range(10)), list(range(10,20))], dtype = object)\n",
    "print(ar)\n",
    "print(np.zeros_like(ar))"
   ]
  },
  {
   "cell_type": "code",
   "execution_count": 7,
   "id": "9960d637",
   "metadata": {},
   "outputs": [
    {
     "data": {
      "text/plain": [
       "array([[1., 0., 0., 0., 0.],\n",
       "       [0., 1., 0., 0., 0.],\n",
       "       [0., 0., 1., 0., 0.],\n",
       "       [0., 0., 0., 1., 0.],\n",
       "       [0., 0., 0., 0., 1.]])"
      ]
     },
     "execution_count": 7,
     "metadata": {},
     "output_type": "execute_result"
    }
   ],
   "source": [
    "# 创建数组\n",
    "np.eye(5)  # 对角线都是1，其余是0\n"
   ]
  },
  {
   "cell_type": "markdown",
   "id": "8af16578",
   "metadata": {},
   "source": [
    "# Numpy通用函数"
   ]
  },
  {
   "cell_type": "code",
   "execution_count": 79,
   "id": "4a9df88d",
   "metadata": {},
   "outputs": [],
   "source": [
    "import numpy as np"
   ]
  },
  {
   "cell_type": "code",
   "execution_count": 28,
   "id": "0e90af9b",
   "metadata": {},
   "outputs": [
    {
     "name": "stdout",
     "output_type": "stream",
     "text": [
      "[0 1 2 3 4 5 6 7 8 9]\n",
      "[[0. 0. 0. 0. 0.]\n",
      " [0. 0. 0. 0. 0.]]\n",
      "[0 1 2 3 4 5 6 7 8 9]\n",
      "[[0. 0.]\n",
      " [0. 0.]\n",
      " [0. 0.]\n",
      " [0. 0.]\n",
      " [0. 0.]]\n",
      "[[0. 0.]\n",
      " [0. 0.]\n",
      " [0. 0.]\n",
      " [0. 0.]\n",
      " [0. 0.]]\n",
      "[[0 1 2 3 4]\n",
      " [5 6 7 8 9]]\n",
      "[[1. 1. 1. 1. 1. 1. 1. 1. 1. 1. 1. 1. 1. 1. 1. 1. 1. 1. 1. 1.]\n",
      " [1. 1. 1. 1. 1. 1. 1. 1. 1. 1. 1. 1. 1. 1. 1. 1. 1. 1. 1. 1.]\n",
      " [1. 1. 1. 1. 1. 1. 1. 1. 1. 1. 1. 1. 1. 1. 1. 1. 1. 1. 1. 1.]\n",
      " [1. 1. 1. 1. 1. 1. 1. 1. 1. 1. 1. 1. 1. 1. 1. 1. 1. 1. 1. 1.]\n",
      " [1. 1. 1. 1. 1. 1. 1. 1. 1. 1. 1. 1. 1. 1. 1. 1. 1. 1. 1. 1.]]\n",
      "[[ 0  1  2  3]\n",
      " [ 4  5  6  7]\n",
      " [ 8  9 10 11]\n",
      " [12 13 14 15]]\n",
      "---------------------------------------\n",
      "[[0 1 2 3]\n",
      " [4 0 1 2]\n",
      " [3 4 0 1]]\n"
     ]
    }
   ],
   "source": [
    "#  数组形状 .T .reshape   .resize, 转置，塑形\n",
    "# 转置1维数组不变，多维数据变化\n",
    "ar1 = np.arange(10)\n",
    "ar2 = np.zeros((2,5))\n",
    "print(ar1)\n",
    "print(ar2)\n",
    "print(ar1.T)\n",
    "print(ar2.T)\n",
    "\n",
    "print(ar2.reshape(5, 2))\n",
    "print(ar1.reshape(2,5))\n",
    "print(np.ones((10,10)).reshape(5,20))\n",
    "print(np.reshape(np.arange(16), (4,4)))\n",
    "\n",
    "print(\"---------------------------------------\")\n",
    "print(np.resize(np.arange(5),(3,4)))  # 多于元素个数就迭代，少于就截断\n",
    "# 使用np.resize 和 s.resize 的时候需要注意，两者的结果不一致"
   ]
  },
  {
   "cell_type": "code",
   "execution_count": 29,
   "id": "0d19de08",
   "metadata": {},
   "outputs": [
    {
     "name": "stdout",
     "output_type": "stream",
     "text": [
      "[[0. 0. 0. 0. 0.]\n",
      " [0. 0. 0. 0. 0.]]\n",
      "[0. 0. 0. 0. 0. 0. 0. 0. 0. 0.]\n",
      "[[0. 0. 0. 0. 0.]\n",
      " [0. 0. 0. 0. 0.]]\n"
     ]
    }
   ],
   "source": [
    "ar2 = np.zeros((2,5))\n",
    "print(ar2)\n",
    "print(ar2.reshape(10))\n",
    "print(ar2)"
   ]
  },
  {
   "cell_type": "code",
   "execution_count": 30,
   "id": "7a31a6c0",
   "metadata": {},
   "outputs": [
    {
     "name": "stdout",
     "output_type": "stream",
     "text": [
      "True\n",
      "[  0   1 100   3   4   5   6   7   8   9] [  0   1 100   3   4   5   6   7   8   9]\n",
      "[   0    1  100 1000    4    5    6    7    8    9] [  0   1 100   3   4   5   6   7   8   9]\n"
     ]
    }
   ],
   "source": [
    "# 数组的复制\n",
    "ar1 = np.arange(10)\n",
    "ar2 = ar1\n",
    "print(ar1 is ar2)\n",
    "ar1[2] = 100\n",
    "print(ar1, ar2)\n",
    "\n",
    "ar3 = ar1.copy()\n",
    "ar1[3] = 1000\n",
    "print(ar1, ar3)"
   ]
  },
  {
   "cell_type": "code",
   "execution_count": 36,
   "id": "ae87ac89",
   "metadata": {},
   "outputs": [
    {
     "name": "stdout",
     "output_type": "stream",
     "text": [
      "[0. 1. 2. 3. 4. 5. 6. 7. 8. 9.] float64\n",
      "[0 1 2 3 4 5 6 7 8 9] int32\n"
     ]
    }
   ],
   "source": [
    "# 数据类型转换  astype\n",
    "ar1 = np.arange(10, dtype = float)\n",
    "ar2 = ar1.astype(np.int32)\n",
    "print(ar1, ar1.dtype)\n",
    "print(ar2, ar2.dtype)"
   ]
  },
  {
   "cell_type": "code",
   "execution_count": 51,
   "id": "5f525c81",
   "metadata": {},
   "outputs": [
    {
     "name": "stdout",
     "output_type": "stream",
     "text": [
      "[0 1 2 3 4] [5 6 7 8]\n",
      "[0 1 2 3 4 5 6 7 8]\n",
      "---------------------\n",
      "[['1']\n",
      " ['2']\n",
      " ['3']\n",
      " ['a']\n",
      " ['b']\n",
      " ['c']]\n",
      "-------------\n",
      "[[0 1 2 3 4]\n",
      " [5 6 7 8 9]]\n",
      "[[0 5]\n",
      " [1 6]\n",
      " [2 7]\n",
      " [3 8]\n",
      " [4 9]]\n"
     ]
    }
   ],
   "source": [
    "# 数据堆叠\n",
    "a = np.arange(5)\n",
    "b = np.arange(5,9)\n",
    "print(a, b)\n",
    "print(np.hstack((a, b)))   # 横向连接\n",
    "print('---------------------')\n",
    "a = np.array([[1],[2],[3]])\n",
    "b = np.array([['a'],['b'],['c']])\n",
    "print(np.vstack((a,b)))   # 竖向堆叠\n",
    "\n",
    "print(\"-------------\")\n",
    "a = np.arange(5)\n",
    "b = np.arange(5,10)\n",
    "print(np.stack((a,b), axis = 0))  # 横向堆叠\n",
    "print(np.stack((a,b), axis = 1))  # 纵向堆叠"
   ]
  },
  {
   "cell_type": "code",
   "execution_count": 62,
   "id": "34257614",
   "metadata": {},
   "outputs": [
    {
     "name": "stdout",
     "output_type": "stream",
     "text": [
      "[[ 0  1  2  3]\n",
      " [ 4  5  6  7]\n",
      " [ 8  9 10 11]\n",
      " [12 13 14 15]]\n",
      "[array([[ 0,  1],\n",
      "       [ 4,  5],\n",
      "       [ 8,  9],\n",
      "       [12, 13]]), array([[ 2,  3],\n",
      "       [ 6,  7],\n",
      "       [10, 11],\n",
      "       [14, 15]])]\n",
      "[array([[0, 1, 2, 3],\n",
      "       [4, 5, 6, 7]]), array([[ 8,  9, 10, 11],\n",
      "       [12, 13, 14, 15]])]\n",
      "---------------------\n",
      "[array([[0, 1, 2, 3],\n",
      "       [4, 5, 6, 7]]), array([[ 8,  9, 10, 11],\n",
      "       [12, 13, 14, 15]])]\n",
      "[array([[ 0,  1],\n",
      "       [ 4,  5],\n",
      "       [ 8,  9],\n",
      "       [12, 13]]), array([[ 2,  3],\n",
      "       [ 6,  7],\n",
      "       [10, 11],\n",
      "       [14, 15]])]\n"
     ]
    }
   ],
   "source": [
    "# 数组拆分\n",
    "ar = np.arange(16).reshape(4,4)\n",
    "print(ar)\n",
    "print(np.hsplit(ar, 2))  # 纵向拆分\n",
    "print(np.vsplit(ar, 2))  # 横向拆分\n",
    "print(\"---------------------\")\n",
    "print(np.split(ar,2,axis = 0))   # 横向拆分\n",
    "print(np.split(ar, 2, axis = 1))  # 纵向拆分"
   ]
  },
  {
   "cell_type": "code",
   "execution_count": 78,
   "id": "cf5ed5ef",
   "metadata": {},
   "outputs": [
    {
     "name": "stdout",
     "output_type": "stream",
     "text": [
      "[[0 1 2]\n",
      " [3 4 5]]\n",
      "[[10 11 12]\n",
      " [13 14 15]]\n",
      "[[ 0  2  4]\n",
      " [ 6  8 10]]\n",
      "[[1.         0.5        0.33333333]\n",
      " [0.25       0.2        0.16666667]]\n",
      "[[ 0  1  4]\n",
      " [ 9 16 25]]\n",
      "---------------\n",
      "2.5\n",
      "5\n",
      "0\n",
      "1.707825127659933\n",
      "2.9166666666666665\n",
      "15 [3 5 7] [ 3 12]\n",
      "[1 2 3 5]\n"
     ]
    }
   ],
   "source": [
    "# 数组简单运算\n",
    "ar = np.arange(6).reshape(2,3)\n",
    "print(ar)\n",
    "print(ar+10) # 加法\n",
    "print(ar *2 ) # 乘法\n",
    "print(1/(ar+1))  # 除法\n",
    "print(ar ** 2) # 幂运算\n",
    "print(\"---------------\")\n",
    "print(ar.mean())  # 均值\n",
    "print(ar.max())  # 最大值\n",
    "print(ar.min())  # 最小值\n",
    "print(ar.std())  # 标准差\n",
    "print(ar.var())   # 方差\n",
    "print(ar.sum(), np.sum(ar, axis = 0), np.sum(ar, axis = 1))\n",
    "print(np.sort(np.array([2,3,1,5])))"
   ]
  },
  {
   "cell_type": "markdown",
   "id": "8eadc5d2",
   "metadata": {},
   "source": [
    "# Numpy索引及切片"
   ]
  },
  {
   "cell_type": "code",
   "execution_count": 80,
   "id": "2a3ffe50",
   "metadata": {},
   "outputs": [],
   "source": [
    "import numpy as np"
   ]
  },
  {
   "cell_type": "code",
   "execution_count": 97,
   "id": "02a19d99",
   "metadata": {},
   "outputs": [
    {
     "name": "stdout",
     "output_type": "stream",
     "text": [
      "4\n",
      "[0 1 2]\n",
      "[ 0  2  4  6  8 10 12 14 16 18]\n",
      "----------\n",
      "[[ 0  1  2  3]\n",
      " [ 4  5  6  7]\n",
      " [ 8  9 10 11]\n",
      " [12 13 14 15]]\n",
      "[ 8  9 10 11]\n",
      "10\n",
      "[ 1  5  9 13]\n",
      "[[2 3]\n",
      " [6 7]]\n",
      "---------------------\n",
      "[[[ 0  1]\n",
      "  [ 2  3]]\n",
      "\n",
      " [[ 4  5]\n",
      "  [ 6  7]]\n",
      "\n",
      " [[ 8  9]\n",
      "  [10 11]]]\n",
      "[[5]]\n"
     ]
    }
   ],
   "source": [
    "# 基本索引及切片\n",
    "# 一维数组和列表一样\n",
    "ar = np.arange(20)\n",
    "print(ar[4])\n",
    "print(ar[:3])\n",
    "print(ar[::2])\n",
    "\n",
    "print('----------')\n",
    "# 二维数组\n",
    "ar = np.arange(16).reshape(4,4)\n",
    "print(ar)\n",
    "print(ar[2]) # 选择行\n",
    "print(ar[2][2])\n",
    "print(ar[:,1])  # 选择列\n",
    "print(ar[:2, 2:])\n",
    "print(\"---------------------\")\n",
    "# 三维数组\n",
    "ar = np.arange(12).reshape(3,2,2)\n",
    "print(ar)\n",
    "print(ar[1][:1,1:])"
   ]
  },
  {
   "cell_type": "code",
   "execution_count": 112,
   "id": "d75116b2",
   "metadata": {},
   "outputs": [
    {
     "name": "stdout",
     "output_type": "stream",
     "text": [
      "[[ 0  1  2  3]\n",
      " [ 4  5  6  7]\n",
      " [ 8  9 10 11]]\n",
      "[ True False  True] [ True  True False False]\n",
      "[[ 0  1  2  3]\n",
      " [ 8  9 10 11]]\n",
      "[0 9]\n",
      "[[ 0  1  2  3]\n",
      " [ 8  9 10 11]]\n",
      "[[0 1]\n",
      " [4 5]\n",
      " [8 9]]\n",
      "------------------------------------------------------------\n",
      "[ 6  7  8  9 10 11]\n"
     ]
    }
   ],
   "source": [
    "# 布尔型索引及切片\n",
    "ar = np.arange(12).reshape(3, 4)\n",
    "print(ar)\n",
    "i = np.array([True, False, True])\n",
    "j = np.array([True, True, False, False])\n",
    "print(i, j)\n",
    "print(ar[i])\n",
    "print(ar[i, j])\n",
    "print(ar[i,:])\n",
    "print(ar[:,j])\n",
    "print('------------------------------------------------------------')\n",
    "print(ar[ar>5])"
   ]
  },
  {
   "cell_type": "code",
   "execution_count": 113,
   "id": "34f7b1fe",
   "metadata": {},
   "outputs": [],
   "source": [
    "# 数组索引及切片的更改、复制\n",
    "# .copy()，"
   ]
  },
  {
   "cell_type": "markdown",
   "id": "c5f541bd",
   "metadata": {},
   "source": [
    "# Numpy随机数"
   ]
  },
  {
   "cell_type": "code",
   "execution_count": 114,
   "id": "203fd242",
   "metadata": {},
   "outputs": [],
   "source": [
    "# 随机数生成\n",
    "import numpy as np"
   ]
  },
  {
   "cell_type": "code",
   "execution_count": 116,
   "id": "920db4f5",
   "metadata": {},
   "outputs": [
    {
     "data": {
      "text/plain": [
       "array([[ 0.24658218, -2.7441588 ,  0.25587751,  0.89796102],\n",
       "       [-0.90673544, -1.85710911, -0.10161697, -0.5823998 ],\n",
       "       [-0.20787232, -0.5274686 ,  0.64126209,  0.20014735],\n",
       "       [ 2.41389074, -0.85820251,  0.11138287, -0.50760556]])"
      ]
     },
     "execution_count": 116,
     "metadata": {},
     "output_type": "execute_result"
    }
   ],
   "source": [
    "np.random.normal(size = (4,4))  # 标准正太分布随机值"
   ]
  },
  {
   "cell_type": "code",
   "execution_count": 127,
   "id": "bce7f4f7",
   "metadata": {},
   "outputs": [
    {
     "name": "stdout",
     "output_type": "stream",
     "text": [
      "0.09240648875964619\n",
      "[0.50382207 0.56158696 0.3637533  0.30389836]\n",
      "[[0.4464569  0.6750595  0.31498381 0.38199048]\n",
      " [0.40121523 0.13785711 0.79095872 0.17003356]]\n"
     ]
    },
    {
     "data": {
      "text/plain": [
       "<matplotlib.collections.PathCollection at 0x2605c7d29c8>"
      ]
     },
     "execution_count": 127,
     "metadata": {},
     "output_type": "execute_result"
    },
    {
     "data": {
      "image/png": "[encoded data removed]",
      "text/plain": [
       "<Figure size 432x288 with 1 Axes>"
      ]
     },
     "metadata": {
      "needs_background": "light"
     },
     "output_type": "display_data"
    }
   ],
   "source": [
    "# \n",
    "print(np.random.rand())   # 随机生成一个[0-1）之间的随机值，浮点数\n",
    "print(np.random.rand(4))\n",
    "print(np.random.rand(2,4))\n",
    "data1 = np.random.rand(1000)\n",
    "data2 = np.random.rand(1000)\n",
    "\n",
    "data3 = np.random.randn(1000)   # 正态分布\n",
    "data4 = np.random.randn(1000)\n",
    "\n",
    "import matplotlib.pyplot as plt\n",
    "%matplotlib inline\n",
    "plt.scatter(data1, data2)\n"
   ]
  },
  {
   "cell_type": "code",
   "execution_count": 131,
   "id": "1f664c3b",
   "metadata": {},
   "outputs": [
    {
     "name": "stdout",
     "output_type": "stream",
     "text": [
      "2\n",
      "[1 3 5 1 3 2 6 4 2 7]\n"
     ]
    }
   ],
   "source": [
    "# 随机整数\n",
    "print(np.random.randint(1,10))\n",
    "print(np.random.randint(1,10, size = 10))"
   ]
  },
  {
   "cell_type": "markdown",
   "id": "652a1459",
   "metadata": {},
   "source": [
    "# Numpy数据的输入和输出"
   ]
  },
  {
   "cell_type": "code",
   "execution_count": 132,
   "id": "74917690",
   "metadata": {},
   "outputs": [],
   "source": [
    "import os\n",
    "import numpy as np"
   ]
  },
  {
   "cell_type": "code",
   "execution_count": 139,
   "id": "1d3f9d66",
   "metadata": {},
   "outputs": [
    {
     "name": "stdout",
     "output_type": "stream",
     "text": [
      "finished\n"
     ]
    }
   ],
   "source": [
    "# 存储\n",
    "ar = np.random.rand(5,5)\n",
    "np.save(\"test.npy\", ar)\n",
    "print(\"finished\")"
   ]
  },
  {
   "cell_type": "code",
   "execution_count": 143,
   "id": "d275b61b",
   "metadata": {},
   "outputs": [
    {
     "name": "stdout",
     "output_type": "stream",
     "text": [
      "finished\n"
     ]
    }
   ],
   "source": [
    "ar = np.random.rand(5,5)\n",
    "np.savetxt(\"test.txt\", ar, delimiter = \",\", fmt = '%.2f')\n",
    "print(\"finished\")"
   ]
  },
  {
   "cell_type": "code",
   "execution_count": 144,
   "id": "ea236604",
   "metadata": {},
   "outputs": [
    {
     "data": {
      "text/plain": [
       "array([[0.50548498, 0.92034516, 0.2683864 , 0.55186361, 0.3836244 ],\n",
       "       [0.63224555, 0.70163769, 0.34221538, 0.46595735, 0.19784938],\n",
       "       [0.06491465, 0.58954195, 0.72173827, 0.83118349, 0.38913185],\n",
       "       [0.57652533, 0.66733475, 0.23580195, 0.457729  , 0.92112729],\n",
       "       [0.49183919, 0.25332879, 0.90847891, 0.49711691, 0.12979731]])"
      ]
     },
     "execution_count": 144,
     "metadata": {},
     "output_type": "execute_result"
    }
   ],
   "source": [
    "# 读取\n",
    "np.load(\"test.npy\")"
   ]
  },
  {
   "cell_type": "code",
   "execution_count": 146,
   "id": "71bdadac",
   "metadata": {},
   "outputs": [
    {
     "data": {
      "text/plain": [
       "array([[0.35, 0.68, 0.7 , 0.18, 0.51],\n",
       "       [0.44, 0.69, 0.43, 0.7 , 0.58],\n",
       "       [0.18, 0.12, 0.17, 0.04, 0.94],\n",
       "       [0.48, 0.07, 0.31, 0.24, 0.67],\n",
       "       [0.44, 0.44, 0.16, 0.03, 0.16]])"
      ]
     },
     "execution_count": 146,
     "metadata": {},
     "output_type": "execute_result"
    }
   ],
   "source": [
    "np.loadtxt(\"test.txt\", delimiter=\",\")"
   ]
  },
  {
   "cell_type": "code",
   "execution_count": null,
   "id": "3e0d9370",
   "metadata": {},
   "outputs": [],
   "source": []
  }
 ],
 "metadata": {
  "kernelspec": {
   "display_name": "Python 3",
   "language": "python",
   "name": "python3"
  },
  "language_info": {
   "codemirror_mode": {
    "name": "ipython",
    "version": 3
   },
   "file_extension": ".py",
   "mimetype": "text/x-python",
   "name": "python",
   "nbconvert_exporter": "python",
   "pygments_lexer": "ipython3",
   "version": "3.7.10"
  },
  "toc": {
   "base_numbering": 1,
   "nav_menu": {},
   "number_sections": true,
   "sideBar": true,
   "skip_h1_title": false,
   "title_cell": "Table of Contents",
   "title_sidebar": "Contents",
   "toc_cell": false,
   "toc_position": {
    "height": "calc(100% - 180px)",
    "left": "10px",
    "top": "150px",
    "width": "245.76px"
   },
   "toc_section_display": true,
   "toc_window_display": true
  }
 },
 "nbformat": 4,
 "nbformat_minor": 5
}
