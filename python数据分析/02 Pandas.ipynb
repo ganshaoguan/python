{
 "cells": [
  {
   "cell_type": "markdown",
   "id": "383ebb0d",
   "metadata": {},
   "source": [
    "# Series 基本概念及创建"
   ]
  },
  {
   "cell_type": "code",
   "execution_count": 1,
   "id": "ec85972c",
   "metadata": {},
   "outputs": [],
   "source": [
    "import numpy as np\n",
    "import pandas as pd"
   ]
  },
  {
   "cell_type": "code",
   "execution_count": 2,
   "id": "8dd8747d",
   "metadata": {},
   "outputs": [
    {
     "name": "stdout",
     "output_type": "stream",
     "text": [
      "[0.03648525 0.00764529 0.40628105 0.40834876 0.27007441] <class 'numpy.ndarray'>\n",
      "0    0.036485\n",
      "1    0.007645\n",
      "2    0.406281\n",
      "3    0.408349\n",
      "4    0.270074\n",
      "dtype: float64 <class 'pandas.core.series.Series'>\n",
      "----------------\n",
      "[0, 1, 2, 3, 4]\n",
      "[0.03648525 0.00764529 0.40628105 0.40834876 0.27007441] <class 'numpy.ndarray'>\n"
     ]
    }
   ],
   "source": [
    "# 创建Series\n",
    "ar = np.random.rand(5)\n",
    "s = pd.Series(ar)\n",
    "print(ar, type(ar))\n",
    "print(s, type(s))\n",
    "print(\"----------------\")\n",
    "print(list(s.index))\n",
    "print(s.values, type(s.values))"
   ]
  },
  {
   "cell_type": "code",
   "execution_count": 3,
   "id": "e1d478df",
   "metadata": {},
   "outputs": [
    {
     "name": "stdout",
     "output_type": "stream",
     "text": [
      "a    1\n",
      "b    2\n",
      "c    3\n",
      "dtype: int64 <class 'pandas.core.series.Series'>\n"
     ]
    }
   ],
   "source": [
    "# 创建series ，字典创建, key 是index,values是values\n",
    "dic = {'a':1, 'b':2, 'c':3}\n",
    "s =pd.Series(dic)\n",
    "print(s, type(s))"
   ]
  },
  {
   "cell_type": "code",
   "execution_count": 4,
   "id": "1f221721",
   "metadata": {},
   "outputs": [
    {
     "name": "stdout",
     "output_type": "stream",
     "text": [
      "a    0.059796\n",
      "b    0.489866\n",
      "c    0.773100\n",
      "d    0.300860\n",
      "e    0.297685\n",
      "Name: test, dtype: float64\n",
      "a    0.059796\n",
      "b    0.489866\n",
      "c    0.773100\n",
      "d    0.300860\n",
      "e    0.297685\n",
      "Name: hahah, dtype: float64\n"
     ]
    }
   ],
   "source": [
    "# 通过数组创建\n",
    "arr = np.random.rand(5)\n",
    "s = pd.Series(arr, index = list('abcde'), name = 'test')\n",
    "print(s)\n",
    "s1 = s.rename(\"hahah\")\n",
    "print(s1)"
   ]
  },
  {
   "cell_type": "code",
   "execution_count": 5,
   "id": "519d9667",
   "metadata": {},
   "outputs": [
    {
     "name": "stdout",
     "output_type": "stream",
     "text": [
      "0    100\n",
      "1    100\n",
      "2    100\n",
      "3    100\n",
      "dtype: int64\n"
     ]
    }
   ],
   "source": [
    "# 通过标量创建\n",
    "s = pd.Series(100, index = range(4))\n",
    "print(s)"
   ]
  },
  {
   "cell_type": "markdown",
   "id": "aad8df46",
   "metadata": {},
   "source": [
    "# Series 索引"
   ]
  },
  {
   "cell_type": "code",
   "execution_count": 6,
   "id": "84276e29",
   "metadata": {},
   "outputs": [],
   "source": [
    "# 下标索引\n",
    "import numpy as np\n",
    "import pandas as pd"
   ]
  },
  {
   "cell_type": "code",
   "execution_count": 7,
   "id": "269513be",
   "metadata": {},
   "outputs": [
    {
     "name": "stdout",
     "output_type": "stream",
     "text": [
      "0    0.308567\n",
      "1    0.907527\n",
      "2    0.305534\n",
      "3    0.874218\n",
      "4    0.106907\n",
      "5    0.354304\n",
      "6    0.727857\n",
      "7    0.934227\n",
      "8    0.351439\n",
      "9    0.067371\n",
      "dtype: float64\n",
      "0.3543036084842405 <class 'numpy.float64'>\n"
     ]
    }
   ],
   "source": [
    "s = pd.Series(np.random.rand(10))\n",
    "print(s)\n",
    "print(s[5], type(s[5]))"
   ]
  },
  {
   "cell_type": "code",
   "execution_count": 8,
   "id": "194f0123",
   "metadata": {},
   "outputs": [
    {
     "name": "stdout",
     "output_type": "stream",
     "text": [
      "a    0.131514\n",
      "b    0.229659\n",
      "c    0.776905\n",
      "d    0.264497\n",
      "e    0.479370\n",
      "dtype: float64\n",
      "0.13151431046305817 <class 'list'> float64\n",
      "a    0.131514\n",
      "b    0.229659\n",
      "dtype: float64\n"
     ]
    }
   ],
   "source": [
    "# 标签索引\n",
    "s = pd.Series(np.random.rand(5), index = list('abcde'))\n",
    "print(s)\n",
    "print(s['a'], type(['a']), s['a'].dtype)\n",
    "print(s[['a','b']])"
   ]
  },
  {
   "cell_type": "code",
   "execution_count": 9,
   "id": "c2f69677",
   "metadata": {
    "scrolled": true
   },
   "outputs": [
    {
     "name": "stdout",
     "output_type": "stream",
     "text": [
      "0    0.779041\n",
      "1    0.043249\n",
      "2    0.151760\n",
      "3    0.803278\n",
      "4    0.529603\n",
      "dtype: float64\n",
      "a    0.540085\n",
      "b    0.868815\n",
      "c    0.833208\n",
      "d    0.981977\n",
      "e    0.935819\n",
      "dtype: float64\n",
      "------------------------------\n",
      "0    0.779041\n",
      "1    0.043249\n",
      "2    0.151760\n",
      "dtype: float64\n",
      "a    0.540085\n",
      "b    0.868815\n",
      "c    0.833208\n",
      "dtype: float64\n",
      "-----------------------------\n",
      "4    0.529603\n",
      "3    0.803278\n",
      "2    0.151760\n",
      "1    0.043249\n",
      "0    0.779041\n",
      "dtype: float64\n",
      "a    0.540085\n",
      "c    0.833208\n",
      "e    0.935819\n",
      "dtype: float64\n"
     ]
    }
   ],
   "source": [
    "# 切片\n",
    "s1 = pd.Series(np.random.rand(5))\n",
    "s2 = pd.Series(np.random.rand(5), index = list('abcde'))\n",
    "print(s1)\n",
    "print(s2)\n",
    "print(\"------------------------------\")\n",
    "print(s1[0:3])   # 下标索引，左闭右开\n",
    "print(s2['a':'c'])   # 标签索引，左闭右闭\n",
    "print(\"-----------------------------\")\n",
    "# print(s1[-1])   # 下标索引不支持-1\n",
    "print(s1[::-1])  # 但是切片可以这么写\n",
    "print(s2[::2])"
   ]
  },
  {
   "cell_type": "code",
   "execution_count": 10,
   "id": "4c04fa58",
   "metadata": {},
   "outputs": [
    {
     "name": "stdout",
     "output_type": "stream",
     "text": [
      "0    72.325077\n",
      "1    28.429398\n",
      "2    17.997942\n",
      "4         None\n",
      "dtype: object\n",
      "0     True\n",
      "1    False\n",
      "2    False\n",
      "4    False\n",
      "dtype: bool 0    False\n",
      "1    False\n",
      "2    False\n",
      "4     True\n",
      "dtype: bool 0     True\n",
      "1     True\n",
      "2     True\n",
      "4    False\n",
      "dtype: bool\n"
     ]
    }
   ],
   "source": [
    "# 布尔型索引\n",
    "s = pd.Series(np.random.rand(3))* 100\n",
    "s[4] = None\n",
    "print(s)\n",
    "bs1 = s > 50\n",
    "bs2 = s.isnull()\n",
    "bs3 = s.notnull()\n",
    "print(bs1, bs2, bs3)"
   ]
  },
  {
   "cell_type": "markdown",
   "id": "6c7721ad",
   "metadata": {},
   "source": [
    "# Series 基本技巧"
   ]
  },
  {
   "cell_type": "code",
   "execution_count": 11,
   "id": "2f729310",
   "metadata": {},
   "outputs": [
    {
     "name": "stdout",
     "output_type": "stream",
     "text": [
      "0    0.871993\n",
      "1    0.367156\n",
      "2    0.200023\n",
      "3    0.614152\n",
      "4    0.386234\n",
      "dtype: float64 10    0.412134\n",
      "11    0.039241\n",
      "12    0.100908\n",
      "13    0.522112\n",
      "14    0.021295\n",
      "dtype: float64\n"
     ]
    }
   ],
   "source": [
    "# 数据查看\n",
    "s = pd.Series(np.random.rand(15))\n",
    "print(s.head(), s.tail())"
   ]
  },
  {
   "cell_type": "code",
   "execution_count": 12,
   "id": "f7e05300",
   "metadata": {},
   "outputs": [
    {
     "name": "stdout",
     "output_type": "stream",
     "text": [
      "a    0.536742\n",
      "b    0.830291\n",
      "c    0.834003\n",
      "e    0.713438\n",
      "d    0.905088\n",
      "dtype: float64\n",
      "a    0.536742\n",
      "b    0.830291\n",
      "f         NaN\n",
      "g         NaN\n",
      "h         NaN\n",
      "dtype: float64\n",
      "a    0.536742\n",
      "b    0.830291\n",
      "c    0.834003\n",
      "e    0.713438\n",
      "g    0.000000\n",
      "h    0.000000\n",
      "dtype: float64\n"
     ]
    }
   ],
   "source": [
    "# 重新索引 reindex\n",
    "s = pd.Series(np.random.rand(5), index = list('abced'))\n",
    "print(s)\n",
    "s1 = s.reindex(list('abfgh'))\n",
    "print(s1)\n",
    "s2 = s.reindex(list('abcegh'), fill_value= 0)\n",
    "print(s2)"
   ]
  },
  {
   "cell_type": "code",
   "execution_count": 13,
   "id": "bf4f6eee",
   "metadata": {},
   "outputs": [
    {
     "name": "stdout",
     "output_type": "stream",
     "text": [
      "jack     0.709762\n",
      "marry    0.827546\n",
      "tom      0.614935\n",
      "dtype: float64 tom      0.247796\n",
      "marry    0.817671\n",
      "jack     0.956413\n",
      "dtype: float64\n",
      "jack     1.666175\n",
      "marry    1.645217\n",
      "tom      0.862730\n",
      "dtype: float64\n"
     ]
    }
   ],
   "source": [
    "# 对齐\n",
    "s1 = pd.Series(np.random.rand(3), index = ['jack','marry','tom'])\n",
    "s2 = pd.Series(np.random.rand(3), index = ['tom','marry','jack'])\n",
    "print(s1, s2)\n",
    "print(s1 +s2)"
   ]
  },
  {
   "cell_type": "code",
   "execution_count": 14,
   "id": "44aec18e",
   "metadata": {},
   "outputs": [
    {
     "name": "stdout",
     "output_type": "stream",
     "text": [
      "a    0.780984\n",
      "b    0.446524\n",
      "c    0.043825\n",
      "d    0.838782\n",
      "e    0.815261\n",
      "dtype: float64\n",
      "a    0.780984\n",
      "b    0.446524\n",
      "d    0.838782\n",
      "e    0.815261\n",
      "dtype: float64\n",
      "d    0.838782\n",
      "e    0.815261\n",
      "dtype: float64\n"
     ]
    }
   ],
   "source": [
    "# 删除 drop\n",
    "s = pd.Series(np.random.rand(5), index = list('abcde'))\n",
    "print(s)\n",
    "s.drop('c', inplace = True)\n",
    "print(s)\n",
    "s.drop(['a','b'], inplace = True)\n",
    "print(s)"
   ]
  },
  {
   "cell_type": "code",
   "execution_count": 15,
   "id": "7060ad24",
   "metadata": {},
   "outputs": [
    {
     "name": "stdout",
     "output_type": "stream",
     "text": [
      "a    0.236625\n",
      "b    0.907888\n",
      "c    0.620888\n",
      "d    0.360470\n",
      "e    0.658794\n",
      "dtype: float64 w    1\n",
      "e    2\n",
      "r    3\n",
      "dtype: int64\n",
      "a      0.236625\n",
      "b      0.907888\n",
      "c      0.620888\n",
      "d      0.360470\n",
      "e      0.658794\n",
      "m    100.000000\n",
      "dtype: float64\n",
      "a      0.236625\n",
      "b      0.907888\n",
      "c      0.620888\n",
      "d      0.360470\n",
      "e      0.658794\n",
      "m    100.000000\n",
      "w      1.000000\n",
      "e      2.000000\n",
      "r      3.000000\n",
      "dtype: float64\n"
     ]
    }
   ],
   "source": [
    "# 添加\n",
    "s1 = pd.Series(np.random.rand(5), index = list('abcde'))\n",
    "s2 = pd.Series([1,2,3], index = ['w','e','r'])\n",
    "print(s1, s2)\n",
    "s1['m'] = 100\n",
    "print(s1)\n",
    "\n",
    "s3 = s1.append(s2)\n",
    "print(s3)"
   ]
  },
  {
   "cell_type": "markdown",
   "id": "ad1cf3db",
   "metadata": {},
   "source": [
    "# Dataframe基本概念及创建"
   ]
  },
  {
   "cell_type": "code",
   "execution_count": 16,
   "id": "f8160cd3",
   "metadata": {},
   "outputs": [],
   "source": [
    "# 创建dataframe"
   ]
  },
  {
   "cell_type": "code",
   "execution_count": 17,
   "id": "f84f5d37",
   "metadata": {},
   "outputs": [
    {
     "name": "stdout",
     "output_type": "stream",
     "text": [
      "    name  age gender\n",
      "0   jack   18      m\n",
      "1    tom   19      m\n",
      "2  marry   20      f\n",
      "<class 'pandas.core.frame.DataFrame'>\n",
      "RangeIndex(start=0, stop=3, step=1)\n",
      "Index(['name', 'age', 'gender'], dtype='object')\n",
      "[['jack' 18 'm']\n",
      " ['tom' 19 'm']\n",
      " ['marry' 20 'f']]\n"
     ]
    }
   ],
   "source": [
    "data = {\n",
    "    'name':['jack','tom','marry'],\n",
    "    'age':[18,19,20],\n",
    "    'gender':['m','m','f']\n",
    "}\n",
    "frame = pd.DataFrame(data)\n",
    "print(frame)\n",
    "print(type(frame))\n",
    "print(frame.index)\n",
    "print(frame.columns)\n",
    "print(frame.values)"
   ]
  },
  {
   "cell_type": "code",
   "execution_count": 18,
   "id": "6781e6b9",
   "metadata": {},
   "outputs": [
    {
     "name": "stdout",
     "output_type": "stream",
     "text": [
      "{'a': [1, 2, 3], 'b': [3, 4, 5], 'c': [5, 6, 7]}\n",
      "{'one': array([0.33186715, 0.45049646, 0.57541203]), 'two': array([0.73108042, 0.78541325, 0.14811496])}\n",
      "   a  b  c\n",
      "a  1  3  5\n",
      "b  2  4  6\n",
      "c  3  5  7\n",
      "        one       two\n",
      "0  0.331867  0.731080\n",
      "1  0.450496  0.785413\n",
      "2  0.575412  0.148115\n",
      "--------------------------------------------\n",
      "   a  b  c    d\n",
      "0  1  3  5  NaN\n",
      "1  2  4  6  NaN\n",
      "2  3  5  7  NaN\n",
      "   b  c\n",
      "0  3  5\n",
      "1  4  6\n",
      "2  5  7\n"
     ]
    }
   ],
   "source": [
    "# dataframe创建方法1，由数组或者list组成的字典,行列需要保持一致\n",
    "data1 = {'a':[1,2,3],\n",
    "        'b':[3,4,5],\n",
    "        'c':[5,6,7]}\n",
    "data2 = {'one':np.random.rand(3),\n",
    "        'two':np.random.rand(3)}    \n",
    "print(data1)\n",
    "print(data2)\n",
    "df1 = pd.DataFrame(data1, index = list('abc'))\n",
    "df2 = pd.DataFrame(data2)\n",
    "print(df1)\n",
    "print(df2)\n",
    "print('--------------------------------------------')\n",
    "df1 = pd.DataFrame(data1, columns=['a','b','c','d'])   \n",
    "df2 = pd.DataFrame(data1, columns=['b','c'])\n",
    "print(df1)\n",
    "print(df2)"
   ]
  },
  {
   "cell_type": "code",
   "execution_count": 19,
   "id": "1482e8e0",
   "metadata": {},
   "outputs": [
    {
     "name": "stdout",
     "output_type": "stream",
     "text": [
      "[[0.64589771 0.76928951 0.01681971]\n",
      " [0.28541003 0.77355782 0.65787579]\n",
      " [0.65015962 0.53014779 0.42642407]]\n",
      "        one       two     three\n",
      "a  0.645898  0.769290  0.016820\n",
      "b  0.285410  0.773558  0.657876\n",
      "c  0.650160  0.530148  0.426424\n"
     ]
    }
   ],
   "source": [
    "# 通过二维数组直接创建\n",
    "ar = np.random.rand(9).reshape(3,3)\n",
    "print(ar)\n",
    "df1 = pd.DataFrame(ar, index = ['a','b','c'], columns= ['one','two','three'])\n",
    "print(df1)"
   ]
  },
  {
   "cell_type": "code",
   "execution_count": 20,
   "id": "a22ade84",
   "metadata": {},
   "outputs": [
    {
     "data": {
      "text/html": [
       "<div>\n",
       "<style scoped>\n",
       "    .dataframe tbody tr th:only-of-type {\n",
       "        vertical-align: middle;\n",
       "    }\n",
       "\n",
       "    .dataframe tbody tr th {\n",
       "        vertical-align: top;\n",
       "    }\n",
       "\n",
       "    .dataframe thead th {\n",
       "        text-align: right;\n",
       "    }\n",
       "</style>\n",
       "<table border=\"1\" class=\"dataframe\">\n",
       "  <thead>\n",
       "    <tr style=\"text-align: right;\">\n",
       "      <th></th>\n",
       "      <th>one</th>\n",
       "      <th>two</th>\n",
       "      <th>three</th>\n",
       "    </tr>\n",
       "  </thead>\n",
       "  <tbody>\n",
       "    <tr>\n",
       "      <th>0</th>\n",
       "      <td>1</td>\n",
       "      <td>2</td>\n",
       "      <td>NaN</td>\n",
       "    </tr>\n",
       "    <tr>\n",
       "      <th>1</th>\n",
       "      <td>3</td>\n",
       "      <td>4</td>\n",
       "      <td>5.0</td>\n",
       "    </tr>\n",
       "  </tbody>\n",
       "</table>\n",
       "</div>"
      ],
      "text/plain": [
       "   one  two  three\n",
       "0    1    2    NaN\n",
       "1    3    4    5.0"
      ]
     },
     "execution_count": 20,
     "metadata": {},
     "output_type": "execute_result"
    }
   ],
   "source": [
    "# 由字典组成的列表生成, 列表里每一个字典都是一行数据\n",
    "dic = [{'one':1, 'two':2}, {\"one\":3, \"two\":4, \"three\":5}]\n",
    "df = pd.DataFrame(dic)\n",
    "df"
   ]
  },
  {
   "cell_type": "code",
   "execution_count": 21,
   "id": "336dddd2",
   "metadata": {},
   "outputs": [
    {
     "data": {
      "text/html": [
       "<div>\n",
       "<style scoped>\n",
       "    .dataframe tbody tr th:only-of-type {\n",
       "        vertical-align: middle;\n",
       "    }\n",
       "\n",
       "    .dataframe tbody tr th {\n",
       "        vertical-align: top;\n",
       "    }\n",
       "\n",
       "    .dataframe thead th {\n",
       "        text-align: right;\n",
       "    }\n",
       "</style>\n",
       "<table border=\"1\" class=\"dataframe\">\n",
       "  <thead>\n",
       "    <tr style=\"text-align: right;\">\n",
       "      <th></th>\n",
       "      <th>jack</th>\n",
       "      <th>bob</th>\n",
       "      <th>marry</th>\n",
       "    </tr>\n",
       "  </thead>\n",
       "  <tbody>\n",
       "    <tr>\n",
       "      <th>math</th>\n",
       "      <td>90</td>\n",
       "      <td>90</td>\n",
       "      <td>90</td>\n",
       "    </tr>\n",
       "    <tr>\n",
       "      <th>eng</th>\n",
       "      <td>100</td>\n",
       "      <td>89</td>\n",
       "      <td>87</td>\n",
       "    </tr>\n",
       "    <tr>\n",
       "      <th>art</th>\n",
       "      <td>100</td>\n",
       "      <td>99</td>\n",
       "      <td>78</td>\n",
       "    </tr>\n",
       "  </tbody>\n",
       "</table>\n",
       "</div>"
      ],
      "text/plain": [
       "      jack  bob  marry\n",
       "math    90   90     90\n",
       "eng    100   89     87\n",
       "art    100   99     78"
      ]
     },
     "execution_count": 21,
     "metadata": {},
     "output_type": "execute_result"
    }
   ],
   "source": [
    "# 由字典组成的字典, 第一层key会变成columns，第二层key会变成index\n",
    "data = {\n",
    "    'jack':{'math':90, 'eng':100, 'art':100},\n",
    "    'bob':{'math':90, 'eng':89, 'art':99},\n",
    "    'marry':{'math':90, 'eng':87, 'art':78}\n",
    "}\n",
    "df = pd.DataFrame(data)\n",
    "df"
   ]
  },
  {
   "cell_type": "markdown",
   "id": "c6061888",
   "metadata": {},
   "source": [
    "# Dataframe的索引"
   ]
  },
  {
   "cell_type": "code",
   "execution_count": 22,
   "id": "f195d300",
   "metadata": {},
   "outputs": [
    {
     "name": "stdout",
     "output_type": "stream",
     "text": [
      "               a          b          c          d\n",
      "one    59.464747  53.566742  81.556387  96.249826\n",
      "two    97.052670  50.908406  80.905425  40.341066\n",
      "three  91.228230  71.307045  76.841470  94.049859\n",
      "-----------------------------\n",
      "one      59.464747\n",
      "two      97.052670\n",
      "three    91.228230\n",
      "Name: a, dtype: float64\n",
      "               a\n",
      "one    59.464747\n",
      "two    97.052670\n",
      "three  91.228230\n",
      "               a          b\n",
      "one    59.464747  53.566742\n",
      "two    97.052670  50.908406\n",
      "three  91.228230  71.307045\n",
      "-------------------------\n",
      "a    59.464747\n",
      "b    53.566742\n",
      "c    81.556387\n",
      "d    96.249826\n",
      "Name: one, dtype: float64\n",
      "             a          b          c          d\n",
      "one  59.464747  53.566742  81.556387  96.249826\n",
      "              a          b          c          d\n",
      "three  91.22823  71.307045  76.841470  94.049859\n",
      "two    97.05267  50.908406  80.905425  40.341066\n"
     ]
    },
    {
     "data": {
      "text/html": [
       "<div>\n",
       "<style scoped>\n",
       "    .dataframe tbody tr th:only-of-type {\n",
       "        vertical-align: middle;\n",
       "    }\n",
       "\n",
       "    .dataframe tbody tr th {\n",
       "        vertical-align: top;\n",
       "    }\n",
       "\n",
       "    .dataframe thead th {\n",
       "        text-align: right;\n",
       "    }\n",
       "</style>\n",
       "<table border=\"1\" class=\"dataframe\">\n",
       "  <thead>\n",
       "    <tr style=\"text-align: right;\">\n",
       "      <th></th>\n",
       "      <th>a</th>\n",
       "      <th>b</th>\n",
       "      <th>c</th>\n",
       "      <th>d</th>\n",
       "    </tr>\n",
       "  </thead>\n",
       "  <tbody>\n",
       "    <tr>\n",
       "      <th>one</th>\n",
       "      <td>59.464747</td>\n",
       "      <td>53.566742</td>\n",
       "      <td>81.556387</td>\n",
       "      <td>96.249826</td>\n",
       "    </tr>\n",
       "    <tr>\n",
       "      <th>two</th>\n",
       "      <td>97.052670</td>\n",
       "      <td>50.908406</td>\n",
       "      <td>80.905425</td>\n",
       "      <td>40.341066</td>\n",
       "    </tr>\n",
       "  </tbody>\n",
       "</table>\n",
       "</div>"
      ],
      "text/plain": [
       "             a          b          c          d\n",
       "one  59.464747  53.566742  81.556387  96.249826\n",
       "two  97.052670  50.908406  80.905425  40.341066"
      ]
     },
     "execution_count": 22,
     "metadata": {},
     "output_type": "execute_result"
    }
   ],
   "source": [
    "# 选择行与列\n",
    "df = pd.DataFrame(np.random.rand(12).reshape(3,4) *100,\n",
    "                 index = ['one','two','three'],\n",
    "                  columns = ['a','b','c','d']\n",
    "                 )\n",
    "print(df)\n",
    "print(\"-----------------------------\")\n",
    "data1 = df['a']  # 选择一列,这时返回的series\n",
    "data1_1 = df[['a']]  # 选择一列，这时返回的是dataframe\n",
    "data2 = df[['a','b']]  # 选择多列\n",
    "print(data1)\n",
    "print(data1_1)\n",
    "print(data2)\n",
    "print(\"-------------------------\")\n",
    "# 选择行\n",
    "data3 = df.loc['one']   # 选择一行，这时返回的是series\n",
    "data3_1 = df.loc[['one']]  # 选择一行，这时返回的是dataframe\n",
    "data4 = df.loc[['three','two']]  # 选择多行\n",
    "print(data3)\n",
    "print(data3_1)\n",
    "print(data4)\n",
    "\n",
    "# 切片\n",
    "df[:2]  # 这时候索引的是行，而不是列  ， 但为避免混淆这种方式不建议用，索引行还是用.loc吧"
   ]
  },
  {
   "cell_type": "code",
   "execution_count": 23,
   "id": "ca5e0a27",
   "metadata": {},
   "outputs": [
    {
     "name": "stdout",
     "output_type": "stream",
     "text": [
      "               a          b          c          d\n",
      "one     4.263024  15.002120  95.587692  84.068806\n",
      "two    40.438848   4.007341  90.635682  97.116234\n",
      "three  87.901398  53.158255  36.128731  57.784200\n",
      "               a          b          c          d\n",
      "one     4.263024  15.002120  95.587692  84.068806\n",
      "three  87.901398  53.158255  36.128731  57.784200\n",
      "               a          b          c          d\n",
      "one     4.263024  15.002120  95.587692  84.068806\n",
      "two    40.438848   4.007341  90.635682  97.116234\n",
      "three  87.901398  53.158255  36.128731  57.784200\n",
      "               a          b\n",
      "one     4.263024  15.002120\n",
      "three  87.901398  53.158255\n"
     ]
    }
   ],
   "source": [
    "# .loc按照标签索引\n",
    "df = pd.DataFrame(np.random.rand(12).reshape(3,4) *100,\n",
    "                 index = ['one','two','three'],\n",
    "                  columns = ['a','b','c','d']\n",
    "                 )\n",
    "print(df)\n",
    "print(df.loc[['one','three']])\n",
    "print(df.loc['one':'three'])   # 默认索引行哦\n",
    "print(df.loc[['one','three'], ['a','b']])   # 索引行和列"
   ]
  },
  {
   "cell_type": "code",
   "execution_count": 24,
   "id": "f617bef2",
   "metadata": {},
   "outputs": [
    {
     "name": "stdout",
     "output_type": "stream",
     "text": [
      "               a          b          c          d\n",
      "one    82.030846  19.799993  68.627759  77.544548\n",
      "two    64.303016  52.401617   4.164134  43.068672\n",
      "three  58.652272   2.170909  18.576406  86.979753\n",
      "a    82.030846\n",
      "b    19.799993\n",
      "c    68.627759\n",
      "d    77.544548\n",
      "Name: one, dtype: float64\n",
      "a    58.652272\n",
      "b     2.170909\n",
      "c    18.576406\n",
      "d    86.979753\n",
      "Name: three, dtype: float64\n",
      "b    19.799993\n",
      "c    68.627759\n",
      "Name: one, dtype: float64\n"
     ]
    },
    {
     "data": {
      "text/html": [
       "<div>\n",
       "<style scoped>\n",
       "    .dataframe tbody tr th:only-of-type {\n",
       "        vertical-align: middle;\n",
       "    }\n",
       "\n",
       "    .dataframe tbody tr th {\n",
       "        vertical-align: top;\n",
       "    }\n",
       "\n",
       "    .dataframe thead th {\n",
       "        text-align: right;\n",
       "    }\n",
       "</style>\n",
       "<table border=\"1\" class=\"dataframe\">\n",
       "  <thead>\n",
       "    <tr style=\"text-align: right;\">\n",
       "      <th></th>\n",
       "      <th>a</th>\n",
       "      <th>b</th>\n",
       "      <th>c</th>\n",
       "      <th>d</th>\n",
       "    </tr>\n",
       "  </thead>\n",
       "  <tbody>\n",
       "    <tr>\n",
       "      <th>one</th>\n",
       "      <td>82.030846</td>\n",
       "      <td>19.799993</td>\n",
       "      <td>68.627759</td>\n",
       "      <td>77.544548</td>\n",
       "    </tr>\n",
       "  </tbody>\n",
       "</table>\n",
       "</div>"
      ],
      "text/plain": [
       "             a          b          c          d\n",
       "one  82.030846  19.799993  68.627759  77.544548"
      ]
     },
     "execution_count": 24,
     "metadata": {},
     "output_type": "execute_result"
    }
   ],
   "source": [
    "# 按照整数位置索引 .iloc\n",
    "df = pd.DataFrame(np.random.rand(12).reshape(3,4) *100,\n",
    "                 index = ['one','two','three'],\n",
    "                  columns = ['a','b','c','d']\n",
    "                 )\n",
    "print(df)\n",
    "print(df.iloc[0])  # 第一行\n",
    "print(df.iloc[-1])  # 最后一行\n",
    "print(df.iloc[0, 1:3])   # 行列都加索引\n",
    "df.iloc[[0]]\n",
    "\n",
    "# 所以，在对dataframe进行索引的时候，最好只用loc和iloc方法"
   ]
  },
  {
   "cell_type": "code",
   "execution_count": 25,
   "id": "aa511405",
   "metadata": {},
   "outputs": [
    {
     "name": "stdout",
     "output_type": "stream",
     "text": [
      "        a          b          c   d\n",
      "one   NaN  19.799993        NaN NaN\n",
      "two   NaN        NaN   4.164134 NaN\n",
      "three NaN   2.170909  18.576406 NaN\n",
      "               a          b          c          d\n",
      "one    82.030846  19.799993  68.627759  77.544548\n",
      "two    64.303016  52.401617   4.164134  43.068672\n",
      "three  58.652272   2.170909  18.576406  86.979753\n",
      "             a          b          c          d\n",
      "one  82.030846  19.799993  68.627759  77.544548\n"
     ]
    }
   ],
   "source": [
    "# 布尔型索引\n",
    "df <20\n",
    "print(df[df<20])\n",
    "print(df[df['a']>20])\n",
    "print(df[(df['a']>20) & (df['c']>50)])"
   ]
  },
  {
   "cell_type": "markdown",
   "id": "74ecccf1",
   "metadata": {},
   "source": [
    "# dataframe基本技巧"
   ]
  },
  {
   "cell_type": "code",
   "execution_count": 26,
   "id": "e7ef3150",
   "metadata": {},
   "outputs": [
    {
     "name": "stdout",
     "output_type": "stream",
     "text": [
      "          a         b\n",
      "0  0.135706  0.124121\n",
      "1  0.368092  0.101623\n",
      "          0         1         2         3         4         5         6  \\\n",
      "a  0.135706  0.368092  0.261347  0.391935  0.912677  0.932882  0.220915   \n",
      "b  0.124121  0.101623  0.239317  0.908529  0.462720  0.889670  0.242060   \n",
      "\n",
      "          7  \n",
      "a  0.271133  \n",
      "b  0.774895  \n"
     ]
    }
   ],
   "source": [
    "# 数据查看、转置\n",
    "df = pd.DataFrame(np.random.rand(16).reshape(8,2),\n",
    "                 columns= ['a','b']\n",
    "                 )\n",
    "print(df.head(2))\n",
    "print(df.T)\n"
   ]
  },
  {
   "cell_type": "code",
   "execution_count": 27,
   "id": "8075006e",
   "metadata": {},
   "outputs": [
    {
     "data": {
      "text/html": [
       "<div>\n",
       "<style scoped>\n",
       "    .dataframe tbody tr th:only-of-type {\n",
       "        vertical-align: middle;\n",
       "    }\n",
       "\n",
       "    .dataframe tbody tr th {\n",
       "        vertical-align: top;\n",
       "    }\n",
       "\n",
       "    .dataframe thead th {\n",
       "        text-align: right;\n",
       "    }\n",
       "</style>\n",
       "<table border=\"1\" class=\"dataframe\">\n",
       "  <thead>\n",
       "    <tr style=\"text-align: right;\">\n",
       "      <th></th>\n",
       "      <th>a</th>\n",
       "      <th>b</th>\n",
       "    </tr>\n",
       "  </thead>\n",
       "  <tbody>\n",
       "    <tr>\n",
       "      <th>1</th>\n",
       "      <td>0.162641</td>\n",
       "      <td>0.674371</td>\n",
       "    </tr>\n",
       "    <tr>\n",
       "      <th>2</th>\n",
       "      <td>0.924912</td>\n",
       "      <td>0.066776</td>\n",
       "    </tr>\n",
       "    <tr>\n",
       "      <th>3</th>\n",
       "      <td>0.694119</td>\n",
       "      <td>0.535694</td>\n",
       "    </tr>\n",
       "    <tr>\n",
       "      <th>4</th>\n",
       "      <td>0.085521</td>\n",
       "      <td>0.031549</td>\n",
       "    </tr>\n",
       "    <tr>\n",
       "      <th>5</th>\n",
       "      <td>0.751804</td>\n",
       "      <td>0.529314</td>\n",
       "    </tr>\n",
       "    <tr>\n",
       "      <th>6</th>\n",
       "      <td>0.700514</td>\n",
       "      <td>0.013702</td>\n",
       "    </tr>\n",
       "    <tr>\n",
       "      <th>7</th>\n",
       "      <td>0.445913</td>\n",
       "      <td>0.745637</td>\n",
       "    </tr>\n",
       "  </tbody>\n",
       "</table>\n",
       "</div>"
      ],
      "text/plain": [
       "          a         b\n",
       "1  0.162641  0.674371\n",
       "2  0.924912  0.066776\n",
       "3  0.694119  0.535694\n",
       "4  0.085521  0.031549\n",
       "5  0.751804  0.529314\n",
       "6  0.700514  0.013702\n",
       "7  0.445913  0.745637"
      ]
     },
     "execution_count": 27,
     "metadata": {},
     "output_type": "execute_result"
    }
   ],
   "source": [
    "# 删除\n",
    "df = pd.DataFrame(np.random.rand(16).reshape(8,2),\n",
    "                 columns= ['a','b']\n",
    "                 )\n",
    "df\n",
    "del df['a']   # 删除列\n",
    "df\n",
    "df = pd.DataFrame(np.random.rand(16).reshape(8,2),\n",
    "                 columns= ['a','b']\n",
    "                 )\n",
    "df.drop(0)    # 删除行"
   ]
  },
  {
   "cell_type": "code",
   "execution_count": 28,
   "id": "60ac056b",
   "metadata": {},
   "outputs": [
    {
     "name": "stdout",
     "output_type": "stream",
     "text": [
      "           a          b          c          d\n",
      "0  21.178339  20.258686  75.441898   2.843136\n",
      "1  66.777176  19.350500  73.532552  23.248276\n",
      "2  83.219395  31.264318  38.987160  64.172002\n",
      "3  58.611945  38.456600  79.236644  49.978197\n",
      "           a          b          c          d\n",
      "2  83.219395  31.264318  38.987160  64.172002\n",
      "1  66.777176  19.350500  73.532552  23.248276\n",
      "3  58.611945  38.456600  79.236644  49.978197\n",
      "0  21.178339  20.258686  75.441898   2.843136\n",
      "           a          b          c          d\n",
      "2  83.219395  31.264318  38.987160  64.172002\n",
      "1  66.777176  19.350500  73.532552  23.248276\n",
      "3  58.611945  38.456600  79.236644  49.978197\n",
      "0  21.178339  20.258686  75.441898   2.843136\n"
     ]
    }
   ],
   "source": [
    "# 排序\n",
    "# 按值排序\n",
    "df = pd.DataFrame(np.random.rand(16).reshape(4,4)*100,\n",
    "                 columns = list('abcd')\n",
    "                 )\n",
    "print(df)\n",
    "print(df.sort_values(['a'], ascending= False))\n",
    "print(df.sort_values(['a','c'], ascending= [False,True]))\n"
   ]
  },
  {
   "cell_type": "code",
   "execution_count": 29,
   "id": "f158d507",
   "metadata": {},
   "outputs": [
    {
     "name": "stdout",
     "output_type": "stream",
     "text": [
      "           a          b          c          d\n",
      "0  50.274661  26.123795  83.006790  81.791103\n",
      "1  14.856253  99.667816  55.078776  65.592128\n",
      "2  17.309437  42.512735  94.828529  54.414493\n",
      "3  40.281286  77.680270  72.639499  62.642820\n",
      "           a          b          c          d\n",
      "3  40.281286  77.680270  72.639499  62.642820\n",
      "2  17.309437  42.512735  94.828529  54.414493\n",
      "1  14.856253  99.667816  55.078776  65.592128\n",
      "0  50.274661  26.123795  83.006790  81.791103\n"
     ]
    }
   ],
   "source": [
    "# 按索引排序\n",
    "df = pd.DataFrame(np.random.rand(16).reshape(4,4)*100,\n",
    "                 columns = list('abcd')\n",
    "                 )\n",
    "print(df)\n",
    "print(df.sort_index(ascending=False))"
   ]
  },
  {
   "cell_type": "markdown",
   "id": "34a906c1",
   "metadata": {},
   "source": [
    "# 时间模块"
   ]
  },
  {
   "cell_type": "code",
   "execution_count": 30,
   "id": "8ec53c6c",
   "metadata": {},
   "outputs": [],
   "source": [
    "# 主要用到的函数 datetime.date(),  datetime.datetimes(), datetime.timedelta)_\n",
    "import datetime\n",
    "import numpy as np\n",
    "import pandas as pd"
   ]
  },
  {
   "cell_type": "code",
   "execution_count": 31,
   "id": "ae290eb6",
   "metadata": {},
   "outputs": [
    {
     "name": "stdout",
     "output_type": "stream",
     "text": [
      "2021-12-02 <class 'datetime.date'>\n"
     ]
    }
   ],
   "source": [
    "today = datetime.date.today()   # 返回今日日期\n",
    "print(today, type(today))"
   ]
  },
  {
   "cell_type": "code",
   "execution_count": 32,
   "id": "95b94e30",
   "metadata": {},
   "outputs": [
    {
     "name": "stdout",
     "output_type": "stream",
     "text": [
      "2021-12-02 21:47:04.390059 <class 'datetime.datetime'>\n",
      "-20 days, 0:00:00 <class 'datetime.timedelta'>\n"
     ]
    }
   ],
   "source": [
    "# datetime.datetime()\n",
    "now = datetime.datetime.now()\n",
    "print(now, type(now))\n",
    "\n",
    "t1 = datetime.datetime(2021, 1,1)\n",
    "t2 = datetime.datetime(2021,1,21)\n",
    "print(t1-t2, type(t1-t2))"
   ]
  },
  {
   "cell_type": "code",
   "execution_count": 33,
   "id": "2dd02f3e",
   "metadata": {},
   "outputs": [
    {
     "name": "stdout",
     "output_type": "stream",
     "text": [
      "2001-01-09 01:00:00\n",
      "2000-06-22 23:00:00\n"
     ]
    }
   ],
   "source": [
    "# datetime.timedelta 时间差\n",
    "t1= datetime.datetime(2000,10,1)\n",
    "tx = datetime.timedelta(100, 3600)   # 100是天，3600是秒\n",
    "print(t1 + tx)\n",
    "print(t1-tx)"
   ]
  },
  {
   "cell_type": "code",
   "execution_count": 34,
   "id": "3b2c1358",
   "metadata": {},
   "outputs": [
    {
     "name": "stdout",
     "output_type": "stream",
     "text": [
      "2017-12-21 00:00:00 <class 'datetime.datetime'>\n"
     ]
    }
   ],
   "source": [
    "# 日期与文本转换 parser.parse\n",
    "from dateutil.parser import parse\n",
    "date1 = '12/21/2017'\n",
    "date2 = '21/12/2017'\n",
    "print(parse(date1), type(parse(date1)))"
   ]
  },
  {
   "cell_type": "code",
   "execution_count": 35,
   "id": "04e16210",
   "metadata": {},
   "outputs": [
    {
     "data": {
      "text/plain": [
       "'2021-12-02'"
      ]
     },
     "execution_count": 35,
     "metadata": {},
     "output_type": "execute_result"
    }
   ],
   "source": [
    "# 日期格式转换\n",
    "datetime.datetime.now().strftime('%Y-%m-%d')"
   ]
  },
  {
   "cell_type": "markdown",
   "id": "eee2809e",
   "metadata": {},
   "source": [
    "# 时刻数据"
   ]
  },
  {
   "cell_type": "code",
   "execution_count": 36,
   "id": "9b736492",
   "metadata": {},
   "outputs": [],
   "source": [
    "import numpy as np\n",
    "import pandas as pd\n",
    "import datetime"
   ]
  },
  {
   "cell_type": "code",
   "execution_count": 37,
   "id": "6e71bc2e",
   "metadata": {},
   "outputs": [
    {
     "name": "stdout",
     "output_type": "stream",
     "text": [
      "2017-01-01 00:00:00 <class 'pandas._libs.tslibs.timestamps.Timestamp'>\n",
      "2016-10-01 15:00:00 <class 'pandas._libs.tslibs.timestamps.Timestamp'>\n"
     ]
    }
   ],
   "source": [
    "# pd.Timestamp\n",
    "date1 = '20170101'\n",
    "date2 = datetime.datetime(2016, 10, 1,15)\n",
    "t1 = pd.Timestamp(date1)\n",
    "t2 = pd.Timestamp(date2)\n",
    "print(t1, type(t1))\n",
    "print(t2, type(t2))"
   ]
  },
  {
   "cell_type": "code",
   "execution_count": 38,
   "id": "e9e77a03",
   "metadata": {},
   "outputs": [
    {
     "name": "stdout",
     "output_type": "stream",
     "text": [
      "2017-01-01 00:00:00 <class 'pandas._libs.tslibs.timestamps.Timestamp'>\n",
      "2016-10-01 15:00:00 <class 'pandas._libs.tslibs.timestamps.Timestamp'>\n"
     ]
    }
   ],
   "source": [
    "# pd.to_datetime\n",
    "date1 = '20170101'\n",
    "date2 = datetime.datetime(2016, 10, 1,15)\n",
    "t1 = pd.to_datetime(date1)\n",
    "t2 = pd.to_datetime(date2)\n",
    "print(t1, type(t1))\n",
    "print(t2, type(t2))"
   ]
  },
  {
   "cell_type": "code",
   "execution_count": 39,
   "id": "76dabf6b",
   "metadata": {},
   "outputs": [
    {
     "name": "stdout",
     "output_type": "stream",
     "text": [
      "Index(['2021-10-01', '2021-10-02', '2021-10-03', 'hhh'], dtype='object')\n",
      "DatetimeIndex(['2021-10-01', '2021-10-02', '2021-10-03', 'NaT'], dtype='datetime64[ns]', freq=None)\n",
      "DatetimeIndex(['2021-10-01', '2021-10-02', '2021-10-03'], dtype='datetime64[ns]', freq=None)\n"
     ]
    }
   ],
   "source": [
    "# 当传入一个时间列表时，将会变成一个时间序列\n",
    "date1 = ['2021-10-01', '2021-10-02','2021-10-03', 'hhh']\n",
    "t1 = pd.to_datetime(date1, errors= 'ignore')   # 忽略错误，直接返回index\n",
    "t1_1 = pd.to_datetime(date1, errors= 'coerce')   # 把错误值变成缺失值，返回 datetimeindex\n",
    "print(t1)\n",
    "print(t1_1)\n",
    "\n",
    "\n",
    "date2 = ['2021-10-01', '2021-10-02','2021-10-03']\n",
    "t2 = pd.to_datetime(date2)\n",
    "print(t2)"
   ]
  },
  {
   "cell_type": "code",
   "execution_count": 40,
   "id": "2c8f299c",
   "metadata": {},
   "outputs": [
    {
     "data": {
      "text/plain": [
       "Timestamp('2021-10-16 00:00:00')"
      ]
     },
     "execution_count": 40,
     "metadata": {},
     "output_type": "execute_result"
    }
   ],
   "source": [
    "lst = []\n",
    "\n",
    "for i in range(1,32):\n",
    "    tt = '2021-10-' + str(i)\n",
    "    lst.append(tt)\n",
    "lst\n",
    "t1 = pd.to_datetime(lst)\n",
    "t1[15]"
   ]
  },
  {
   "cell_type": "markdown",
   "id": "f1dad207",
   "metadata": {},
   "source": [
    "# 时间戳索引"
   ]
  },
  {
   "cell_type": "code",
   "execution_count": 41,
   "id": "87c900da",
   "metadata": {},
   "outputs": [],
   "source": [
    "import numpy as np\n",
    "import pandas as pd\n",
    "import datetime\n",
    "# 核心 pd.date_range()"
   ]
  },
  {
   "cell_type": "code",
   "execution_count": 42,
   "id": "153abf1f",
   "metadata": {},
   "outputs": [
    {
     "data": {
      "text/plain": [
       "pandas.core.series.Series"
      ]
     },
     "execution_count": 42,
     "metadata": {},
     "output_type": "execute_result"
    }
   ],
   "source": [
    "# datetimeIndex,  timeseries\n",
    "rng = pd.DatetimeIndex(['2021-10-01', '2021-10-02','2021-10-03', '2021-10-04','2021-10-05'])\n",
    "st = pd.Series(np.random.rand(5), \n",
    "              index = rng\n",
    "              )\n",
    "type(st)"
   ]
  },
  {
   "cell_type": "code",
   "execution_count": 43,
   "id": "2684f00d",
   "metadata": {},
   "outputs": [
    {
     "name": "stdout",
     "output_type": "stream",
     "text": [
      "DatetimeIndex(['2021-01-01', '2021-01-02', '2021-01-03', '2021-01-04',\n",
      "               '2021-01-05', '2021-01-06', '2021-01-07', '2021-01-08',\n",
      "               '2021-01-09', '2021-01-10'],\n",
      "              dtype='datetime64[ns]', freq='D') DatetimeIndex(['2021-01-01', '2021-01-02', '2021-01-03', '2021-01-04',\n",
      "               '2021-01-05', '2021-01-06', '2021-01-07', '2021-01-08',\n",
      "               '2021-01-09', '2021-01-10'],\n",
      "              dtype='datetime64[ns]', freq='D') DatetimeIndex(['2021-01-01', '2021-01-02', '2021-01-03', '2021-01-04',\n",
      "               '2021-01-05', '2021-01-06', '2021-01-07', '2021-01-08',\n",
      "               '2021-01-09', '2021-01-10'],\n",
      "              dtype='datetime64[ns]', freq='D')\n"
     ]
    }
   ],
   "source": [
    "# 日期生成  pd.date_range\n",
    "rng1 = pd.date_range('2021/01/01','2021/01/10', normalize= True)  # normalize把时间归到凌晨零点\n",
    "rng2 = pd.date_range('2021/1/1', periods= 10)\n",
    "rng3 = pd.date_range(end = '2021/1/10', periods= 10)  # freq参数默认是‘D’天\n",
    "print(rng1, rng2, rng3)"
   ]
  },
  {
   "cell_type": "code",
   "execution_count": 44,
   "id": "8f8561c1",
   "metadata": {},
   "outputs": [
    {
     "data": {
      "text/plain": [
       "DatetimeIndex(['2021-01-01', '2021-01-04', '2021-01-05', '2021-01-06',\n",
       "               '2021-01-07', '2021-01-08'],\n",
       "              dtype='datetime64[ns]', freq='B')"
      ]
     },
     "execution_count": 44,
     "metadata": {},
     "output_type": "execute_result"
    }
   ],
   "source": [
    "pd.bdate_range('2021-01-01','2021-01-10')   # 只显示工作日"
   ]
  },
  {
   "cell_type": "code",
   "execution_count": 45,
   "id": "15e21510",
   "metadata": {},
   "outputs": [],
   "source": [
    "# Freq参数的含义\n",
    "# D  天\n",
    "# B 每工作日\n",
    "# H 每小时\n",
    "# T 每分钟\n",
    "# S 每秒\n",
    "# L 每毫秒\n",
    "# U 每微秒\n",
    "# W-MON  每周的星期一\n",
    "# WOM-2MON 每个月的第二个星期一\n",
    "# …… 还有还多，需要手动探索"
   ]
  },
  {
   "cell_type": "code",
   "execution_count": 46,
   "id": "bb3691cc",
   "metadata": {},
   "outputs": [
    {
     "name": "stdout",
     "output_type": "stream",
     "text": [
      "2021-01-01    0.144589\n",
      "2021-01-02    0.348657\n",
      "2021-01-03    0.282218\n",
      "2021-01-04    0.702608\n",
      "2021-01-05    0.481673\n",
      "Freq: D, dtype: float64\n",
      "2021-01-01 00:00:00    0.144589\n",
      "2021-01-01 04:00:00    0.144589\n",
      "2021-01-01 08:00:00    0.144589\n",
      "2021-01-01 12:00:00    0.144589\n",
      "2021-01-01 16:00:00    0.144589\n",
      "2021-01-01 20:00:00    0.144589\n",
      "2021-01-02 00:00:00    0.348657\n",
      "2021-01-02 04:00:00    0.348657\n",
      "2021-01-02 08:00:00    0.348657\n",
      "2021-01-02 12:00:00    0.348657\n",
      "2021-01-02 16:00:00    0.348657\n",
      "2021-01-02 20:00:00    0.348657\n",
      "2021-01-03 00:00:00    0.282218\n",
      "2021-01-03 04:00:00    0.282218\n",
      "2021-01-03 08:00:00    0.282218\n",
      "2021-01-03 12:00:00    0.282218\n",
      "2021-01-03 16:00:00    0.282218\n",
      "2021-01-03 20:00:00    0.282218\n",
      "2021-01-04 00:00:00    0.702608\n",
      "2021-01-04 04:00:00    0.702608\n",
      "2021-01-04 08:00:00    0.702608\n",
      "2021-01-04 12:00:00    0.702608\n",
      "2021-01-04 16:00:00    0.702608\n",
      "2021-01-04 20:00:00    0.702608\n",
      "2021-01-05 00:00:00    0.481673\n",
      "Freq: 4H, dtype: float64\n"
     ]
    }
   ],
   "source": [
    "# asfreq时间频率转换\n",
    "ts = pd.Series(np.random.rand(5),\n",
    "              index =pd.date_range('2021/1/1', periods=5))\n",
    "print(ts)\n",
    "print(ts.asfreq('4H', method='ffill'))   # 转换成4个小时一次"
   ]
  },
  {
   "cell_type": "code",
   "execution_count": 47,
   "id": "9643e852",
   "metadata": {},
   "outputs": [
    {
     "name": "stdout",
     "output_type": "stream",
     "text": [
      "2021-01-01    0.375299\n",
      "2021-01-02    0.472630\n",
      "2021-01-03    0.867585\n",
      "2021-01-04    0.737084\n",
      "2021-01-05    0.008125\n",
      "Freq: D, dtype: float64\n",
      "2021-01-01         NaN\n",
      "2021-01-02    0.375299\n",
      "2021-01-03    0.472630\n",
      "2021-01-04    0.867585\n",
      "2021-01-05    0.737084\n",
      "Freq: D, dtype: float64\n",
      "2021-01-01    0.472630\n",
      "2021-01-02    0.867585\n",
      "2021-01-03    0.737084\n",
      "2021-01-04    0.008125\n",
      "2021-01-05         NaN\n",
      "Freq: D, dtype: float64\n",
      "2021-01-02    0.375299\n",
      "2021-01-03    0.472630\n",
      "2021-01-04    0.867585\n",
      "2021-01-05    0.737084\n",
      "2021-01-06    0.008125\n",
      "Freq: D, dtype: float64\n"
     ]
    }
   ],
   "source": [
    "# 日期数据平移 .shfit， 是个计算环比，同比的神器\n",
    "ts = pd.Series(np.random.rand(5),\n",
    "              index =pd.date_range('2021/1/1', periods=5))\n",
    "print(ts)\n",
    "print(ts.shift(1))\n",
    "print(ts.shift(-1))\n",
    "print(ts.shift(1, freq= \"D\"))   # 按日期平移"
   ]
  },
  {
   "cell_type": "markdown",
   "id": "ac024633",
   "metadata": {},
   "source": [
    "# 时期"
   ]
  },
  {
   "cell_type": "code",
   "execution_count": 48,
   "id": "9f0c2381",
   "metadata": {},
   "outputs": [],
   "source": [
    "# pd.Period\n",
    "# pd.period_range\n",
    "# 用法与pd.date_range()"
   ]
  },
  {
   "cell_type": "markdown",
   "id": "37fb3168",
   "metadata": {},
   "source": [
    "# 时间序列的索引与切片"
   ]
  },
  {
   "cell_type": "code",
   "execution_count": 49,
   "id": "90f08cd8",
   "metadata": {},
   "outputs": [
    {
     "name": "stdout",
     "output_type": "stream",
     "text": [
      "2017-01-01    0.742815\n",
      "2017-01-02    0.405468\n",
      "2017-01-03    0.979043\n",
      "2017-01-04    0.579695\n",
      "2017-01-05    0.056764\n",
      "Freq: D, dtype: float64\n",
      "------------------------------------------------------\n",
      "0.7428147649019661\n",
      "2017-01-01    0.742815\n",
      "2017-01-02    0.405468\n",
      "Freq: D, dtype: float64\n",
      "------------------------------------------------------------\n",
      "0.7428147649019661\n",
      "0.05676393127829027\n"
     ]
    }
   ],
   "source": [
    "# 索引\n",
    "from datetime import datetime\n",
    "rng = pd.date_range('2017/1','2017/3')\n",
    "ts = pd.Series(np.random.rand(len(rng)), index = rng)\n",
    "print(ts.head())\n",
    "print('------------------------------------------------------')\n",
    "print(ts[0])\n",
    "print(ts[:2])\n",
    "print(\"------------------------------------------------------------\")\n",
    "print(ts['20170101'])   # 时间序列的标签索引\n",
    "print(ts.loc['20170105'])   # 时间序列的索引"
   ]
  },
  {
   "cell_type": "code",
   "execution_count": 50,
   "id": "25bb5400",
   "metadata": {},
   "outputs": [
    {
     "name": "stdout",
     "output_type": "stream",
     "text": [
      "2017-01-01    0.742815\n",
      "2017-01-02    0.405468\n",
      "2017-01-03    0.979043\n",
      "2017-01-04    0.579695\n",
      "2017-01-05    0.056764\n",
      "Freq: D, dtype: float64\n",
      "2017-01-01    0.742815\n",
      "2017-01-02    0.405468\n",
      "2017-01-03    0.979043\n",
      "2017-01-04    0.579695\n",
      "2017-01-05    0.056764\n",
      "2017-01-06    0.069348\n",
      "2017-01-07    0.236302\n",
      "2017-01-08    0.867765\n",
      "2017-01-09    0.399654\n",
      "Freq: D, dtype: float64\n",
      "2017-01-01    0.742815\n",
      "2017-01-02    0.405468\n",
      "2017-01-03    0.979043\n",
      "2017-01-04    0.579695\n",
      "2017-01-05    0.056764\n",
      "2017-01-06    0.069348\n",
      "2017-01-07    0.236302\n",
      "2017-01-08    0.867765\n",
      "2017-01-09    0.399654\n",
      "2017-01-10    0.020087\n",
      "2017-01-11    0.761033\n",
      "2017-01-12    0.287959\n",
      "2017-01-13    0.863372\n",
      "2017-01-14    0.577327\n",
      "2017-01-15    0.974139\n",
      "2017-01-16    0.653929\n",
      "2017-01-17    0.786010\n",
      "2017-01-18    0.956817\n",
      "2017-01-19    0.182328\n",
      "2017-01-20    0.589650\n",
      "2017-01-21    0.566517\n",
      "2017-01-22    0.315131\n",
      "2017-01-23    0.783096\n",
      "2017-01-24    0.266576\n",
      "2017-01-25    0.112392\n",
      "2017-01-26    0.399262\n",
      "2017-01-27    0.498735\n",
      "2017-01-28    0.341483\n",
      "2017-01-29    0.215949\n",
      "2017-01-30    0.898089\n",
      "2017-01-31    0.455976\n",
      "Freq: D, dtype: float64\n"
     ]
    }
   ],
   "source": [
    "# 切片\n",
    "print(ts.head())\n",
    "print(ts.loc['20170101':'20170109'])\n",
    "print(ts.loc['2017-1'])   # 索引整个一月份数据"
   ]
  },
  {
   "cell_type": "markdown",
   "id": "9c707070",
   "metadata": {},
   "source": [
    "# 时间序列重采样"
   ]
  },
  {
   "cell_type": "code",
   "execution_count": 51,
   "id": "04c92513",
   "metadata": {},
   "outputs": [],
   "source": [
    "# 降采样\n",
    "# 升采样"
   ]
  },
  {
   "cell_type": "code",
   "execution_count": 52,
   "id": "1501470b",
   "metadata": {},
   "outputs": [
    {
     "name": "stdout",
     "output_type": "stream",
     "text": [
      "2017-01-01    0.928059\n",
      "2017-01-02    0.459823\n",
      "2017-01-03    0.484885\n",
      "2017-01-04    0.312629\n",
      "2017-01-05    0.686358\n",
      "2017-01-06    0.951114\n",
      "2017-01-07    0.780496\n",
      "2017-01-08    0.656226\n",
      "2017-01-09    0.442526\n",
      "2017-01-10    0.022492\n",
      "2017-01-11    0.720819\n",
      "2017-01-12    0.049470\n",
      "Freq: D, dtype: float64\n",
      "----------------------------------\n",
      "DatetimeIndexResampler [freq=<5 * Days>, axis=0, closed=left, label=left, convention=start, origin=start_day]\n",
      "2017-01-01    2.871753\n",
      "2017-01-06    2.852854\n",
      "2017-01-11    0.770289\n",
      "Freq: 5D, dtype: float64\n"
     ]
    }
   ],
   "source": [
    "rng = pd.date_range('20170101', periods=12)\n",
    "ts = pd.Series(np.random.rand(len(rng)), index = rng)\n",
    "print(ts)\n",
    "print(\"----------------------------------\")\n",
    "ts_re = ts.resample('5D')   # 5天重采样\n",
    "print(ts_re)\n",
    "print(ts_re.sum())"
   ]
  },
  {
   "cell_type": "code",
   "execution_count": 53,
   "id": "37511bd2",
   "metadata": {},
   "outputs": [],
   "source": [
    "# 升采样，降采样"
   ]
  },
  {
   "cell_type": "markdown",
   "id": "30daffe5",
   "metadata": {},
   "source": [
    "# 数值计算和统计基础"
   ]
  },
  {
   "cell_type": "code",
   "execution_count": 54,
   "id": "1f0b83ed",
   "metadata": {},
   "outputs": [],
   "source": [
    "# 常用数学、统计方法"
   ]
  },
  {
   "cell_type": "code",
   "execution_count": 55,
   "id": "e338ec5c",
   "metadata": {},
   "outputs": [],
   "source": [
    "import numpy as np\n",
    "import pandas as pd"
   ]
  },
  {
   "cell_type": "code",
   "execution_count": 56,
   "id": "00943233",
   "metadata": {},
   "outputs": [
    {
     "data": {
      "text/html": [
       "<div>\n",
       "<style scoped>\n",
       "    .dataframe tbody tr th:only-of-type {\n",
       "        vertical-align: middle;\n",
       "    }\n",
       "\n",
       "    .dataframe tbody tr th {\n",
       "        vertical-align: top;\n",
       "    }\n",
       "\n",
       "    .dataframe thead th {\n",
       "        text-align: right;\n",
       "    }\n",
       "</style>\n",
       "<table border=\"1\" class=\"dataframe\">\n",
       "  <thead>\n",
       "    <tr style=\"text-align: right;\">\n",
       "      <th></th>\n",
       "      <th>key1</th>\n",
       "      <th>key2</th>\n",
       "      <th>key3</th>\n",
       "    </tr>\n",
       "  </thead>\n",
       "  <tbody>\n",
       "    <tr>\n",
       "      <th>a</th>\n",
       "      <td>4.0</td>\n",
       "      <td>1.0</td>\n",
       "      <td>1</td>\n",
       "    </tr>\n",
       "    <tr>\n",
       "      <th>b</th>\n",
       "      <td>5.0</td>\n",
       "      <td>2.0</td>\n",
       "      <td>2</td>\n",
       "    </tr>\n",
       "    <tr>\n",
       "      <th>c</th>\n",
       "      <td>3.0</td>\n",
       "      <td>NaN</td>\n",
       "      <td>3</td>\n",
       "    </tr>\n",
       "    <tr>\n",
       "      <th>d</th>\n",
       "      <td>NaN</td>\n",
       "      <td>4.0</td>\n",
       "      <td>j</td>\n",
       "    </tr>\n",
       "    <tr>\n",
       "      <th>e</th>\n",
       "      <td>2.0</td>\n",
       "      <td>5.0</td>\n",
       "      <td>k</td>\n",
       "    </tr>\n",
       "  </tbody>\n",
       "</table>\n",
       "</div>"
      ],
      "text/plain": [
       "   key1  key2 key3\n",
       "a   4.0   1.0    1\n",
       "b   5.0   2.0    2\n",
       "c   3.0   NaN    3\n",
       "d   NaN   4.0    j\n",
       "e   2.0   5.0    k"
      ]
     },
     "execution_count": 56,
     "metadata": {},
     "output_type": "execute_result"
    }
   ],
   "source": [
    "dic = {\n",
    "    'key1':[4,5,3,np.nan,2],\n",
    "    'key2':[1,2,np.nan,4,5],\n",
    "    'key3':[1,2,3,'j','k']\n",
    "}\n",
    "df = pd.DataFrame(dic, index = list('abcde'))\n",
    "df"
   ]
  },
  {
   "cell_type": "code",
   "execution_count": 57,
   "id": "bf17824f",
   "metadata": {},
   "outputs": [
    {
     "name": "stdout",
     "output_type": "stream",
     "text": [
      "key1    3.5\n",
      "key2    3.0\n",
      "dtype: float64\n",
      "a    2.5\n",
      "b    3.5\n",
      "c    3.0\n",
      "d    4.0\n",
      "e    3.5\n",
      "dtype: float64\n",
      "a    2.5\n",
      "b    3.5\n",
      "c    NaN\n",
      "d    NaN\n",
      "e    3.5\n",
      "dtype: float64\n"
     ]
    },
    {
     "name": "stderr",
     "output_type": "stream",
     "text": [
      "C:\\Users\\Alvin\\Anaconda3\\lib\\site-packages\\ipykernel_launcher.py:2: FutureWarning: Dropping of nuisance columns in DataFrame reductions (with 'numeric_only=None') is deprecated; in a future version this will raise TypeError.  Select only valid columns before calling the reduction.\n",
      "  \n",
      "C:\\Users\\Alvin\\Anaconda3\\lib\\site-packages\\ipykernel_launcher.py:3: FutureWarning: Dropping of nuisance columns in DataFrame reductions (with 'numeric_only=None') is deprecated; in a future version this will raise TypeError.  Select only valid columns before calling the reduction.\n",
      "  This is separate from the ipykernel package so we can avoid doing imports until\n",
      "C:\\Users\\Alvin\\Anaconda3\\lib\\site-packages\\ipykernel_launcher.py:4: FutureWarning: Dropping of nuisance columns in DataFrame reductions (with 'numeric_only=None') is deprecated; in a future version this will raise TypeError.  Select only valid columns before calling the reduction.\n",
      "  after removing the cwd from sys.path.\n"
     ]
    }
   ],
   "source": [
    "#axis 和 skipna\n",
    "print(df.mean())\n",
    "print(df.mean(axis = 1))   # axis = 0,按列计算，axis= 按行计算\n",
    "print(df.mean(axis = 1, skipna= False))   # 默认过滤空值"
   ]
  },
  {
   "cell_type": "code",
   "execution_count": 58,
   "id": "0c4ad4e6",
   "metadata": {},
   "outputs": [
    {
     "name": "stdout",
     "output_type": "stream",
     "text": [
      "   key1      key2\n",
      "0     0  1.024219\n",
      "1     1  1.689004\n",
      "2     2  4.196590\n",
      "3     3  6.641237\n",
      "4     4  0.282550\n",
      "------------------------------\n",
      "key1    10\n",
      "key2    10\n",
      "dtype: int64\n",
      "key1    0.00000\n",
      "key2    0.28255\n",
      "dtype: float64\n",
      "key1    9.000000\n",
      "key2    6.659035\n",
      "dtype: float64\n",
      "key1    6.750000\n",
      "key2    5.839401\n",
      "Name: 0.75, dtype: float64\n",
      "key1    4.500000\n",
      "key2    3.633176\n",
      "dtype: float64 key1    4.500000\n",
      "key2    3.670538\n",
      "dtype: float64\n",
      "key1    3.02765\n",
      "key2    2.38590\n",
      "dtype: float64 key1    9.166667\n",
      "key2    5.692521\n",
      "dtype: float64\n",
      "key1    0.000000\n",
      "key2    0.071141\n",
      "dtype: float64\n",
      "key1   -1.200000\n",
      "key2   -1.565171\n",
      "dtype: float64\n"
     ]
    }
   ],
   "source": [
    "# 主要的常用计算方法\n",
    "df = pd.DataFrame({'key1':np.arange(10),\n",
    "                  'key2':np.random.rand(10) *10\n",
    "                  })\n",
    "print(df.head())\n",
    "print(\"------------------------------\")\n",
    "print(df.count())   # 计数\n",
    "print(df.min())  # 最小值\n",
    "print(df.max()) # 最大值\n",
    "print(df.quantile(q = 0.75))   # 百分位数\n",
    "print(df.mean(), df.median())  # 均值和中位数\n",
    "print(df.std(), df.var())   # 标准差和方差\n",
    "print(df.skew())   # 偏度\n",
    "print(df.kurt())   # 峰度"
   ]
  },
  {
   "cell_type": "code",
   "execution_count": 59,
   "id": "3f40ec8b",
   "metadata": {},
   "outputs": [
    {
     "data": {
      "text/html": [
       "<div>\n",
       "<style scoped>\n",
       "    .dataframe tbody tr th:only-of-type {\n",
       "        vertical-align: middle;\n",
       "    }\n",
       "\n",
       "    .dataframe tbody tr th {\n",
       "        vertical-align: top;\n",
       "    }\n",
       "\n",
       "    .dataframe thead th {\n",
       "        text-align: right;\n",
       "    }\n",
       "</style>\n",
       "<table border=\"1\" class=\"dataframe\">\n",
       "  <thead>\n",
       "    <tr style=\"text-align: right;\">\n",
       "      <th></th>\n",
       "      <th>key1</th>\n",
       "      <th>key2</th>\n",
       "      <th>key1s</th>\n",
       "      <th>key2s</th>\n",
       "      <th>key1ss</th>\n",
       "      <th>key2ss</th>\n",
       "    </tr>\n",
       "  </thead>\n",
       "  <tbody>\n",
       "    <tr>\n",
       "      <th>0</th>\n",
       "      <td>0</td>\n",
       "      <td>1.024219</td>\n",
       "      <td>0</td>\n",
       "      <td>1.024219</td>\n",
       "      <td>0</td>\n",
       "      <td>1.024219</td>\n",
       "    </tr>\n",
       "    <tr>\n",
       "      <th>1</th>\n",
       "      <td>1</td>\n",
       "      <td>1.689004</td>\n",
       "      <td>1</td>\n",
       "      <td>1.729910</td>\n",
       "      <td>1</td>\n",
       "      <td>1.024219</td>\n",
       "    </tr>\n",
       "    <tr>\n",
       "      <th>2</th>\n",
       "      <td>2</td>\n",
       "      <td>4.196590</td>\n",
       "      <td>3</td>\n",
       "      <td>7.259722</td>\n",
       "      <td>3</td>\n",
       "      <td>1.024219</td>\n",
       "    </tr>\n",
       "    <tr>\n",
       "      <th>3</th>\n",
       "      <td>3</td>\n",
       "      <td>6.641237</td>\n",
       "      <td>6</td>\n",
       "      <td>48.213537</td>\n",
       "      <td>6</td>\n",
       "      <td>1.024219</td>\n",
       "    </tr>\n",
       "    <tr>\n",
       "      <th>4</th>\n",
       "      <td>4</td>\n",
       "      <td>0.282550</td>\n",
       "      <td>10</td>\n",
       "      <td>13.622720</td>\n",
       "      <td>10</td>\n",
       "      <td>0.282550</td>\n",
       "    </tr>\n",
       "    <tr>\n",
       "      <th>5</th>\n",
       "      <td>5</td>\n",
       "      <td>6.659035</td>\n",
       "      <td>15</td>\n",
       "      <td>90.714168</td>\n",
       "      <td>15</td>\n",
       "      <td>0.282550</td>\n",
       "    </tr>\n",
       "    <tr>\n",
       "      <th>6</th>\n",
       "      <td>6</td>\n",
       "      <td>1.940016</td>\n",
       "      <td>21</td>\n",
       "      <td>175.986970</td>\n",
       "      <td>21</td>\n",
       "      <td>0.282550</td>\n",
       "    </tr>\n",
       "    <tr>\n",
       "      <th>7</th>\n",
       "      <td>7</td>\n",
       "      <td>4.453129</td>\n",
       "      <td>28</td>\n",
       "      <td>783.692720</td>\n",
       "      <td>28</td>\n",
       "      <td>0.282550</td>\n",
       "    </tr>\n",
       "    <tr>\n",
       "      <th>8</th>\n",
       "      <td>8</td>\n",
       "      <td>3.144486</td>\n",
       "      <td>36</td>\n",
       "      <td>2464.310520</td>\n",
       "      <td>36</td>\n",
       "      <td>0.282550</td>\n",
       "    </tr>\n",
       "    <tr>\n",
       "      <th>9</th>\n",
       "      <td>9</td>\n",
       "      <td>6.301492</td>\n",
       "      <td>45</td>\n",
       "      <td>15528.833223</td>\n",
       "      <td>45</td>\n",
       "      <td>0.282550</td>\n",
       "    </tr>\n",
       "  </tbody>\n",
       "</table>\n",
       "</div>"
      ],
      "text/plain": [
       "   key1      key2  key1s         key2s  key1ss    key2ss\n",
       "0     0  1.024219      0      1.024219       0  1.024219\n",
       "1     1  1.689004      1      1.729910       1  1.024219\n",
       "2     2  4.196590      3      7.259722       3  1.024219\n",
       "3     3  6.641237      6     48.213537       6  1.024219\n",
       "4     4  0.282550     10     13.622720      10  0.282550\n",
       "5     5  6.659035     15     90.714168      15  0.282550\n",
       "6     6  1.940016     21    175.986970      21  0.282550\n",
       "7     7  4.453129     28    783.692720      28  0.282550\n",
       "8     8  3.144486     36   2464.310520      36  0.282550\n",
       "9     9  6.301492     45  15528.833223      45  0.282550"
      ]
     },
     "execution_count": 59,
     "metadata": {},
     "output_type": "execute_result"
    }
   ],
   "source": [
    "# 累计求和与累计求积\n",
    "df['key1s'] = df['key1'].cumsum()  # 累计求和\n",
    "df['key2s'] = df['key2'].cumprod()   # 累计求积\n",
    "df['key1ss'] =df['key1s'].cummax()  # 求最大值\n",
    "df['key2ss'] = df['key2'].cummin()  # 求最小值\n",
    "df"
   ]
  },
  {
   "cell_type": "code",
   "execution_count": 60,
   "id": "0c1a187b",
   "metadata": {},
   "outputs": [
    {
     "name": "stdout",
     "output_type": "stream",
     "text": [
      "0     a\n",
      "1     s\n",
      "2     j\n",
      "3     d\n",
      "4     l\n",
      "5     d\n",
      "6     g\n",
      "7     h\n",
      "8     l\n",
      "9     a\n",
      "10    l\n",
      "11    k\n",
      "12    j\n",
      "13    a\n",
      "dtype: object\n",
      "['a' 's' 'j' 'd' 'l' 'g' 'h' 'k']\n"
     ]
    }
   ],
   "source": [
    "# 唯一值 unique()\n",
    "s = pd.Series(list('asjdldghlalkja'))\n",
    "print(s)\n",
    "print(s.unique())"
   ]
  },
  {
   "cell_type": "code",
   "execution_count": 61,
   "id": "21422355",
   "metadata": {},
   "outputs": [
    {
     "data": {
      "text/plain": [
       "a    3\n",
       "l    3\n",
       "j    2\n",
       "d    2\n",
       "s    1\n",
       "g    1\n",
       "h    1\n",
       "k    1\n",
       "dtype: int64"
      ]
     },
     "execution_count": 61,
     "metadata": {},
     "output_type": "execute_result"
    }
   ],
   "source": [
    "# 数值计数\n",
    "pd.value_counts(s)"
   ]
  },
  {
   "cell_type": "code",
   "execution_count": 62,
   "id": "36144676",
   "metadata": {},
   "outputs": [
    {
     "data": {
      "text/plain": [
       "0      True\n",
       "1     False\n",
       "2     False\n",
       "3     False\n",
       "4     False\n",
       "5     False\n",
       "6     False\n",
       "7     False\n",
       "8     False\n",
       "9      True\n",
       "10    False\n",
       "11    False\n",
       "12    False\n",
       "13     True\n",
       "dtype: bool"
      ]
     },
     "execution_count": 62,
     "metadata": {},
     "output_type": "execute_result"
    }
   ],
   "source": [
    "# 成员资格\n",
    "s\n",
    "s.isin(['a'])"
   ]
  },
  {
   "cell_type": "markdown",
   "id": "c4598bfd",
   "metadata": {},
   "source": [
    "# 文本数据"
   ]
  },
  {
   "cell_type": "code",
   "execution_count": 63,
   "id": "cd75ac89",
   "metadata": {},
   "outputs": [],
   "source": [
    "import pandas as pd\n",
    "import numpy as np"
   ]
  },
  {
   "cell_type": "code",
   "execution_count": 64,
   "id": "fe795c40",
   "metadata": {},
   "outputs": [
    {
     "name": "stdout",
     "output_type": "stream",
     "text": [
      "0    0.0\n",
      "1    1.0\n",
      "2    0.0\n",
      "3    2.0\n",
      "4    0.0\n",
      "5    NaN\n",
      "6    0.0\n",
      "dtype: float64\n",
      "0     HEE\n",
      "1      FV\n",
      "2       W\n",
      "3    HIJA\n",
      "4     123\n",
      "5     NaN\n",
      "Name: key2, dtype: object\n"
     ]
    },
    {
     "data": {
      "text/plain": [
       "Index(['KEY1', 'KEY2'], dtype='object')"
      ]
     },
     "execution_count": 64,
     "metadata": {},
     "output_type": "execute_result"
    }
   ],
   "source": [
    "df = pd.DataFrame({\n",
    "    'key1':list('abcdef'),\n",
    "    'key2':['hee','fv','w','hija','123', np.nan]\n",
    "})\n",
    "s = pd.Series(['A','b','C','bbhello','123', np.nan,'hj'])\n",
    "print(s.str.count('b'))   # 字符串计数\n",
    "print(df['key2'].str.upper())   # 变成大写\n",
    "df.columns.str.upper()  # 大写"
   ]
  },
  {
   "cell_type": "code",
   "execution_count": 65,
   "id": "13ee00c4",
   "metadata": {
    "scrolled": true
   },
   "outputs": [
    {
     "name": "stdout",
     "output_type": "stream",
     "text": [
      "0          a\n",
      "1          b\n",
      "2          c\n",
      "3    bbhello\n",
      "4        123\n",
      "5        NaN\n",
      "6         hj\n",
      "dtype: object\n",
      "0          A\n",
      "1          B\n",
      "2          C\n",
      "3    BBHELLO\n",
      "4        123\n",
      "5        NaN\n",
      "6         HJ\n",
      "dtype: object\n",
      "0    1.0\n",
      "1    1.0\n",
      "2    1.0\n",
      "3    7.0\n",
      "4    3.0\n",
      "5    NaN\n",
      "6    2.0\n",
      "dtype: float64\n",
      "0    False\n",
      "1     True\n",
      "2    False\n",
      "3     True\n",
      "4    False\n",
      "5      NaN\n",
      "6    False\n",
      "dtype: object\n",
      "0    False\n",
      "1    False\n",
      "2    False\n",
      "3    False\n",
      "4     True\n",
      "5      NaN\n",
      "6    False\n",
      "dtype: object\n",
      "0          A\n",
      "1          b\n",
      "2          C\n",
      "3    bbhello\n",
      "4        123\n",
      "5        NaN\n",
      "6         hj\n",
      "dtype: object\n",
      "0          A\n",
      "1          b\n",
      "2          C\n",
      "3    bbhello\n",
      "4        123\n",
      "5        NaN\n",
      "6         hj\n",
      "dtype: object\n",
      "0          A\n",
      "1          b\n",
      "2          C\n",
      "3    bbhello\n",
      "4        123\n",
      "5        NaN\n",
      "6         hj\n",
      "dtype: object\n"
     ]
    }
   ],
   "source": [
    "print(s.str.lower())   # 小写\n",
    "print(s.str.upper())  # d大写\n",
    "print(s.str.len())    # 长度\n",
    "print(s.str.startswith('b'))   # 判断是否以xx开始\n",
    "print(s.str.endswith('3'))  # 判断是否以 xx结束\n",
    "print(s.str.strip())  # 删除空格\n",
    "print(s.str.lstrip())  # 删除左侧的空格\n",
    "print(s.str.rstrip())  # 删除右侧的空格"
   ]
  },
  {
   "cell_type": "code",
   "execution_count": 66,
   "id": "c74c0b6c",
   "metadata": {},
   "outputs": [
    {
     "data": {
      "text/plain": [
       "Index(['[]column-A', 'column[]B'], dtype='object')"
      ]
     },
     "execution_count": 66,
     "metadata": {},
     "output_type": "execute_result"
    }
   ],
   "source": [
    "# 替换 replace\n",
    "df = pd.DataFrame(np.random.randn(3,2), \n",
    "                 columns = [' column A', 'column B']\n",
    "                 )\n",
    "df.columns = df.columns.str.replace(' ','-')\n",
    "df.columns.str.replace('-', '[]', n = 1)   # 替换第1个"
   ]
  },
  {
   "cell_type": "code",
   "execution_count": 67,
   "id": "953acaa8",
   "metadata": {},
   "outputs": [
    {
     "name": "stdout",
     "output_type": "stream",
     "text": [
      "0      a,b,c\n",
      "1      1,2,3\n",
      "2    [a,,,c]\n",
      "3        NaN\n",
      "dtype: object\n",
      "0    [a, b, c]\n",
      "1    [1, 2, 3]\n",
      "2          NaN\n",
      "3          NaN\n",
      "dtype: object\n",
      "['a', 'b', 'c']\n",
      "     0    1    2\n",
      "0    a    b    c\n",
      "1    1    2    3\n",
      "2  NaN  NaN  NaN\n",
      "3  NaN  NaN  NaN\n"
     ]
    }
   ],
   "source": [
    "# 分割 split, rsplit\n",
    "s = pd.Series(['a,b,c', '1,2,3', ['a,,,c'], np.nan])\n",
    "print(s)\n",
    "print(s.str.split(\",\"))\n",
    "print(s.str.split(\",\")[0])\n",
    "print(s.str.split(\",\", expand= True))"
   ]
  },
  {
   "cell_type": "markdown",
   "id": "bf36359b",
   "metadata": {},
   "source": [
    "# 合并"
   ]
  },
  {
   "cell_type": "code",
   "execution_count": 68,
   "id": "eaf5ad90",
   "metadata": {},
   "outputs": [
    {
     "data": {
      "text/html": [
       "<div>\n",
       "<style scoped>\n",
       "    .dataframe tbody tr th:only-of-type {\n",
       "        vertical-align: middle;\n",
       "    }\n",
       "\n",
       "    .dataframe tbody tr th {\n",
       "        vertical-align: top;\n",
       "    }\n",
       "\n",
       "    .dataframe thead th {\n",
       "        text-align: right;\n",
       "    }\n",
       "</style>\n",
       "<table border=\"1\" class=\"dataframe\">\n",
       "  <thead>\n",
       "    <tr style=\"text-align: right;\">\n",
       "      <th></th>\n",
       "      <th>key1</th>\n",
       "      <th>key2</th>\n",
       "      <th>C_x</th>\n",
       "      <th>D_x</th>\n",
       "      <th>C_y</th>\n",
       "      <th>D_y</th>\n",
       "    </tr>\n",
       "  </thead>\n",
       "  <tbody>\n",
       "    <tr>\n",
       "      <th>0</th>\n",
       "      <td>k0</td>\n",
       "      <td>k0</td>\n",
       "      <td>a0</td>\n",
       "      <td>b0</td>\n",
       "      <td>a0</td>\n",
       "      <td>b0</td>\n",
       "    </tr>\n",
       "    <tr>\n",
       "      <th>1</th>\n",
       "      <td>k1</td>\n",
       "      <td>k1</td>\n",
       "      <td>a1</td>\n",
       "      <td>b1</td>\n",
       "      <td>a1</td>\n",
       "      <td>b1</td>\n",
       "    </tr>\n",
       "    <tr>\n",
       "      <th>2</th>\n",
       "      <td>k2</td>\n",
       "      <td>k2</td>\n",
       "      <td>a2</td>\n",
       "      <td>b2</td>\n",
       "      <td>a2</td>\n",
       "      <td>b2</td>\n",
       "    </tr>\n",
       "    <tr>\n",
       "      <th>3</th>\n",
       "      <td>k3</td>\n",
       "      <td>k3</td>\n",
       "      <td>a3</td>\n",
       "      <td>b3</td>\n",
       "      <td>a3</td>\n",
       "      <td>b3</td>\n",
       "    </tr>\n",
       "  </tbody>\n",
       "</table>\n",
       "</div>"
      ],
      "text/plain": [
       "  key1 key2 C_x D_x C_y D_y\n",
       "0   k0   k0  a0  b0  a0  b0\n",
       "1   k1   k1  a1  b1  a1  b1\n",
       "2   k2   k2  a2  b2  a2  b2\n",
       "3   k3   k3  a3  b3  a3  b3"
      ]
     },
     "execution_count": 68,
     "metadata": {},
     "output_type": "execute_result"
    }
   ],
   "source": [
    "# merge合并\n",
    "import pandas as pd\n",
    "import numpy as np\n",
    "df1 = pd.DataFrame({'key':['k0','k1','k2','k3'],\n",
    "                   'A':['a0','a1','a2','a3'],\n",
    "                    'B':['b0','b1','b2','b3']\n",
    "                   })\n",
    "df2 = pd.DataFrame({'key':['k0','k1','k2','k3'],\n",
    "                   'C':['a0','a1','a2','a3'],\n",
    "                    'D':['b0','b1','b2','b3']\n",
    "                   })\n",
    "df3 = pd.DataFrame({'key1':['k0','k1','k2','k3'],\n",
    "                    'key2':['k0','k1','k2','k3'],\n",
    "                   'C':['a0','a1','a2','a3'],\n",
    "                    'D':['b0','b1','b2','b3']\n",
    "                   })\n",
    "df4 = pd.DataFrame({'key1':['k0','k1','k2','k3'],\n",
    "                    'key2':['k0','k1','k2','k3'],\n",
    "                   'C':['a0','a1','a2','a3'],\n",
    "                    'D':['b0','b1','b2','b3']\n",
    "                   })\n",
    "pd.merge(df1, df2, \n",
    "         on = 'key',   # 键值\n",
    "         how = 'inner'\n",
    "        )\n",
    "pd.merge(df3, df4, \n",
    "        on = ['key1','key2'])   # how = inner, outer, left, right"
   ]
  },
  {
   "cell_type": "code",
   "execution_count": 69,
   "id": "feb2c474",
   "metadata": {},
   "outputs": [],
   "source": [
    "# 还有left_on, right_on， left_index, right_index，这里不细说了\n",
    "# 也有df1.join(df2)的方式，但为了统一，我建议还是用pd.merge的方式"
   ]
  },
  {
   "cell_type": "markdown",
   "id": "a07216a6",
   "metadata": {},
   "source": [
    "# 连接与修补"
   ]
  },
  {
   "cell_type": "code",
   "execution_count": 70,
   "id": "9032eb8f",
   "metadata": {},
   "outputs": [
    {
     "name": "stdout",
     "output_type": "stream",
     "text": [
      "0    1\n",
      "1    2\n",
      "2    3\n",
      "0    4\n",
      "1    5\n",
      "2    6\n",
      "dtype: int64\n",
      "   0  1\n",
      "0  1  4\n",
      "1  2  5\n",
      "2  3  6\n"
     ]
    }
   ],
   "source": [
    "# concat\n",
    "s1 =pd.Series([1,2,3])\n",
    "s2 = pd.Series([4,5,6])\n",
    "print(pd.concat([s1, s2]))\n",
    "print(pd.concat([s1, s2], axis = 1))   "
   ]
  },
  {
   "cell_type": "code",
   "execution_count": 71,
   "id": "a211fe33",
   "metadata": {},
   "outputs": [
    {
     "name": "stdout",
     "output_type": "stream",
     "text": [
      "     0    1\n",
      "a  1.0  NaN\n",
      "b  2.0  2.0\n",
      "c  3.0  3.0\n",
      "d  NaN  4.0\n",
      "   0  1\n",
      "b  2  2\n",
      "c  3  3\n",
      "   one  two\n",
      "a  1.0  NaN\n",
      "b  2.0  2.0\n",
      "c  3.0  3.0\n",
      "d  NaN  4.0\n"
     ]
    }
   ],
   "source": [
    "# 连接方式\n",
    "s5 = pd.Series([1,2,3], index =['a','b','c'])\n",
    "s6 = pd.Series([2,3,4], index = ['b','c','d'])\n",
    "print(pd.concat([s5, s6], axis = 1))\n",
    "print(pd.concat([s5, s6], axis = 1, join = 'inner'))\n",
    "print(pd.concat([s5,s6], keys = ['one','two'], axis= 1))"
   ]
  },
  {
   "cell_type": "code",
   "execution_count": 72,
   "id": "e344409c",
   "metadata": {},
   "outputs": [
    {
     "name": "stdout",
     "output_type": "stream",
     "text": [
      "     0  1    2   3\n",
      "0  NaN  3  5.0 NaN\n",
      "1 -4.0  6  NaN NaN\n",
      "2  NaN  7  NaN NaN\n",
      "      0    1    2\n",
      "a  42.6  NaN -8.2\n",
      "1  -5.0  1.6  4.0\n"
     ]
    },
    {
     "data": {
      "text/html": [
       "<div>\n",
       "<style scoped>\n",
       "    .dataframe tbody tr th:only-of-type {\n",
       "        vertical-align: middle;\n",
       "    }\n",
       "\n",
       "    .dataframe tbody tr th {\n",
       "        vertical-align: top;\n",
       "    }\n",
       "\n",
       "    .dataframe thead th {\n",
       "        text-align: right;\n",
       "    }\n",
       "</style>\n",
       "<table border=\"1\" class=\"dataframe\">\n",
       "  <thead>\n",
       "    <tr style=\"text-align: right;\">\n",
       "      <th></th>\n",
       "      <th>0</th>\n",
       "      <th>1</th>\n",
       "      <th>2</th>\n",
       "      <th>3</th>\n",
       "    </tr>\n",
       "  </thead>\n",
       "  <tbody>\n",
       "    <tr>\n",
       "      <th>0</th>\n",
       "      <td>NaN</td>\n",
       "      <td>3.0</td>\n",
       "      <td>5.0</td>\n",
       "      <td>NaN</td>\n",
       "    </tr>\n",
       "    <tr>\n",
       "      <th>1</th>\n",
       "      <td>-4.0</td>\n",
       "      <td>6.0</td>\n",
       "      <td>4.0</td>\n",
       "      <td>NaN</td>\n",
       "    </tr>\n",
       "    <tr>\n",
       "      <th>2</th>\n",
       "      <td>NaN</td>\n",
       "      <td>7.0</td>\n",
       "      <td>NaN</td>\n",
       "      <td>NaN</td>\n",
       "    </tr>\n",
       "    <tr>\n",
       "      <th>a</th>\n",
       "      <td>42.6</td>\n",
       "      <td>NaN</td>\n",
       "      <td>-8.2</td>\n",
       "      <td>NaN</td>\n",
       "    </tr>\n",
       "  </tbody>\n",
       "</table>\n",
       "</div>"
      ],
      "text/plain": [
       "      0    1    2   3\n",
       "0   NaN  3.0  5.0 NaN\n",
       "1  -4.0  6.0  4.0 NaN\n",
       "2   NaN  7.0  NaN NaN\n",
       "a  42.6  NaN -8.2 NaN"
      ]
     },
     "execution_count": 72,
     "metadata": {},
     "output_type": "execute_result"
    }
   ],
   "source": [
    "# 修复修补 combine_first\n",
    "df1 = pd.DataFrame([[np.nan, 3, 5], [-4, 6, np.nan, np.nan], [np.nan, 7, np.nan]])\n",
    "df2 = pd.DataFrame([[42.6, np.nan, -8.2], [-5, 1.6, 4]], index = ['a',1])\n",
    "print(df1)\n",
    "print(df2)\n",
    "df1.combine_first(df2)   # 若df1是空的，则以df2的值填充"
   ]
  },
  {
   "cell_type": "code",
   "execution_count": 73,
   "id": "656cce66",
   "metadata": {},
   "outputs": [
    {
     "name": "stdout",
     "output_type": "stream",
     "text": [
      "None\n"
     ]
    }
   ],
   "source": [
    "print(df1.update(df2))"
   ]
  },
  {
   "cell_type": "markdown",
   "id": "10fca214",
   "metadata": {},
   "source": [
    "# 去重及替换"
   ]
  },
  {
   "cell_type": "code",
   "execution_count": 74,
   "id": "172ea360",
   "metadata": {},
   "outputs": [],
   "source": [
    "import pandas as pd\n",
    "import numpy as np"
   ]
  },
  {
   "cell_type": "code",
   "execution_count": 75,
   "id": "26965481",
   "metadata": {},
   "outputs": [
    {
     "name": "stdout",
     "output_type": "stream",
     "text": [
      "0    False\n",
      "1     True\n",
      "2     True\n",
      "3     True\n",
      "4    False\n",
      "5     True\n",
      "6     True\n",
      "7    False\n",
      "8    False\n",
      "9    False\n",
      "dtype: bool\n",
      "0    1\n",
      "4    2\n",
      "7    8\n",
      "8    4\n",
      "9    5\n",
      "dtype: int64\n",
      "-----------\n",
      "[1 2 8 4 5]\n",
      "0    1\n",
      "4    2\n",
      "7    8\n",
      "8    4\n",
      "9    5\n",
      "dtype: int64\n"
     ]
    }
   ],
   "source": [
    "# duplicated\n",
    "s = pd.Series([1,1,1,1,2,2,2,8,4,5])\n",
    "print(s.duplicated())\n",
    "print(s[s.duplicated() == False])   # 去重后的结果\n",
    "print(\"-----------\")\n",
    "print(s.unique())\n",
    "print(s.drop_duplicates())"
   ]
  },
  {
   "cell_type": "code",
   "execution_count": 76,
   "id": "a95294cf",
   "metadata": {},
   "outputs": [
    {
     "name": "stdout",
     "output_type": "stream",
     "text": [
      "0     |\n",
      "1     b\n",
      "2     c\n",
      "3     d\n",
      "4     l\n",
      "5     |\n",
      "6     j\n",
      "7     d\n",
      "8     |\n",
      "9     l\n",
      "10    j\n",
      "dtype: object\n",
      "0      123\n",
      "1        b\n",
      "2        c\n",
      "3        d\n",
      "4        l\n",
      "5      123\n",
      "6     hhah\n",
      "7        d\n",
      "8      123\n",
      "9        l\n",
      "10    hhah\n",
      "dtype: object\n"
     ]
    }
   ],
   "source": [
    "# replace 替换\n",
    "s = pd.Series(list('abcdlajdalj'))\n",
    "print(s.replace('a','|'))   # 替换一个值\n",
    "print(s.replace({'a':123, 'j':'hhah'}))"
   ]
  },
  {
   "cell_type": "markdown",
   "id": "f26601ed",
   "metadata": {},
   "source": [
    "# 数据分组"
   ]
  },
  {
   "cell_type": "code",
   "execution_count": 77,
   "id": "5cf77aa8",
   "metadata": {},
   "outputs": [],
   "source": [
    "import pandas as pd\n",
    "import numpy as np\n",
    "# df.groupby()"
   ]
  },
  {
   "cell_type": "code",
   "execution_count": 78,
   "id": "d5cc4cb4",
   "metadata": {},
   "outputs": [
    {
     "name": "stdout",
     "output_type": "stream",
     "text": [
      "     A      B         C         D\n",
      "0  foo    one -0.637521  0.810651\n",
      "1  bar    one  0.925183  0.532303\n",
      "2  foo    two -0.271743  0.561164\n",
      "3  bar  three  0.293901  0.683245\n",
      "4  foo    two  0.762219  0.211454\n",
      "5  bar    two -1.099593 -0.767441\n",
      "6  foo    one  0.591458  1.769207\n",
      "7  foo  three -1.464069  0.270520\n",
      "======================================================\n",
      "            C         D\n",
      "A                      \n",
      "bar  0.119491  0.448108\n",
      "foo -1.019656  3.622997\n",
      "                  C         D\n",
      "A   B                        \n",
      "bar one    0.925183  0.532303\n",
      "    three  0.293901  0.683245\n",
      "    two   -1.099593 -0.767441\n",
      "foo one   -0.023032  1.289929\n",
      "    three -1.464069  0.270520\n",
      "    two    0.245238  0.386309\n",
      "=========================================================\n",
      "     A      B         C         D\n",
      "0  foo    one -0.637521  0.810651\n",
      "2  foo    two -0.271743  0.561164\n",
      "4  foo    two  0.762219  0.211454\n",
      "6  foo    one  0.591458  1.769207\n",
      "7  foo  three -1.464069  0.270520\n"
     ]
    }
   ],
   "source": [
    "df = pd.DataFrame({\n",
    "    'A':['foo','bar','foo','bar','foo','bar','foo','foo'],\n",
    "    'B':['one','one','two','three','two','two','one','three'],\n",
    "    'C':np.random.randn(8),\n",
    "    'D':np.random.randn(8)\n",
    "})\n",
    "print(df)\n",
    "print('======================================================')\n",
    "print(df.groupby(['A']).sum())\n",
    "print(df.groupby(['A','B']).mean())\n",
    "# 还有get_group和 groups的方法，不做详细研究了\n",
    "print(\"=========================================================\")\n",
    "print(df.groupby(['A']).get_group('foo'))"
   ]
  },
  {
   "cell_type": "code",
   "execution_count": 79,
   "id": "f30d6fe1",
   "metadata": {},
   "outputs": [
    {
     "name": "stdout",
     "output_type": "stream",
     "text": [
      "    a   b   c   d\n",
      "0   0   1   2   3\n",
      "1   4   5   6   7\n",
      "2   8   9  10  11\n",
      "3  12  13  14  15\n",
      "   one  two\n",
      "0    1    5\n",
      "1    9   13\n",
      "2   17   21\n",
      "3   25   29\n",
      "==========================================\n",
      "a    one\n",
      "b    one\n",
      "c    two\n",
      "d    two\n",
      "dtype: object\n",
      "one    2\n",
      "two    2\n",
      "dtype: int64\n"
     ]
    }
   ],
   "source": [
    "# 通过字典或者series分组\n",
    "df = pd.DataFrame(np.arange(16).reshape(4,4),\n",
    "                 columns = ['a','b','c','d'])\n",
    "mapping = {'a':'one', 'b':'one', 'c':'two', 'd':'two'}\n",
    "print(df)\n",
    "print(df.groupby(mapping, axis =1).sum())\n",
    "\n",
    "print(\"==========================================\")\n",
    "s = pd.Series(mapping)\n",
    "print(s)\n",
    "print(s.groupby(s).count())"
   ]
  },
  {
   "cell_type": "code",
   "execution_count": 80,
   "id": "36b4688e",
   "metadata": {},
   "outputs": [],
   "source": [
    "# 通过函数分组\n",
    "# df.groupby(len).sum()\n"
   ]
  },
  {
   "cell_type": "code",
   "execution_count": 81,
   "id": "0b0b1628",
   "metadata": {},
   "outputs": [],
   "source": [
    "df = pd.DataFrame({\n",
    "    'A':['foo','bar','foo','bar','foo','bar','foo','foo'],\n",
    "    'B':['one','one','two','three','two','two','one','three'],\n",
    "    'C':np.random.randn(8),\n",
    "    'D':np.random.randn(8)\n",
    "})\n"
   ]
  },
  {
   "cell_type": "code",
   "execution_count": 82,
   "id": "4721f9be",
   "metadata": {},
   "outputs": [
    {
     "name": "stdout",
     "output_type": "stream",
     "text": [
      "   a         b         c\n",
      "0  1  0.224984  0.623259\n",
      "1  1  0.359628  0.059854\n",
      "2  2  0.553607  0.446950\n",
      "3  2  0.137425  0.007519\n",
      "          b                   c          \n",
      "       mean       sum      mean       sum\n",
      "a                                        \n",
      "1  0.292306  0.584612  0.341556  0.683113\n",
      "2  0.345516  0.691032  0.227234  0.454469\n",
      "       mean       sum\n",
      "a                    \n",
      "1  0.292306  0.584612\n",
      "2  0.345516  0.691032\n"
     ]
    }
   ],
   "source": [
    "# 多函数计算\n",
    "df = pd.DataFrame({\n",
    "    'a':[1,1,2,2],\n",
    "    'b':np.random.rand(4),\n",
    "    'c':np.random.rand(4)\n",
    "})\n",
    "df\n",
    "\n",
    "\n",
    "print(df)\n",
    "print(df.groupby('a').agg(['mean',np.sum]))\n",
    "print(df.groupby('a')['b'].agg(['mean',np.sum]))\n",
    "# # 课程的示例是可以的，自己写就报错了，，，\n",
    "# print(df.groupby('a')['b'].agg({'result1':'mean',\n",
    "#                                'result2':np.sum}))"
   ]
  },
  {
   "cell_type": "markdown",
   "id": "4bda202b",
   "metadata": {},
   "source": [
    "# 分组转换及一般性拆分、应用与合并"
   ]
  },
  {
   "cell_type": "code",
   "execution_count": 83,
   "id": "b11dde64",
   "metadata": {},
   "outputs": [],
   "source": [
    "import pandas as pd\n",
    "import numpy as np"
   ]
  },
  {
   "cell_type": "code",
   "execution_count": 84,
   "id": "1702d65b",
   "metadata": {},
   "outputs": [
    {
     "name": "stdout",
     "output_type": "stream",
     "text": [
      "  key1 key2     data1     data2\n",
      "0    a  one  0.813571  0.993472\n",
      "1    a  two  0.627499  0.432748\n",
      "2    b  one  0.933498  0.390462\n",
      "3    b  two  0.500433  0.294020\n",
      "4    a  one  0.599511  0.440704\n",
      "         data1     data2\n",
      "key1                    \n",
      "a     0.680194  0.622308\n",
      "b     0.716966  0.342241\n",
      "  mean_key1 mean_key2  mean_data1_x  mean_data2_x  mean_data1_y  mean_data2_y\n",
      "0         a       one      0.813571      0.993472      0.680194      0.622308\n",
      "1         a       two      0.627499      0.432748      0.680194      0.622308\n",
      "4         a       one      0.599511      0.440704      0.680194      0.622308\n",
      "2         b       one      0.933498      0.390462      0.716966      0.342241\n",
      "3         b       two      0.500433      0.294020      0.716966      0.342241\n"
     ]
    }
   ],
   "source": [
    "df = pd.DataFrame({\n",
    "    'key1':list('aabba'),\n",
    "    'key2':['one','two','one','two','one'],\n",
    "    'data1':np.random.rand(5),\n",
    "    'data2':np.random.rand(5)\n",
    "})\n",
    "print(df)\n",
    "right_on = df.groupby('key1').mean()\n",
    "print(right_on)   # 求均值，接下来要把均值附在对应的key1上\n",
    "print(pd.merge(df,right_on,left_on='key1', right_index= True ).add_prefix('mean_'))   # add_prefix，添加前缀，这里只是演示，没有意义"
   ]
  },
  {
   "cell_type": "code",
   "execution_count": 85,
   "id": "05a707c3",
   "metadata": {},
   "outputs": [
    {
     "name": "stderr",
     "output_type": "stream",
     "text": [
      "C:\\Users\\Alvin\\Anaconda3\\lib\\site-packages\\ipykernel_launcher.py:2: FutureWarning: Dropping invalid columns in DataFrameGroupBy.transform is deprecated. In a future version, a TypeError will be raised. Before calling .transform, select only columns which should be valid for the transforming function.\n",
      "  \n"
     ]
    },
    {
     "data": {
      "text/html": [
       "<div>\n",
       "<style scoped>\n",
       "    .dataframe tbody tr th:only-of-type {\n",
       "        vertical-align: middle;\n",
       "    }\n",
       "\n",
       "    .dataframe tbody tr th {\n",
       "        vertical-align: top;\n",
       "    }\n",
       "\n",
       "    .dataframe thead th {\n",
       "        text-align: right;\n",
       "    }\n",
       "</style>\n",
       "<table border=\"1\" class=\"dataframe\">\n",
       "  <thead>\n",
       "    <tr style=\"text-align: right;\">\n",
       "      <th></th>\n",
       "      <th>data1</th>\n",
       "      <th>data2</th>\n",
       "    </tr>\n",
       "  </thead>\n",
       "  <tbody>\n",
       "    <tr>\n",
       "      <th>0</th>\n",
       "      <td>0.680194</td>\n",
       "      <td>0.622308</td>\n",
       "    </tr>\n",
       "    <tr>\n",
       "      <th>1</th>\n",
       "      <td>0.680194</td>\n",
       "      <td>0.622308</td>\n",
       "    </tr>\n",
       "    <tr>\n",
       "      <th>2</th>\n",
       "      <td>0.716966</td>\n",
       "      <td>0.342241</td>\n",
       "    </tr>\n",
       "    <tr>\n",
       "      <th>3</th>\n",
       "      <td>0.716966</td>\n",
       "      <td>0.342241</td>\n",
       "    </tr>\n",
       "    <tr>\n",
       "      <th>4</th>\n",
       "      <td>0.680194</td>\n",
       "      <td>0.622308</td>\n",
       "    </tr>\n",
       "  </tbody>\n",
       "</table>\n",
       "</div>"
      ],
      "text/plain": [
       "      data1     data2\n",
       "0  0.680194  0.622308\n",
       "1  0.680194  0.622308\n",
       "2  0.716966  0.342241\n",
       "3  0.716966  0.342241\n",
       "4  0.680194  0.622308"
      ]
     },
     "execution_count": 85,
     "metadata": {},
     "output_type": "execute_result"
    }
   ],
   "source": [
    "# transform实现把groupby后的结果与原表结构一致\n",
    "df.groupby('key1').transform(np.mean)"
   ]
  },
  {
   "cell_type": "code",
   "execution_count": 86,
   "id": "4080f980",
   "metadata": {},
   "outputs": [],
   "source": [
    "# apply,一般化的groupby方法"
   ]
  },
  {
   "cell_type": "code",
   "execution_count": 87,
   "id": "508c97b7",
   "metadata": {},
   "outputs": [
    {
     "name": "stdout",
     "output_type": "stream",
     "text": [
      "  key1 key2     data1     data2\n",
      "0    a  one  0.292745  0.833577\n",
      "1    a  two  0.631586  0.977020\n",
      "2    b  one  0.980718  0.816113\n",
      "3    b  two  0.409638  0.244003\n",
      "4    a  one  0.743737  0.411584\n",
      "               data1     data2\n",
      "key1                          \n",
      "a    count  3.000000  3.000000\n",
      "     mean   0.556023  0.740727\n",
      "     std    0.234799  0.293930\n",
      "     min    0.292745  0.411584\n",
      "     25%    0.462166  0.622581\n",
      "     50%    0.631586  0.833577\n",
      "     75%    0.687661  0.905298\n",
      "     max    0.743737  0.977020\n",
      "b    count  2.000000  2.000000\n",
      "     mean   0.695178  0.530058\n",
      "     std    0.403815  0.404543\n",
      "     min    0.409638  0.244003\n",
      "     25%    0.552408  0.387030\n",
      "     50%    0.695178  0.530058\n",
      "     75%    0.837948  0.673086\n",
      "     max    0.980718  0.816113\n"
     ]
    }
   ],
   "source": [
    "df = pd.DataFrame({\n",
    "    'key1':list('aabba'),\n",
    "    'key2':['one','two','one','two','one'],\n",
    "    'data1':np.random.rand(5),\n",
    "    'data2':np.random.rand(5)\n",
    "})\n",
    "print(df)\n",
    "print(df.groupby('key1').apply(lambda x: x.describe()))"
   ]
  },
  {
   "cell_type": "code",
   "execution_count": 88,
   "id": "d3ec8df2",
   "metadata": {},
   "outputs": [],
   "source": [
    "# 自定义函数，应用到df里\n",
    "# 按照index排序后返回前n行\n",
    "def f1(d,n):\n",
    "    return(d.sort_index()[:n])\n",
    "\n",
    "# 返回k1列\n",
    "def f2(d,k1):\n",
    "    return(d[k1])"
   ]
  },
  {
   "cell_type": "code",
   "execution_count": 89,
   "id": "ccaaeccf",
   "metadata": {},
   "outputs": [
    {
     "name": "stdout",
     "output_type": "stream",
     "text": [
      "       key1 key2     data1     data2\n",
      "key1                                \n",
      "a    0    a  one  0.292745  0.833577\n",
      "     1    a  two  0.631586  0.977020\n",
      "b    2    b  one  0.980718  0.816113\n",
      "     3    b  two  0.409638  0.244003\n",
      "===============================\n",
      "key1   \n",
      "a     0    0.292745\n",
      "      1    0.631586\n",
      "      4    0.743737\n",
      "b     2    0.980718\n",
      "      3    0.409638\n",
      "Name: data1, dtype: float64\n"
     ]
    }
   ],
   "source": [
    "print(df.groupby('key1').apply(f1, 2))\n",
    "print('===============================')\n",
    "print(df.groupby('key1').apply(f2, 'data1'))"
   ]
  },
  {
   "cell_type": "markdown",
   "id": "b5db1683",
   "metadata": {},
   "source": [
    "# 透视表及交叉表"
   ]
  },
  {
   "cell_type": "code",
   "execution_count": 90,
   "id": "2f5e50a0",
   "metadata": {},
   "outputs": [
    {
     "name": "stdout",
     "output_type": "stream",
     "text": [
      "        date key    values\n",
      "0 2021-01-01   a  0.300069\n",
      "1 2021-01-02   b  0.331118\n",
      "2 2021-01-03   c  0.188535\n",
      "3 2021-01-04   d  0.537738\n",
      "4 2021-01-05   a  0.915550\n",
      "5 2021-01-06   b  0.046333\n",
      "6 2021-01-07   c  0.074196\n",
      "==================================\n",
      "key                a         b         c         d\n",
      "date                                              \n",
      "2021-01-01  0.300069       NaN       NaN       NaN\n",
      "2021-01-02       NaN  0.331118       NaN       NaN\n",
      "2021-01-03       NaN       NaN  0.188535       NaN\n",
      "2021-01-04       NaN       NaN       NaN  0.537738\n",
      "2021-01-05  0.915550       NaN       NaN       NaN\n",
      "2021-01-06       NaN  0.046333       NaN       NaN\n",
      "2021-01-07       NaN       NaN  0.074196       NaN\n",
      "==================================\n",
      "                  values\n",
      "date       key          \n",
      "2021-01-01 a    0.300069\n",
      "2021-01-02 b    0.331118\n",
      "2021-01-03 c    0.188535\n",
      "2021-01-04 d    0.537738\n",
      "2021-01-05 a    0.915550\n",
      "2021-01-06 b    0.046333\n",
      "2021-01-07 c    0.074196\n"
     ]
    }
   ],
   "source": [
    "# 感觉透视表和交叉表很像\n",
    "# pivot_table/ crosstab\n",
    "df = pd.DataFrame({'date':pd.date_range('2021-01-01', periods= 7),\n",
    "                  'key':list('abcdabc'),\n",
    "                   'values':np.random.rand(7)\n",
    "                  })\n",
    "print(df)\n",
    "print(\"==================================\")\n",
    "print(pd.pivot_table(df, values = 'values', index = 'date', columns=  'key', aggfunc = np.sum))\n",
    "\n",
    "print(\"==================================\")\n",
    "print(pd.pivot_table(df, values = 'values', index = ['date','key'], aggfunc = np.sum))"
   ]
  },
  {
   "cell_type": "code",
   "execution_count": 91,
   "id": "21286aae",
   "metadata": {},
   "outputs": [
    {
     "name": "stdout",
     "output_type": "stream",
     "text": [
      "   A  B    C\n",
      "0  1  3  1.0\n",
      "1  2  3  1.0\n",
      "2  2  4  NaN\n",
      "3  2  4  2.0\n",
      "4  2  4  1.0\n",
      "------------\n",
      "B  3  4\n",
      "A      \n",
      "1  1  0\n",
      "2  1  3\n",
      "------------\n",
      "B    3    4\n",
      "A          \n",
      "1  0.2  0.0\n",
      "2  0.2  0.6\n",
      "------------\n",
      "B      3    4  All\n",
      "A                 \n",
      "1    1.0  NaN  1.0\n",
      "2    1.0  3.0  4.0\n",
      "All  2.0  3.0  5.0\n"
     ]
    }
   ],
   "source": [
    "# 交叉表，统计频率的时候用 crosstab\n",
    "df = pd.DataFrame({'A':[1,2,2,2,2],\n",
    "                  'B':[3,3,4,4,4],\n",
    "                   'C':[1,1,np.nan, 2,1]\n",
    "                  })\n",
    "print(df)\n",
    "print(\"------------\")\n",
    "print(pd.crosstab(df['A'],df['B']))\n",
    "\n",
    "print(\"------------\")\n",
    "print(pd.crosstab(df['A'],df['B'], normalize= True))  # normalize，百分比化\n",
    "\n",
    "\n",
    "print(\"------------\")\n",
    "print(pd.crosstab(df['A'],df['B'], values = df['C'], aggfunc= np.sum, margins=True))  # 求和,也可以使用pivot_table实现\n",
    "# pd.pivot_table(df, index = 'A',columns='B', values = 'C', aggfunc= np.sum, margins=True)\n"
   ]
  },
  {
   "cell_type": "markdown",
   "id": "11c0d964",
   "metadata": {},
   "source": [
    "# 数据读取"
   ]
  },
  {
   "cell_type": "code",
   "execution_count": 92,
   "id": "0299328e",
   "metadata": {},
   "outputs": [],
   "source": [
    "import pandas as pd\n",
    "import os\n",
    "# os.getcwd()\n",
    "# os.chdir(\"C:\\\\Users\\\\kwai\\\\python微专业\")"
   ]
  },
  {
   "cell_type": "code",
   "execution_count": 93,
   "id": "e630f260",
   "metadata": {},
   "outputs": [],
   "source": [
    "# pd.read_table\n",
    "# pd.read_csv(engine = 'python', encoding = 'utf-8')\n",
    "# pd.read_excel"
   ]
  },
  {
   "cell_type": "markdown",
   "id": "d16e318c",
   "metadata": {},
   "source": [
    "# 表格样式创建"
   ]
  },
  {
   "cell_type": "code",
   "execution_count": 94,
   "id": "8b23e10c",
   "metadata": {},
   "outputs": [],
   "source": [
    "import pandas as pd\n",
    "import numpy as np\n",
    "import matplotlib.pyplot as plt\n",
    "%matplotlib inline"
   ]
  },
  {
   "cell_type": "code",
   "execution_count": 95,
   "id": "0adecd71",
   "metadata": {},
   "outputs": [
    {
     "name": "stdout",
     "output_type": "stream",
     "text": [
      "          a         b         c         d\n",
      "0 -0.866131 -1.786248 -0.165153  1.067828\n",
      "1 -1.434982  0.525166 -1.436409 -0.486236\n",
      "2  1.160070 -0.029489  0.631900  0.575730\n",
      "3 -0.221873 -2.100628  0.170238  0.913629\n",
      "4  0.035609  1.816656 -0.757583 -0.303061\n",
      "<pandas.io.formats.style.Styler object at 0x000001F45E3DEC08> <class 'pandas.io.formats.style.Styler'>\n"
     ]
    }
   ],
   "source": [
    "# 样式\n",
    "df = pd.DataFrame(np.random.randn(10,4), columns= list('abcd'))\n",
    "sty = df.style\n",
    "print(df.head())\n",
    "print(sty, type(sty))"
   ]
  },
  {
   "cell_type": "code",
   "execution_count": 96,
   "id": "785d1b96",
   "metadata": {},
   "outputs": [
    {
     "data": {
      "text/html": [
       "<style type=\"text/css\">\n",
       "#T_badc8_row0_col0, #T_badc8_row0_col1, #T_badc8_row0_col2, #T_badc8_row1_col0, #T_badc8_row1_col2, #T_badc8_row1_col3, #T_badc8_row2_col1, #T_badc8_row3_col0, #T_badc8_row3_col1, #T_badc8_row4_col2, #T_badc8_row4_col3, #T_badc8_row5_col1, #T_badc8_row5_col2, #T_badc8_row5_col3, #T_badc8_row6_col0, #T_badc8_row6_col2, #T_badc8_row7_col1, #T_badc8_row7_col3, #T_badc8_row8_col0, #T_badc8_row8_col1, #T_badc8_row8_col2, #T_badc8_row9_col2, #T_badc8_row9_col3 {\n",
       "  color: red;\n",
       "}\n",
       "#T_badc8_row0_col3, #T_badc8_row1_col1, #T_badc8_row2_col0, #T_badc8_row2_col2, #T_badc8_row2_col3, #T_badc8_row3_col2, #T_badc8_row3_col3, #T_badc8_row4_col0, #T_badc8_row4_col1, #T_badc8_row5_col0, #T_badc8_row6_col1, #T_badc8_row6_col3, #T_badc8_row7_col0, #T_badc8_row7_col2, #T_badc8_row8_col3, #T_badc8_row9_col0, #T_badc8_row9_col1 {\n",
       "  color: black;\n",
       "}\n",
       "</style>\n",
       "<table id=\"T_badc8_\">\n",
       "  <thead>\n",
       "    <tr>\n",
       "      <th class=\"blank level0\" >&nbsp;</th>\n",
       "      <th class=\"col_heading level0 col0\" >a</th>\n",
       "      <th class=\"col_heading level0 col1\" >b</th>\n",
       "      <th class=\"col_heading level0 col2\" >c</th>\n",
       "      <th class=\"col_heading level0 col3\" >d</th>\n",
       "    </tr>\n",
       "  </thead>\n",
       "  <tbody>\n",
       "    <tr>\n",
       "      <th id=\"T_badc8_level0_row0\" class=\"row_heading level0 row0\" >0</th>\n",
       "      <td id=\"T_badc8_row0_col0\" class=\"data row0 col0\" >-0.866131</td>\n",
       "      <td id=\"T_badc8_row0_col1\" class=\"data row0 col1\" >-1.786248</td>\n",
       "      <td id=\"T_badc8_row0_col2\" class=\"data row0 col2\" >-0.165153</td>\n",
       "      <td id=\"T_badc8_row0_col3\" class=\"data row0 col3\" >1.067828</td>\n",
       "    </tr>\n",
       "    <tr>\n",
       "      <th id=\"T_badc8_level0_row1\" class=\"row_heading level0 row1\" >1</th>\n",
       "      <td id=\"T_badc8_row1_col0\" class=\"data row1 col0\" >-1.434982</td>\n",
       "      <td id=\"T_badc8_row1_col1\" class=\"data row1 col1\" >0.525166</td>\n",
       "      <td id=\"T_badc8_row1_col2\" class=\"data row1 col2\" >-1.436409</td>\n",
       "      <td id=\"T_badc8_row1_col3\" class=\"data row1 col3\" >-0.486236</td>\n",
       "    </tr>\n",
       "    <tr>\n",
       "      <th id=\"T_badc8_level0_row2\" class=\"row_heading level0 row2\" >2</th>\n",
       "      <td id=\"T_badc8_row2_col0\" class=\"data row2 col0\" >1.160070</td>\n",
       "      <td id=\"T_badc8_row2_col1\" class=\"data row2 col1\" >-0.029489</td>\n",
       "      <td id=\"T_badc8_row2_col2\" class=\"data row2 col2\" >0.631900</td>\n",
       "      <td id=\"T_badc8_row2_col3\" class=\"data row2 col3\" >0.575730</td>\n",
       "    </tr>\n",
       "    <tr>\n",
       "      <th id=\"T_badc8_level0_row3\" class=\"row_heading level0 row3\" >3</th>\n",
       "      <td id=\"T_badc8_row3_col0\" class=\"data row3 col0\" >-0.221873</td>\n",
       "      <td id=\"T_badc8_row3_col1\" class=\"data row3 col1\" >-2.100628</td>\n",
       "      <td id=\"T_badc8_row3_col2\" class=\"data row3 col2\" >0.170238</td>\n",
       "      <td id=\"T_badc8_row3_col3\" class=\"data row3 col3\" >0.913629</td>\n",
       "    </tr>\n",
       "    <tr>\n",
       "      <th id=\"T_badc8_level0_row4\" class=\"row_heading level0 row4\" >4</th>\n",
       "      <td id=\"T_badc8_row4_col0\" class=\"data row4 col0\" >0.035609</td>\n",
       "      <td id=\"T_badc8_row4_col1\" class=\"data row4 col1\" >1.816656</td>\n",
       "      <td id=\"T_badc8_row4_col2\" class=\"data row4 col2\" >-0.757583</td>\n",
       "      <td id=\"T_badc8_row4_col3\" class=\"data row4 col3\" >-0.303061</td>\n",
       "    </tr>\n",
       "    <tr>\n",
       "      <th id=\"T_badc8_level0_row5\" class=\"row_heading level0 row5\" >5</th>\n",
       "      <td id=\"T_badc8_row5_col0\" class=\"data row5 col0\" >2.090387</td>\n",
       "      <td id=\"T_badc8_row5_col1\" class=\"data row5 col1\" >-0.867173</td>\n",
       "      <td id=\"T_badc8_row5_col2\" class=\"data row5 col2\" >-0.154298</td>\n",
       "      <td id=\"T_badc8_row5_col3\" class=\"data row5 col3\" >-0.535484</td>\n",
       "    </tr>\n",
       "    <tr>\n",
       "      <th id=\"T_badc8_level0_row6\" class=\"row_heading level0 row6\" >6</th>\n",
       "      <td id=\"T_badc8_row6_col0\" class=\"data row6 col0\" >-0.022712</td>\n",
       "      <td id=\"T_badc8_row6_col1\" class=\"data row6 col1\" >0.973569</td>\n",
       "      <td id=\"T_badc8_row6_col2\" class=\"data row6 col2\" >-0.371145</td>\n",
       "      <td id=\"T_badc8_row6_col3\" class=\"data row6 col3\" >1.397919</td>\n",
       "    </tr>\n",
       "    <tr>\n",
       "      <th id=\"T_badc8_level0_row7\" class=\"row_heading level0 row7\" >7</th>\n",
       "      <td id=\"T_badc8_row7_col0\" class=\"data row7 col0\" >0.147529</td>\n",
       "      <td id=\"T_badc8_row7_col1\" class=\"data row7 col1\" >-0.876926</td>\n",
       "      <td id=\"T_badc8_row7_col2\" class=\"data row7 col2\" >0.075051</td>\n",
       "      <td id=\"T_badc8_row7_col3\" class=\"data row7 col3\" >-1.464677</td>\n",
       "    </tr>\n",
       "    <tr>\n",
       "      <th id=\"T_badc8_level0_row8\" class=\"row_heading level0 row8\" >8</th>\n",
       "      <td id=\"T_badc8_row8_col0\" class=\"data row8 col0\" >-0.481979</td>\n",
       "      <td id=\"T_badc8_row8_col1\" class=\"data row8 col1\" >-0.152315</td>\n",
       "      <td id=\"T_badc8_row8_col2\" class=\"data row8 col2\" >-0.914538</td>\n",
       "      <td id=\"T_badc8_row8_col3\" class=\"data row8 col3\" >0.387101</td>\n",
       "    </tr>\n",
       "    <tr>\n",
       "      <th id=\"T_badc8_level0_row9\" class=\"row_heading level0 row9\" >9</th>\n",
       "      <td id=\"T_badc8_row9_col0\" class=\"data row9 col0\" >0.386835</td>\n",
       "      <td id=\"T_badc8_row9_col1\" class=\"data row9 col1\" >0.420500</td>\n",
       "      <td id=\"T_badc8_row9_col2\" class=\"data row9 col2\" >-0.499488</td>\n",
       "      <td id=\"T_badc8_row9_col3\" class=\"data row9 col3\" >-0.835586</td>\n",
       "    </tr>\n",
       "  </tbody>\n",
       "</table>\n"
      ],
      "text/plain": [
       "<pandas.io.formats.style.Styler at 0x1f45ee0f388>"
      ]
     },
     "execution_count": 96,
     "metadata": {},
     "output_type": "execute_result"
    }
   ],
   "source": [
    "# 按元素处理，大于0是黑色，小于0是红色, style.applymap()\n",
    "def color_neg_red(val):\n",
    "    if val <0:\n",
    "        color ='red'\n",
    "    else:\n",
    "        color = 'black'\n",
    "    return('color:%s'%color)\n",
    "df.style.applymap(color_neg_red)"
   ]
  },
  {
   "cell_type": "code",
   "execution_count": 97,
   "id": "8a4e041b",
   "metadata": {},
   "outputs": [
    {
     "data": {
      "text/html": [
       "<style type=\"text/css\">\n",
       "#T_c7406_row2_col2, #T_c7406_row4_col1 {\n",
       "  background-color: green;\n",
       "}\n",
       "</style>\n",
       "<table id=\"T_c7406_\">\n",
       "  <thead>\n",
       "    <tr>\n",
       "      <th class=\"blank level0\" >&nbsp;</th>\n",
       "      <th class=\"col_heading level0 col0\" >a</th>\n",
       "      <th class=\"col_heading level0 col1\" >b</th>\n",
       "      <th class=\"col_heading level0 col2\" >c</th>\n",
       "      <th class=\"col_heading level0 col3\" >d</th>\n",
       "    </tr>\n",
       "  </thead>\n",
       "  <tbody>\n",
       "    <tr>\n",
       "      <th id=\"T_c7406_level0_row0\" class=\"row_heading level0 row0\" >0</th>\n",
       "      <td id=\"T_c7406_row0_col0\" class=\"data row0 col0\" >-0.866131</td>\n",
       "      <td id=\"T_c7406_row0_col1\" class=\"data row0 col1\" >-1.786248</td>\n",
       "      <td id=\"T_c7406_row0_col2\" class=\"data row0 col2\" >-0.165153</td>\n",
       "      <td id=\"T_c7406_row0_col3\" class=\"data row0 col3\" >1.067828</td>\n",
       "    </tr>\n",
       "    <tr>\n",
       "      <th id=\"T_c7406_level0_row1\" class=\"row_heading level0 row1\" >1</th>\n",
       "      <td id=\"T_c7406_row1_col0\" class=\"data row1 col0\" >-1.434982</td>\n",
       "      <td id=\"T_c7406_row1_col1\" class=\"data row1 col1\" >0.525166</td>\n",
       "      <td id=\"T_c7406_row1_col2\" class=\"data row1 col2\" >-1.436409</td>\n",
       "      <td id=\"T_c7406_row1_col3\" class=\"data row1 col3\" >-0.486236</td>\n",
       "    </tr>\n",
       "    <tr>\n",
       "      <th id=\"T_c7406_level0_row2\" class=\"row_heading level0 row2\" >2</th>\n",
       "      <td id=\"T_c7406_row2_col0\" class=\"data row2 col0\" >1.160070</td>\n",
       "      <td id=\"T_c7406_row2_col1\" class=\"data row2 col1\" >-0.029489</td>\n",
       "      <td id=\"T_c7406_row2_col2\" class=\"data row2 col2\" >0.631900</td>\n",
       "      <td id=\"T_c7406_row2_col3\" class=\"data row2 col3\" >0.575730</td>\n",
       "    </tr>\n",
       "    <tr>\n",
       "      <th id=\"T_c7406_level0_row3\" class=\"row_heading level0 row3\" >3</th>\n",
       "      <td id=\"T_c7406_row3_col0\" class=\"data row3 col0\" >-0.221873</td>\n",
       "      <td id=\"T_c7406_row3_col1\" class=\"data row3 col1\" >-2.100628</td>\n",
       "      <td id=\"T_c7406_row3_col2\" class=\"data row3 col2\" >0.170238</td>\n",
       "      <td id=\"T_c7406_row3_col3\" class=\"data row3 col3\" >0.913629</td>\n",
       "    </tr>\n",
       "    <tr>\n",
       "      <th id=\"T_c7406_level0_row4\" class=\"row_heading level0 row4\" >4</th>\n",
       "      <td id=\"T_c7406_row4_col0\" class=\"data row4 col0\" >0.035609</td>\n",
       "      <td id=\"T_c7406_row4_col1\" class=\"data row4 col1\" >1.816656</td>\n",
       "      <td id=\"T_c7406_row4_col2\" class=\"data row4 col2\" >-0.757583</td>\n",
       "      <td id=\"T_c7406_row4_col3\" class=\"data row4 col3\" >-0.303061</td>\n",
       "    </tr>\n",
       "    <tr>\n",
       "      <th id=\"T_c7406_level0_row5\" class=\"row_heading level0 row5\" >5</th>\n",
       "      <td id=\"T_c7406_row5_col0\" class=\"data row5 col0\" >2.090387</td>\n",
       "      <td id=\"T_c7406_row5_col1\" class=\"data row5 col1\" >-0.867173</td>\n",
       "      <td id=\"T_c7406_row5_col2\" class=\"data row5 col2\" >-0.154298</td>\n",
       "      <td id=\"T_c7406_row5_col3\" class=\"data row5 col3\" >-0.535484</td>\n",
       "    </tr>\n",
       "    <tr>\n",
       "      <th id=\"T_c7406_level0_row6\" class=\"row_heading level0 row6\" >6</th>\n",
       "      <td id=\"T_c7406_row6_col0\" class=\"data row6 col0\" >-0.022712</td>\n",
       "      <td id=\"T_c7406_row6_col1\" class=\"data row6 col1\" >0.973569</td>\n",
       "      <td id=\"T_c7406_row6_col2\" class=\"data row6 col2\" >-0.371145</td>\n",
       "      <td id=\"T_c7406_row6_col3\" class=\"data row6 col3\" >1.397919</td>\n",
       "    </tr>\n",
       "    <tr>\n",
       "      <th id=\"T_c7406_level0_row7\" class=\"row_heading level0 row7\" >7</th>\n",
       "      <td id=\"T_c7406_row7_col0\" class=\"data row7 col0\" >0.147529</td>\n",
       "      <td id=\"T_c7406_row7_col1\" class=\"data row7 col1\" >-0.876926</td>\n",
       "      <td id=\"T_c7406_row7_col2\" class=\"data row7 col2\" >0.075051</td>\n",
       "      <td id=\"T_c7406_row7_col3\" class=\"data row7 col3\" >-1.464677</td>\n",
       "    </tr>\n",
       "    <tr>\n",
       "      <th id=\"T_c7406_level0_row8\" class=\"row_heading level0 row8\" >8</th>\n",
       "      <td id=\"T_c7406_row8_col0\" class=\"data row8 col0\" >-0.481979</td>\n",
       "      <td id=\"T_c7406_row8_col1\" class=\"data row8 col1\" >-0.152315</td>\n",
       "      <td id=\"T_c7406_row8_col2\" class=\"data row8 col2\" >-0.914538</td>\n",
       "      <td id=\"T_c7406_row8_col3\" class=\"data row8 col3\" >0.387101</td>\n",
       "    </tr>\n",
       "    <tr>\n",
       "      <th id=\"T_c7406_level0_row9\" class=\"row_heading level0 row9\" >9</th>\n",
       "      <td id=\"T_c7406_row9_col0\" class=\"data row9 col0\" >0.386835</td>\n",
       "      <td id=\"T_c7406_row9_col1\" class=\"data row9 col1\" >0.420500</td>\n",
       "      <td id=\"T_c7406_row9_col2\" class=\"data row9 col2\" >-0.499488</td>\n",
       "      <td id=\"T_c7406_row9_col3\" class=\"data row9 col3\" >-0.835586</td>\n",
       "    </tr>\n",
       "  </tbody>\n",
       "</table>\n"
      ],
      "text/plain": [
       "<pandas.io.formats.style.Styler at 0x1f45f189d48>"
      ]
     },
     "execution_count": 97,
     "metadata": {},
     "output_type": "execute_result"
    }
   ],
   "source": [
    "# 按行或者列处理， style.apply(),将每列的最大值高亮\n",
    "def highlight_max(s):\n",
    "    is_max = s == s.max()   # s == s.max()判断是否最大值，然后赋值给is_max\n",
    "#     print(is_max)\n",
    "    lst =[]\n",
    "    for v in is_max:\n",
    "        if v:\n",
    "            lst.append(\"background-color:green\")\n",
    "        else:\n",
    "            lst.append(\"\")\n",
    "#     print(lst)\n",
    "    return(lst)\n",
    "df.style.apply(highlight_max,axis = 0,subset = ['b','c'])\n",
    "# axis, 0是按列，1是按行\n",
    "# subset指定索引列"
   ]
  },
  {
   "cell_type": "code",
   "execution_count": 98,
   "id": "e1262947",
   "metadata": {},
   "outputs": [
    {
     "data": {
      "text/html": [
       "<style type=\"text/css\">\n",
       "#T_56a9c_row1_col1, #T_56a9c_row2_col2 {\n",
       "  background-color: green;\n",
       "}\n",
       "</style>\n",
       "<table id=\"T_56a9c_\">\n",
       "  <thead>\n",
       "    <tr>\n",
       "      <th class=\"blank level0\" >&nbsp;</th>\n",
       "      <th class=\"col_heading level0 col0\" >a</th>\n",
       "      <th class=\"col_heading level0 col1\" >b</th>\n",
       "      <th class=\"col_heading level0 col2\" >c</th>\n",
       "      <th class=\"col_heading level0 col3\" >d</th>\n",
       "    </tr>\n",
       "  </thead>\n",
       "  <tbody>\n",
       "    <tr>\n",
       "      <th id=\"T_56a9c_level0_row0\" class=\"row_heading level0 row0\" >0</th>\n",
       "      <td id=\"T_56a9c_row0_col0\" class=\"data row0 col0\" >-0.866131</td>\n",
       "      <td id=\"T_56a9c_row0_col1\" class=\"data row0 col1\" >-1.786248</td>\n",
       "      <td id=\"T_56a9c_row0_col2\" class=\"data row0 col2\" >-0.165153</td>\n",
       "      <td id=\"T_56a9c_row0_col3\" class=\"data row0 col3\" >1.067828</td>\n",
       "    </tr>\n",
       "    <tr>\n",
       "      <th id=\"T_56a9c_level0_row1\" class=\"row_heading level0 row1\" >1</th>\n",
       "      <td id=\"T_56a9c_row1_col0\" class=\"data row1 col0\" >-1.434982</td>\n",
       "      <td id=\"T_56a9c_row1_col1\" class=\"data row1 col1\" >0.525166</td>\n",
       "      <td id=\"T_56a9c_row1_col2\" class=\"data row1 col2\" >-1.436409</td>\n",
       "      <td id=\"T_56a9c_row1_col3\" class=\"data row1 col3\" >-0.486236</td>\n",
       "    </tr>\n",
       "    <tr>\n",
       "      <th id=\"T_56a9c_level0_row2\" class=\"row_heading level0 row2\" >2</th>\n",
       "      <td id=\"T_56a9c_row2_col0\" class=\"data row2 col0\" >1.160070</td>\n",
       "      <td id=\"T_56a9c_row2_col1\" class=\"data row2 col1\" >-0.029489</td>\n",
       "      <td id=\"T_56a9c_row2_col2\" class=\"data row2 col2\" >0.631900</td>\n",
       "      <td id=\"T_56a9c_row2_col3\" class=\"data row2 col3\" >0.575730</td>\n",
       "    </tr>\n",
       "    <tr>\n",
       "      <th id=\"T_56a9c_level0_row3\" class=\"row_heading level0 row3\" >3</th>\n",
       "      <td id=\"T_56a9c_row3_col0\" class=\"data row3 col0\" >-0.221873</td>\n",
       "      <td id=\"T_56a9c_row3_col1\" class=\"data row3 col1\" >-2.100628</td>\n",
       "      <td id=\"T_56a9c_row3_col2\" class=\"data row3 col2\" >0.170238</td>\n",
       "      <td id=\"T_56a9c_row3_col3\" class=\"data row3 col3\" >0.913629</td>\n",
       "    </tr>\n",
       "    <tr>\n",
       "      <th id=\"T_56a9c_level0_row4\" class=\"row_heading level0 row4\" >4</th>\n",
       "      <td id=\"T_56a9c_row4_col0\" class=\"data row4 col0\" >0.035609</td>\n",
       "      <td id=\"T_56a9c_row4_col1\" class=\"data row4 col1\" >1.816656</td>\n",
       "      <td id=\"T_56a9c_row4_col2\" class=\"data row4 col2\" >-0.757583</td>\n",
       "      <td id=\"T_56a9c_row4_col3\" class=\"data row4 col3\" >-0.303061</td>\n",
       "    </tr>\n",
       "    <tr>\n",
       "      <th id=\"T_56a9c_level0_row5\" class=\"row_heading level0 row5\" >5</th>\n",
       "      <td id=\"T_56a9c_row5_col0\" class=\"data row5 col0\" >2.090387</td>\n",
       "      <td id=\"T_56a9c_row5_col1\" class=\"data row5 col1\" >-0.867173</td>\n",
       "      <td id=\"T_56a9c_row5_col2\" class=\"data row5 col2\" >-0.154298</td>\n",
       "      <td id=\"T_56a9c_row5_col3\" class=\"data row5 col3\" >-0.535484</td>\n",
       "    </tr>\n",
       "    <tr>\n",
       "      <th id=\"T_56a9c_level0_row6\" class=\"row_heading level0 row6\" >6</th>\n",
       "      <td id=\"T_56a9c_row6_col0\" class=\"data row6 col0\" >-0.022712</td>\n",
       "      <td id=\"T_56a9c_row6_col1\" class=\"data row6 col1\" >0.973569</td>\n",
       "      <td id=\"T_56a9c_row6_col2\" class=\"data row6 col2\" >-0.371145</td>\n",
       "      <td id=\"T_56a9c_row6_col3\" class=\"data row6 col3\" >1.397919</td>\n",
       "    </tr>\n",
       "    <tr>\n",
       "      <th id=\"T_56a9c_level0_row7\" class=\"row_heading level0 row7\" >7</th>\n",
       "      <td id=\"T_56a9c_row7_col0\" class=\"data row7 col0\" >0.147529</td>\n",
       "      <td id=\"T_56a9c_row7_col1\" class=\"data row7 col1\" >-0.876926</td>\n",
       "      <td id=\"T_56a9c_row7_col2\" class=\"data row7 col2\" >0.075051</td>\n",
       "      <td id=\"T_56a9c_row7_col3\" class=\"data row7 col3\" >-1.464677</td>\n",
       "    </tr>\n",
       "    <tr>\n",
       "      <th id=\"T_56a9c_level0_row8\" class=\"row_heading level0 row8\" >8</th>\n",
       "      <td id=\"T_56a9c_row8_col0\" class=\"data row8 col0\" >-0.481979</td>\n",
       "      <td id=\"T_56a9c_row8_col1\" class=\"data row8 col1\" >-0.152315</td>\n",
       "      <td id=\"T_56a9c_row8_col2\" class=\"data row8 col2\" >-0.914538</td>\n",
       "      <td id=\"T_56a9c_row8_col3\" class=\"data row8 col3\" >0.387101</td>\n",
       "    </tr>\n",
       "    <tr>\n",
       "      <th id=\"T_56a9c_level0_row9\" class=\"row_heading level0 row9\" >9</th>\n",
       "      <td id=\"T_56a9c_row9_col0\" class=\"data row9 col0\" >0.386835</td>\n",
       "      <td id=\"T_56a9c_row9_col1\" class=\"data row9 col1\" >0.420500</td>\n",
       "      <td id=\"T_56a9c_row9_col2\" class=\"data row9 col2\" >-0.499488</td>\n",
       "      <td id=\"T_56a9c_row9_col3\" class=\"data row9 col3\" >-0.835586</td>\n",
       "    </tr>\n",
       "  </tbody>\n",
       "</table>\n"
      ],
      "text/plain": [
       "<pandas.io.formats.style.Styler at 0x1f45f18ac08>"
      ]
     },
     "execution_count": 98,
     "metadata": {},
     "output_type": "execute_result"
    }
   ],
   "source": [
    "# 样式索引，切片，如果只选择列，按照subset = ['b','c']写就行，如果还要考虑行，需要这么写\n",
    "df.style.apply(highlight_max,axis = 0,subset = pd.IndexSlice[0:3, ['b','c']])\n"
   ]
  },
  {
   "cell_type": "code",
   "execution_count": 99,
   "id": "7e58bac1",
   "metadata": {},
   "outputs": [
    {
     "data": {
      "text/html": [
       "<style type=\"text/css\">\n",
       "#T_58374_row1_col1, #T_58374_row2_col2 {\n",
       "  background-color: green;\n",
       "}\n",
       "</style>\n",
       "<table id=\"T_58374_\">\n",
       "  <thead>\n",
       "    <tr>\n",
       "      <th class=\"blank level0\" >&nbsp;</th>\n",
       "      <th class=\"col_heading level0 col0\" >a</th>\n",
       "      <th class=\"col_heading level0 col1\" >b</th>\n",
       "      <th class=\"col_heading level0 col2\" >c</th>\n",
       "      <th class=\"col_heading level0 col3\" >d</th>\n",
       "    </tr>\n",
       "  </thead>\n",
       "  <tbody>\n",
       "    <tr>\n",
       "      <th id=\"T_58374_level0_row0\" class=\"row_heading level0 row0\" >0</th>\n",
       "      <td id=\"T_58374_row0_col0\" class=\"data row0 col0\" >-0.866131</td>\n",
       "      <td id=\"T_58374_row0_col1\" class=\"data row0 col1\" >-1.786248</td>\n",
       "      <td id=\"T_58374_row0_col2\" class=\"data row0 col2\" >-0.165153</td>\n",
       "      <td id=\"T_58374_row0_col3\" class=\"data row0 col3\" >1.067828</td>\n",
       "    </tr>\n",
       "    <tr>\n",
       "      <th id=\"T_58374_level0_row1\" class=\"row_heading level0 row1\" >1</th>\n",
       "      <td id=\"T_58374_row1_col0\" class=\"data row1 col0\" >-1.434982</td>\n",
       "      <td id=\"T_58374_row1_col1\" class=\"data row1 col1\" >0.525166</td>\n",
       "      <td id=\"T_58374_row1_col2\" class=\"data row1 col2\" >-1.436409</td>\n",
       "      <td id=\"T_58374_row1_col3\" class=\"data row1 col3\" >-0.486236</td>\n",
       "    </tr>\n",
       "    <tr>\n",
       "      <th id=\"T_58374_level0_row2\" class=\"row_heading level0 row2\" >2</th>\n",
       "      <td id=\"T_58374_row2_col0\" class=\"data row2 col0\" >1.160070</td>\n",
       "      <td id=\"T_58374_row2_col1\" class=\"data row2 col1\" >-0.029489</td>\n",
       "      <td id=\"T_58374_row2_col2\" class=\"data row2 col2\" >0.631900</td>\n",
       "      <td id=\"T_58374_row2_col3\" class=\"data row2 col3\" >0.575730</td>\n",
       "    </tr>\n",
       "  </tbody>\n",
       "</table>\n"
      ],
      "text/plain": [
       "<pandas.io.formats.style.Styler at 0x1f45f166b48>"
      ]
     },
     "execution_count": 99,
     "metadata": {},
     "output_type": "execute_result"
    }
   ],
   "source": [
    "# 按照上面那样的话，依然后展示全部的表格，只是计算时只考虑指定的行，也可以先切片再修改样式\n",
    "df[0:3].style.apply(highlight_max,axis = 0,subset = pd.IndexSlice[:, ['b','c']])"
   ]
  },
  {
   "cell_type": "markdown",
   "id": "346034f6",
   "metadata": {},
   "source": [
    "# 表格显示控制"
   ]
  },
  {
   "cell_type": "code",
   "execution_count": 100,
   "id": "c717b6fd",
   "metadata": {},
   "outputs": [
    {
     "name": "stdout",
     "output_type": "stream",
     "text": [
      "          a         b         c         d\n",
      "0  0.169578  0.982422  1.437154 -0.426751\n",
      "1  0.391591  1.533879 -1.321112  0.496504\n",
      "2  0.391439 -0.948906  1.863978 -0.626695\n",
      "3  1.379763 -0.109205  0.326243 -0.834177\n",
      "4  0.234890  0.939610 -0.102158  0.427410\n"
     ]
    }
   ],
   "source": [
    "df = pd.DataFrame(np.random.randn(10,4), columns= list('abcd'))\n",
    "print(df.head())"
   ]
  },
  {
   "cell_type": "code",
   "execution_count": 101,
   "id": "1ff1af43",
   "metadata": {},
   "outputs": [
    {
     "data": {
      "text/html": [
       "<style type=\"text/css\">\n",
       "</style>\n",
       "<table id=\"T_6a504_\">\n",
       "  <thead>\n",
       "    <tr>\n",
       "      <th class=\"blank level0\" >&nbsp;</th>\n",
       "      <th class=\"col_heading level0 col0\" >a</th>\n",
       "      <th class=\"col_heading level0 col1\" >b</th>\n",
       "      <th class=\"col_heading level0 col2\" >c</th>\n",
       "      <th class=\"col_heading level0 col3\" >d</th>\n",
       "    </tr>\n",
       "  </thead>\n",
       "  <tbody>\n",
       "    <tr>\n",
       "      <th id=\"T_6a504_level0_row0\" class=\"row_heading level0 row0\" >0</th>\n",
       "      <td id=\"T_6a504_row0_col0\" class=\"data row0 col0\" >+16.96%</td>\n",
       "      <td id=\"T_6a504_row0_col1\" class=\"data row0 col1\" >0.98</td>\n",
       "      <td id=\"T_6a504_row0_col2\" class=\"data row0 col2\" >1.437</td>\n",
       "      <td id=\"T_6a504_row0_col3\" class=\"data row0 col3\" >-0.426751</td>\n",
       "    </tr>\n",
       "    <tr>\n",
       "      <th id=\"T_6a504_level0_row1\" class=\"row_heading level0 row1\" >1</th>\n",
       "      <td id=\"T_6a504_row1_col0\" class=\"data row1 col0\" >+39.16%</td>\n",
       "      <td id=\"T_6a504_row1_col1\" class=\"data row1 col1\" >1.53</td>\n",
       "      <td id=\"T_6a504_row1_col2\" class=\"data row1 col2\" >-1.321</td>\n",
       "      <td id=\"T_6a504_row1_col3\" class=\"data row1 col3\" >0.496504</td>\n",
       "    </tr>\n",
       "    <tr>\n",
       "      <th id=\"T_6a504_level0_row2\" class=\"row_heading level0 row2\" >2</th>\n",
       "      <td id=\"T_6a504_row2_col0\" class=\"data row2 col0\" >+39.14%</td>\n",
       "      <td id=\"T_6a504_row2_col1\" class=\"data row2 col1\" >-0.95</td>\n",
       "      <td id=\"T_6a504_row2_col2\" class=\"data row2 col2\" >1.864</td>\n",
       "      <td id=\"T_6a504_row2_col3\" class=\"data row2 col3\" >-0.626695</td>\n",
       "    </tr>\n",
       "    <tr>\n",
       "      <th id=\"T_6a504_level0_row3\" class=\"row_heading level0 row3\" >3</th>\n",
       "      <td id=\"T_6a504_row3_col0\" class=\"data row3 col0\" >+137.98%</td>\n",
       "      <td id=\"T_6a504_row3_col1\" class=\"data row3 col1\" >-0.11</td>\n",
       "      <td id=\"T_6a504_row3_col2\" class=\"data row3 col2\" >0.3262</td>\n",
       "      <td id=\"T_6a504_row3_col3\" class=\"data row3 col3\" >-0.834177</td>\n",
       "    </tr>\n",
       "    <tr>\n",
       "      <th id=\"T_6a504_level0_row4\" class=\"row_heading level0 row4\" >4</th>\n",
       "      <td id=\"T_6a504_row4_col0\" class=\"data row4 col0\" >+23.49%</td>\n",
       "      <td id=\"T_6a504_row4_col1\" class=\"data row4 col1\" >0.94</td>\n",
       "      <td id=\"T_6a504_row4_col2\" class=\"data row4 col2\" >-0.1022</td>\n",
       "      <td id=\"T_6a504_row4_col3\" class=\"data row4 col3\" >0.427410</td>\n",
       "    </tr>\n",
       "    <tr>\n",
       "      <th id=\"T_6a504_level0_row5\" class=\"row_heading level0 row5\" >5</th>\n",
       "      <td id=\"T_6a504_row5_col0\" class=\"data row5 col0\" >+90.88%</td>\n",
       "      <td id=\"T_6a504_row5_col1\" class=\"data row5 col1\" >0.16</td>\n",
       "      <td id=\"T_6a504_row5_col2\" class=\"data row5 col2\" >0.9454</td>\n",
       "      <td id=\"T_6a504_row5_col3\" class=\"data row5 col3\" >-1.009794</td>\n",
       "    </tr>\n",
       "    <tr>\n",
       "      <th id=\"T_6a504_level0_row6\" class=\"row_heading level0 row6\" >6</th>\n",
       "      <td id=\"T_6a504_row6_col0\" class=\"data row6 col0\" >+188.93%</td>\n",
       "      <td id=\"T_6a504_row6_col1\" class=\"data row6 col1\" >1.32</td>\n",
       "      <td id=\"T_6a504_row6_col2\" class=\"data row6 col2\" >-1.234</td>\n",
       "      <td id=\"T_6a504_row6_col3\" class=\"data row6 col3\" >-1.048575</td>\n",
       "    </tr>\n",
       "    <tr>\n",
       "      <th id=\"T_6a504_level0_row7\" class=\"row_heading level0 row7\" >7</th>\n",
       "      <td id=\"T_6a504_row7_col0\" class=\"data row7 col0\" >+95.74%</td>\n",
       "      <td id=\"T_6a504_row7_col1\" class=\"data row7 col1\" >-0.94</td>\n",
       "      <td id=\"T_6a504_row7_col2\" class=\"data row7 col2\" >-0.5315</td>\n",
       "      <td id=\"T_6a504_row7_col3\" class=\"data row7 col3\" >-0.039059</td>\n",
       "    </tr>\n",
       "    <tr>\n",
       "      <th id=\"T_6a504_level0_row8\" class=\"row_heading level0 row8\" >8</th>\n",
       "      <td id=\"T_6a504_row8_col0\" class=\"data row8 col0\" >-77.80%</td>\n",
       "      <td id=\"T_6a504_row8_col1\" class=\"data row8 col1\" >-1.56</td>\n",
       "      <td id=\"T_6a504_row8_col2\" class=\"data row8 col2\" >-1.148</td>\n",
       "      <td id=\"T_6a504_row8_col3\" class=\"data row8 col3\" >0.205003</td>\n",
       "    </tr>\n",
       "    <tr>\n",
       "      <th id=\"T_6a504_level0_row9\" class=\"row_heading level0 row9\" >9</th>\n",
       "      <td id=\"T_6a504_row9_col0\" class=\"data row9 col0\" >+39.04%</td>\n",
       "      <td id=\"T_6a504_row9_col1\" class=\"data row9 col1\" >1.23</td>\n",
       "      <td id=\"T_6a504_row9_col2\" class=\"data row9 col2\" >0.4525</td>\n",
       "      <td id=\"T_6a504_row9_col3\" class=\"data row9 col3\" >-0.493237</td>\n",
       "    </tr>\n",
       "  </tbody>\n",
       "</table>\n"
      ],
      "text/plain": [
       "<pandas.io.formats.style.Styler at 0x1f45f1733c8>"
      ]
     },
     "execution_count": 101,
     "metadata": {},
     "output_type": "execute_result"
    }
   ],
   "source": [
    "# 设置数值格式,每一列单独设置\n",
    "df.style.format({\"a\":\"{:+.2%}\",\n",
    "                \"b\":\"{:,.2F}\",\n",
    "                 \"c\":\"{:,.4}\"\n",
    "                })"
   ]
  },
  {
   "cell_type": "code",
   "execution_count": 102,
   "id": "8af75074",
   "metadata": {},
   "outputs": [
    {
     "data": {
      "text/html": [
       "<style type=\"text/css\">\n",
       "</style>\n",
       "<table id=\"T_e5161_\">\n",
       "  <thead>\n",
       "    <tr>\n",
       "      <th class=\"blank level0\" >&nbsp;</th>\n",
       "      <th class=\"col_heading level0 col0\" >a</th>\n",
       "      <th class=\"col_heading level0 col1\" >b</th>\n",
       "      <th class=\"col_heading level0 col2\" >c</th>\n",
       "      <th class=\"col_heading level0 col3\" >d</th>\n",
       "    </tr>\n",
       "  </thead>\n",
       "  <tbody>\n",
       "    <tr>\n",
       "      <th id=\"T_e5161_level0_row0\" class=\"row_heading level0 row0\" >0</th>\n",
       "      <td id=\"T_e5161_row0_col0\" class=\"data row0 col0\" >0.17</td>\n",
       "      <td id=\"T_e5161_row0_col1\" class=\"data row0 col1\" >0.98</td>\n",
       "      <td id=\"T_e5161_row0_col2\" class=\"data row0 col2\" >1.44</td>\n",
       "      <td id=\"T_e5161_row0_col3\" class=\"data row0 col3\" >-0.43</td>\n",
       "    </tr>\n",
       "    <tr>\n",
       "      <th id=\"T_e5161_level0_row1\" class=\"row_heading level0 row1\" >1</th>\n",
       "      <td id=\"T_e5161_row1_col0\" class=\"data row1 col0\" >0.39</td>\n",
       "      <td id=\"T_e5161_row1_col1\" class=\"data row1 col1\" >1.53</td>\n",
       "      <td id=\"T_e5161_row1_col2\" class=\"data row1 col2\" >-1.32</td>\n",
       "      <td id=\"T_e5161_row1_col3\" class=\"data row1 col3\" >0.50</td>\n",
       "    </tr>\n",
       "    <tr>\n",
       "      <th id=\"T_e5161_level0_row2\" class=\"row_heading level0 row2\" >2</th>\n",
       "      <td id=\"T_e5161_row2_col0\" class=\"data row2 col0\" >0.39</td>\n",
       "      <td id=\"T_e5161_row2_col1\" class=\"data row2 col1\" >-0.95</td>\n",
       "      <td id=\"T_e5161_row2_col2\" class=\"data row2 col2\" >1.86</td>\n",
       "      <td id=\"T_e5161_row2_col3\" class=\"data row2 col3\" >-0.63</td>\n",
       "    </tr>\n",
       "    <tr>\n",
       "      <th id=\"T_e5161_level0_row3\" class=\"row_heading level0 row3\" >3</th>\n",
       "      <td id=\"T_e5161_row3_col0\" class=\"data row3 col0\" >1.38</td>\n",
       "      <td id=\"T_e5161_row3_col1\" class=\"data row3 col1\" >-0.11</td>\n",
       "      <td id=\"T_e5161_row3_col2\" class=\"data row3 col2\" >0.33</td>\n",
       "      <td id=\"T_e5161_row3_col3\" class=\"data row3 col3\" >-0.83</td>\n",
       "    </tr>\n",
       "    <tr>\n",
       "      <th id=\"T_e5161_level0_row4\" class=\"row_heading level0 row4\" >4</th>\n",
       "      <td id=\"T_e5161_row4_col0\" class=\"data row4 col0\" >0.23</td>\n",
       "      <td id=\"T_e5161_row4_col1\" class=\"data row4 col1\" >0.94</td>\n",
       "      <td id=\"T_e5161_row4_col2\" class=\"data row4 col2\" >-0.10</td>\n",
       "      <td id=\"T_e5161_row4_col3\" class=\"data row4 col3\" >0.43</td>\n",
       "    </tr>\n",
       "    <tr>\n",
       "      <th id=\"T_e5161_level0_row5\" class=\"row_heading level0 row5\" >5</th>\n",
       "      <td id=\"T_e5161_row5_col0\" class=\"data row5 col0\" >0.91</td>\n",
       "      <td id=\"T_e5161_row5_col1\" class=\"data row5 col1\" >0.16</td>\n",
       "      <td id=\"T_e5161_row5_col2\" class=\"data row5 col2\" >0.95</td>\n",
       "      <td id=\"T_e5161_row5_col3\" class=\"data row5 col3\" >-1.01</td>\n",
       "    </tr>\n",
       "    <tr>\n",
       "      <th id=\"T_e5161_level0_row6\" class=\"row_heading level0 row6\" >6</th>\n",
       "      <td id=\"T_e5161_row6_col0\" class=\"data row6 col0\" >1.89</td>\n",
       "      <td id=\"T_e5161_row6_col1\" class=\"data row6 col1\" >1.32</td>\n",
       "      <td id=\"T_e5161_row6_col2\" class=\"data row6 col2\" >-1.23</td>\n",
       "      <td id=\"T_e5161_row6_col3\" class=\"data row6 col3\" >-1.05</td>\n",
       "    </tr>\n",
       "    <tr>\n",
       "      <th id=\"T_e5161_level0_row7\" class=\"row_heading level0 row7\" >7</th>\n",
       "      <td id=\"T_e5161_row7_col0\" class=\"data row7 col0\" >0.96</td>\n",
       "      <td id=\"T_e5161_row7_col1\" class=\"data row7 col1\" >-0.94</td>\n",
       "      <td id=\"T_e5161_row7_col2\" class=\"data row7 col2\" >-0.53</td>\n",
       "      <td id=\"T_e5161_row7_col3\" class=\"data row7 col3\" >-0.04</td>\n",
       "    </tr>\n",
       "    <tr>\n",
       "      <th id=\"T_e5161_level0_row8\" class=\"row_heading level0 row8\" >8</th>\n",
       "      <td id=\"T_e5161_row8_col0\" class=\"data row8 col0\" >-0.78</td>\n",
       "      <td id=\"T_e5161_row8_col1\" class=\"data row8 col1\" >-1.56</td>\n",
       "      <td id=\"T_e5161_row8_col2\" class=\"data row8 col2\" >-1.15</td>\n",
       "      <td id=\"T_e5161_row8_col3\" class=\"data row8 col3\" >0.21</td>\n",
       "    </tr>\n",
       "    <tr>\n",
       "      <th id=\"T_e5161_level0_row9\" class=\"row_heading level0 row9\" >9</th>\n",
       "      <td id=\"T_e5161_row9_col0\" class=\"data row9 col0\" >0.39</td>\n",
       "      <td id=\"T_e5161_row9_col1\" class=\"data row9 col1\" >1.23</td>\n",
       "      <td id=\"T_e5161_row9_col2\" class=\"data row9 col2\" >0.45</td>\n",
       "      <td id=\"T_e5161_row9_col3\" class=\"data row9 col3\" >-0.49</td>\n",
       "    </tr>\n",
       "  </tbody>\n",
       "</table>\n"
      ],
      "text/plain": [
       "<pandas.io.formats.style.Styler at 0x1f45f025408>"
      ]
     },
     "execution_count": 102,
     "metadata": {},
     "output_type": "execute_result"
    }
   ],
   "source": [
    "# 设置数值格式,统一设置\n",
    "df.style.format(\"{:,.2f}\")"
   ]
  },
  {
   "cell_type": "markdown",
   "id": "f113312b",
   "metadata": {},
   "source": [
    "# 表格样式调用"
   ]
  },
  {
   "cell_type": "code",
   "execution_count": 103,
   "id": "b98c5212",
   "metadata": {},
   "outputs": [],
   "source": [
    "import pandas as pd\n",
    "import numpy as np"
   ]
  },
  {
   "cell_type": "code",
   "execution_count": 104,
   "id": "a30b18c2",
   "metadata": {},
   "outputs": [
    {
     "data": {
      "text/html": [
       "<style type=\"text/css\">\n",
       "#T_b06bf_row2_col0 {\n",
       "  background-color: red;\n",
       "}\n",
       "</style>\n",
       "<table id=\"T_b06bf_\">\n",
       "  <thead>\n",
       "    <tr>\n",
       "      <th class=\"blank level0\" >&nbsp;</th>\n",
       "      <th class=\"col_heading level0 col0\" >A</th>\n",
       "      <th class=\"col_heading level0 col1\" >B</th>\n",
       "      <th class=\"col_heading level0 col2\" >C</th>\n",
       "      <th class=\"col_heading level0 col3\" >D</th>\n",
       "    </tr>\n",
       "  </thead>\n",
       "  <tbody>\n",
       "    <tr>\n",
       "      <th id=\"T_b06bf_level0_row0\" class=\"row_heading level0 row0\" >0</th>\n",
       "      <td id=\"T_b06bf_row0_col0\" class=\"data row0 col0\" >0.198439</td>\n",
       "      <td id=\"T_b06bf_row0_col1\" class=\"data row0 col1\" >0.949658</td>\n",
       "      <td id=\"T_b06bf_row0_col2\" class=\"data row0 col2\" >0.837903</td>\n",
       "      <td id=\"T_b06bf_row0_col3\" class=\"data row0 col3\" >0.201434</td>\n",
       "    </tr>\n",
       "    <tr>\n",
       "      <th id=\"T_b06bf_level0_row1\" class=\"row_heading level0 row1\" >1</th>\n",
       "      <td id=\"T_b06bf_row1_col0\" class=\"data row1 col0\" >0.709350</td>\n",
       "      <td id=\"T_b06bf_row1_col1\" class=\"data row1 col1\" >0.610154</td>\n",
       "      <td id=\"T_b06bf_row1_col2\" class=\"data row1 col2\" >0.722327</td>\n",
       "      <td id=\"T_b06bf_row1_col3\" class=\"data row1 col3\" >0.799442</td>\n",
       "    </tr>\n",
       "    <tr>\n",
       "      <th id=\"T_b06bf_level0_row2\" class=\"row_heading level0 row2\" >2</th>\n",
       "      <td id=\"T_b06bf_row2_col0\" class=\"data row2 col0\" >nan</td>\n",
       "      <td id=\"T_b06bf_row2_col1\" class=\"data row2 col1\" >0.655435</td>\n",
       "      <td id=\"T_b06bf_row2_col2\" class=\"data row2 col2\" >0.751909</td>\n",
       "      <td id=\"T_b06bf_row2_col3\" class=\"data row2 col3\" >0.066147</td>\n",
       "    </tr>\n",
       "    <tr>\n",
       "      <th id=\"T_b06bf_level0_row3\" class=\"row_heading level0 row3\" >3</th>\n",
       "      <td id=\"T_b06bf_row3_col0\" class=\"data row3 col0\" >0.566917</td>\n",
       "      <td id=\"T_b06bf_row3_col1\" class=\"data row3 col1\" >0.569205</td>\n",
       "      <td id=\"T_b06bf_row3_col2\" class=\"data row3 col2\" >0.146852</td>\n",
       "      <td id=\"T_b06bf_row3_col3\" class=\"data row3 col3\" >0.156414</td>\n",
       "    </tr>\n",
       "    <tr>\n",
       "      <th id=\"T_b06bf_level0_row4\" class=\"row_heading level0 row4\" >4</th>\n",
       "      <td id=\"T_b06bf_row4_col0\" class=\"data row4 col0\" >0.484352</td>\n",
       "      <td id=\"T_b06bf_row4_col1\" class=\"data row4 col1\" >0.390742</td>\n",
       "      <td id=\"T_b06bf_row4_col2\" class=\"data row4 col2\" >0.001150</td>\n",
       "      <td id=\"T_b06bf_row4_col3\" class=\"data row4 col3\" >0.668495</td>\n",
       "    </tr>\n",
       "  </tbody>\n",
       "</table>\n"
      ],
      "text/plain": [
       "<pandas.io.formats.style.Styler at 0x1f45f0281c8>"
      ]
     },
     "execution_count": 104,
     "metadata": {},
     "output_type": "execute_result"
    }
   ],
   "source": [
    "#  定位空值\n",
    "df = pd.DataFrame(np.random.rand(5,4), columns= list('ABCD'))\n",
    "df['A'][2] = np.nan\n",
    "df.style.highlight_null(null_color = 'red')"
   ]
  },
  {
   "cell_type": "code",
   "execution_count": 105,
   "id": "c34ac8da",
   "metadata": {},
   "outputs": [
    {
     "data": {
      "text/html": [
       "<style type=\"text/css\">\n",
       "#T_49eda_row0_col0, #T_49eda_row2_col1 {\n",
       "  background-color: #d6efd0;\n",
       "  color: #000000;\n",
       "}\n",
       "#T_49eda_row0_col1 {\n",
       "  background-color: #87cd86;\n",
       "  color: #000000;\n",
       "}\n",
       "#T_49eda_row0_col2 {\n",
       "  background-color: #a8dca2;\n",
       "  color: #000000;\n",
       "}\n",
       "#T_49eda_row0_col3 {\n",
       "  background-color: #dbf1d6;\n",
       "  color: #000000;\n",
       "}\n",
       "#T_49eda_row1_col0 {\n",
       "  background-color: #a7dba0;\n",
       "  color: #000000;\n",
       "}\n",
       "#T_49eda_row1_col1, #T_49eda_row1_col3, #T_49eda_row2_col0 {\n",
       "  background-color: #73c476;\n",
       "  color: #000000;\n",
       "}\n",
       "#T_49eda_row1_col2, #T_49eda_row3_col0, #T_49eda_row3_col1, #T_49eda_row3_col3 {\n",
       "  background-color: #f7fcf5;\n",
       "  color: #000000;\n",
       "}\n",
       "#T_49eda_row2_col2 {\n",
       "  background-color: #75c477;\n",
       "  color: #000000;\n",
       "}\n",
       "#T_49eda_row2_col3 {\n",
       "  background-color: #f2faef;\n",
       "  color: #000000;\n",
       "}\n",
       "#T_49eda_row3_col2 {\n",
       "  background-color: #d7efd1;\n",
       "  color: #000000;\n",
       "}\n",
       "#T_49eda_row4_col0 {\n",
       "  background-color: #daf0d4;\n",
       "  color: #000000;\n",
       "}\n",
       "#T_49eda_row4_col1 {\n",
       "  background-color: #b1e0ab;\n",
       "  color: #000000;\n",
       "}\n",
       "#T_49eda_row4_col2 {\n",
       "  background-color: #97d492;\n",
       "  color: #000000;\n",
       "}\n",
       "#T_49eda_row4_col3 {\n",
       "  background-color: #d0edca;\n",
       "  color: #000000;\n",
       "}\n",
       "</style>\n",
       "<table id=\"T_49eda_\">\n",
       "  <thead>\n",
       "    <tr>\n",
       "      <th class=\"blank level0\" >&nbsp;</th>\n",
       "      <th class=\"col_heading level0 col0\" >A</th>\n",
       "      <th class=\"col_heading level0 col1\" >B</th>\n",
       "      <th class=\"col_heading level0 col2\" >C</th>\n",
       "      <th class=\"col_heading level0 col3\" >D</th>\n",
       "    </tr>\n",
       "  </thead>\n",
       "  <tbody>\n",
       "    <tr>\n",
       "      <th id=\"T_49eda_level0_row0\" class=\"row_heading level0 row0\" >0</th>\n",
       "      <td id=\"T_49eda_row0_col0\" class=\"data row0 col0\" >0.442421</td>\n",
       "      <td id=\"T_49eda_row0_col1\" class=\"data row0 col1\" >0.468020</td>\n",
       "      <td id=\"T_49eda_row0_col2\" class=\"data row0 col2\" >0.502689</td>\n",
       "      <td id=\"T_49eda_row0_col3\" class=\"data row0 col3\" >0.316616</td>\n",
       "    </tr>\n",
       "    <tr>\n",
       "      <th id=\"T_49eda_level0_row1\" class=\"row_heading level0 row1\" >1</th>\n",
       "      <td id=\"T_49eda_row1_col0\" class=\"data row1 col0\" >0.550134</td>\n",
       "      <td id=\"T_49eda_row1_col1\" class=\"data row1 col1\" >0.516862</td>\n",
       "      <td id=\"T_49eda_row1_col2\" class=\"data row1 col2\" >0.106755</td>\n",
       "      <td id=\"T_49eda_row1_col3\" class=\"data row1 col3\" >0.611870</td>\n",
       "    </tr>\n",
       "    <tr>\n",
       "      <th id=\"T_49eda_level0_row2\" class=\"row_heading level0 row2\" >2</th>\n",
       "      <td id=\"T_49eda_row2_col0\" class=\"data row2 col0\" >0.639855</td>\n",
       "      <td id=\"T_49eda_row2_col1\" class=\"data row2 col1\" >0.230808</td>\n",
       "      <td id=\"T_49eda_row2_col2\" class=\"data row2 col2\" >0.665946</td>\n",
       "      <td id=\"T_49eda_row2_col3\" class=\"data row2 col3\" >0.204034</td>\n",
       "    </tr>\n",
       "    <tr>\n",
       "      <th id=\"T_49eda_level0_row3\" class=\"row_heading level0 row3\" >3</th>\n",
       "      <td id=\"T_49eda_row3_col0\" class=\"data row3 col0\" >0.322482</td>\n",
       "      <td id=\"T_49eda_row3_col1\" class=\"data row3 col1\" >0.054214</td>\n",
       "      <td id=\"T_49eda_row3_col2\" class=\"data row3 col2\" >0.315975</td>\n",
       "      <td id=\"T_49eda_row3_col3\" class=\"data row3 col3\" >0.169877</td>\n",
       "    </tr>\n",
       "    <tr>\n",
       "      <th id=\"T_49eda_level0_row4\" class=\"row_heading level0 row4\" >4</th>\n",
       "      <td id=\"T_49eda_row4_col0\" class=\"data row4 col0\" >0.433253</td>\n",
       "      <td id=\"T_49eda_row4_col1\" class=\"data row4 col1\" >0.351634</td>\n",
       "      <td id=\"T_49eda_row4_col2\" class=\"data row4 col2\" >0.558934</td>\n",
       "      <td id=\"T_49eda_row4_col3\" class=\"data row4 col3\" >0.356999</td>\n",
       "    </tr>\n",
       "  </tbody>\n",
       "</table>\n"
      ],
      "text/plain": [
       "<pandas.io.formats.style.Styler at 0x1f45f1aa148>"
      ]
     },
     "execution_count": 105,
     "metadata": {},
     "output_type": "execute_result"
    }
   ],
   "source": [
    "# 色彩映射，条件格式，热力图\n",
    "df = pd.DataFrame(np.random.rand(5,4), columns= list('ABCD'))\n",
    "df.style.background_gradient(cmap = 'Greens', axis = 0, low= 0 ,high = 1)"
   ]
  },
  {
   "cell_type": "code",
   "execution_count": 106,
   "id": "c03bd0d3",
   "metadata": {},
   "outputs": [
    {
     "data": {
      "text/html": [
       "<style type=\"text/css\">\n",
       "#T_7687f_row0_col0 {\n",
       "  width: 10em;\n",
       "  height: 80%;\n",
       "  background: linear-gradient(90deg,lightgreen 30.3%, transparent 30.3%);\n",
       "}\n",
       "#T_7687f_row0_col1, #T_7687f_row3_col0 {\n",
       "  width: 10em;\n",
       "  height: 80%;\n",
       "  background: linear-gradient(90deg,lightgreen 90.0%, transparent 90.0%);\n",
       "}\n",
       "#T_7687f_row1_col0 {\n",
       "  width: 10em;\n",
       "  height: 80%;\n",
       "  background: linear-gradient(90deg,lightgreen 84.4%, transparent 84.4%);\n",
       "}\n",
       "#T_7687f_row1_col1 {\n",
       "  width: 10em;\n",
       "  height: 80%;\n",
       "  background: linear-gradient(90deg,lightgreen 63.1%, transparent 63.1%);\n",
       "}\n",
       "#T_7687f_row2_col0 {\n",
       "  width: 10em;\n",
       "  height: 80%;\n",
       "  background: linear-gradient(90deg,lightgreen 66.1%, transparent 66.1%);\n",
       "}\n",
       "#T_7687f_row2_col1 {\n",
       "  width: 10em;\n",
       "  height: 80%;\n",
       "  background: linear-gradient(90deg,lightgreen 87.6%, transparent 87.6%);\n",
       "}\n",
       "#T_7687f_row3_col1, #T_7687f_row4_col0 {\n",
       "  width: 10em;\n",
       "  height: 80%;\n",
       "}\n",
       "#T_7687f_row4_col1 {\n",
       "  width: 10em;\n",
       "  height: 80%;\n",
       "  background: linear-gradient(90deg,lightgreen 27.7%, transparent 27.7%);\n",
       "}\n",
       "</style>\n",
       "<table id=\"T_7687f_\">\n",
       "  <thead>\n",
       "    <tr>\n",
       "      <th class=\"blank level0\" >&nbsp;</th>\n",
       "      <th class=\"col_heading level0 col0\" >A</th>\n",
       "      <th class=\"col_heading level0 col1\" >B</th>\n",
       "      <th class=\"col_heading level0 col2\" >C</th>\n",
       "      <th class=\"col_heading level0 col3\" >D</th>\n",
       "    </tr>\n",
       "  </thead>\n",
       "  <tbody>\n",
       "    <tr>\n",
       "      <th id=\"T_7687f_level0_row0\" class=\"row_heading level0 row0\" >0</th>\n",
       "      <td id=\"T_7687f_row0_col0\" class=\"data row0 col0\" >0.543452</td>\n",
       "      <td id=\"T_7687f_row0_col1\" class=\"data row0 col1\" >0.926254</td>\n",
       "      <td id=\"T_7687f_row0_col2\" class=\"data row0 col2\" >0.172859</td>\n",
       "      <td id=\"T_7687f_row0_col3\" class=\"data row0 col3\" >0.866750</td>\n",
       "    </tr>\n",
       "    <tr>\n",
       "      <th id=\"T_7687f_level0_row1\" class=\"row_heading level0 row1\" >1</th>\n",
       "      <td id=\"T_7687f_row1_col0\" class=\"data row1 col0\" >0.942659</td>\n",
       "      <td id=\"T_7687f_row1_col1\" class=\"data row1 col1\" >0.674926</td>\n",
       "      <td id=\"T_7687f_row1_col2\" class=\"data row1 col2\" >0.917356</td>\n",
       "      <td id=\"T_7687f_row1_col3\" class=\"data row1 col3\" >0.810474</td>\n",
       "    </tr>\n",
       "    <tr>\n",
       "      <th id=\"T_7687f_level0_row2\" class=\"row_heading level0 row2\" >2</th>\n",
       "      <td id=\"T_7687f_row2_col0\" class=\"data row2 col0\" >0.807904</td>\n",
       "      <td id=\"T_7687f_row2_col1\" class=\"data row2 col1\" >0.903484</td>\n",
       "      <td id=\"T_7687f_row2_col2\" class=\"data row2 col2\" >0.312557</td>\n",
       "      <td id=\"T_7687f_row2_col3\" class=\"data row2 col3\" >0.336813</td>\n",
       "    </tr>\n",
       "    <tr>\n",
       "      <th id=\"T_7687f_level0_row3\" class=\"row_heading level0 row3\" >3</th>\n",
       "      <td id=\"T_7687f_row3_col0\" class=\"data row3 col0\" >0.984166</td>\n",
       "      <td id=\"T_7687f_row3_col1\" class=\"data row3 col1\" >0.084286</td>\n",
       "      <td id=\"T_7687f_row3_col2\" class=\"data row3 col2\" >0.250099</td>\n",
       "      <td id=\"T_7687f_row3_col3\" class=\"data row3 col3\" >0.275890</td>\n",
       "    </tr>\n",
       "    <tr>\n",
       "      <th id=\"T_7687f_level0_row4\" class=\"row_heading level0 row4\" >4</th>\n",
       "      <td id=\"T_7687f_row4_col0\" class=\"data row4 col0\" >0.320015</td>\n",
       "      <td id=\"T_7687f_row4_col1\" class=\"data row4 col1\" >0.343834</td>\n",
       "      <td id=\"T_7687f_row4_col2\" class=\"data row4 col2\" >0.814205</td>\n",
       "      <td id=\"T_7687f_row4_col3\" class=\"data row4 col3\" >0.897364</td>\n",
       "    </tr>\n",
       "  </tbody>\n",
       "</table>\n"
      ],
      "text/plain": [
       "<pandas.io.formats.style.Styler at 0x1f45f03f888>"
      ]
     },
     "execution_count": 106,
     "metadata": {},
     "output_type": "execute_result"
    }
   ],
   "source": [
    "# 条件格式，条形图\n",
    "df = pd.DataFrame(np.random.rand(5,4), columns= list('ABCD'))\n",
    "df.style.bar(subset =['A','B'],\n",
    "            color = 'lightgreen',\n",
    "             width = 90\n",
    "            )"
   ]
  },
  {
   "cell_type": "code",
   "execution_count": 107,
   "id": "0b2568cb",
   "metadata": {},
   "outputs": [
    {
     "data": {
      "text/html": [
       "<style type=\"text/css\">\n",
       "#T_35f73_row0_col0 {\n",
       "  width: 10em;\n",
       "  height: 80%;\n",
       "  background: linear-gradient(90deg,lightgreen 73.4%, transparent 73.4%);\n",
       "}\n",
       "#T_35f73_row0_col1 {\n",
       "  width: 10em;\n",
       "  height: 80%;\n",
       "  background: linear-gradient(90deg,lightgreen 69.6%, transparent 69.6%);\n",
       "}\n",
       "#T_35f73_row0_col3, #T_35f73_row2_col0, #T_35f73_row2_col2 {\n",
       "  background-color: yellow;\n",
       "}\n",
       "#T_35f73_row1_col0, #T_35f73_row3_col1 {\n",
       "  width: 10em;\n",
       "  height: 80%;\n",
       "  background: linear-gradient(90deg,lightgreen 100.0%, transparent 100.0%);\n",
       "  background-color: yellow;\n",
       "}\n",
       "#T_35f73_row1_col1 {\n",
       "  width: 10em;\n",
       "  height: 80%;\n",
       "  background: linear-gradient(90deg,lightgreen 83.1%, transparent 83.1%);\n",
       "}\n",
       "#T_35f73_row2_col1, #T_35f73_row4_col0 {\n",
       "  width: 10em;\n",
       "  height: 80%;\n",
       "}\n",
       "#T_35f73_row3_col0 {\n",
       "  width: 10em;\n",
       "  height: 80%;\n",
       "  background: linear-gradient(90deg,lightgreen 31.4%, transparent 31.4%);\n",
       "}\n",
       "#T_35f73_row4_col1 {\n",
       "  width: 10em;\n",
       "  height: 80%;\n",
       "  background: linear-gradient(90deg,lightgreen 13.9%, transparent 13.9%);\n",
       "}\n",
       "</style>\n",
       "<table id=\"T_35f73_\">\n",
       "  <thead>\n",
       "    <tr>\n",
       "      <th class=\"blank level0\" >&nbsp;</th>\n",
       "      <th class=\"col_heading level0 col0\" >A</th>\n",
       "      <th class=\"col_heading level0 col1\" >B</th>\n",
       "      <th class=\"col_heading level0 col2\" >C</th>\n",
       "      <th class=\"col_heading level0 col3\" >D</th>\n",
       "    </tr>\n",
       "  </thead>\n",
       "  <tbody>\n",
       "    <tr>\n",
       "      <th id=\"T_35f73_level0_row0\" class=\"row_heading level0 row0\" >0</th>\n",
       "      <td id=\"T_35f73_row0_col0\" class=\"data row0 col0\" >+64.47%</td>\n",
       "      <td id=\"T_35f73_row0_col1\" class=\"data row0 col1\" >0.48</td>\n",
       "      <td id=\"T_35f73_row0_col2\" class=\"data row0 col2\" >0.8638</td>\n",
       "      <td id=\"T_35f73_row0_col3\" class=\"data row0 col3\" >0.991156</td>\n",
       "    </tr>\n",
       "    <tr>\n",
       "      <th id=\"T_35f73_level0_row1\" class=\"row_heading level0 row1\" >1</th>\n",
       "      <td id=\"T_35f73_row1_col0\" class=\"data row1 col0\" >+72.85%</td>\n",
       "      <td id=\"T_35f73_row1_col1\" class=\"data row1 col1\" >0.57</td>\n",
       "      <td id=\"T_35f73_row1_col2\" class=\"data row1 col2\" >0.07755</td>\n",
       "      <td id=\"T_35f73_row1_col3\" class=\"data row1 col3\" >0.361102</td>\n",
       "    </tr>\n",
       "    <tr>\n",
       "      <th id=\"T_35f73_level0_row2\" class=\"row_heading level0 row2\" >2</th>\n",
       "      <td id=\"T_35f73_row2_col0\" class=\"data row2 col0\" >+nan%</td>\n",
       "      <td id=\"T_35f73_row2_col1\" class=\"data row2 col1\" >0.03</td>\n",
       "      <td id=\"T_35f73_row2_col2\" class=\"data row2 col2\" >0.9761</td>\n",
       "      <td id=\"T_35f73_row2_col3\" class=\"data row2 col3\" >0.908863</td>\n",
       "    </tr>\n",
       "    <tr>\n",
       "      <th id=\"T_35f73_level0_row3\" class=\"row_heading level0 row3\" >3</th>\n",
       "      <td id=\"T_35f73_row3_col0\" class=\"data row3 col0\" >+51.19%</td>\n",
       "      <td id=\"T_35f73_row3_col1\" class=\"data row3 col1\" >0.68</td>\n",
       "      <td id=\"T_35f73_row3_col2\" class=\"data row3 col2\" >0.5903</td>\n",
       "      <td id=\"T_35f73_row3_col3\" class=\"data row3 col3\" >0.469060</td>\n",
       "    </tr>\n",
       "    <tr>\n",
       "      <th id=\"T_35f73_level0_row4\" class=\"row_heading level0 row4\" >4</th>\n",
       "      <td id=\"T_35f73_row4_col0\" class=\"data row4 col0\" >+41.30%</td>\n",
       "      <td id=\"T_35f73_row4_col1\" class=\"data row4 col1\" >0.12</td>\n",
       "      <td id=\"T_35f73_row4_col2\" class=\"data row4 col2\" >0.3646</td>\n",
       "      <td id=\"T_35f73_row4_col3\" class=\"data row4 col3\" >0.403229</td>\n",
       "    </tr>\n",
       "  </tbody>\n",
       "</table>\n"
      ],
      "text/plain": [
       "<pandas.io.formats.style.Styler at 0x1f45f038908>"
      ]
     },
     "execution_count": 107,
     "metadata": {},
     "output_type": "execute_result"
    }
   ],
   "source": [
    "# 分段式写法，链式写法，同时应用多个格式\n",
    "df = pd.DataFrame(np.random.rand(5,4), columns= list('ABCD'))\n",
    "df['A'][2] = np.nan\n",
    "df.style.bar(subset =['A','B'], color = 'lightgreen',  width = 100).\\\n",
    "    highlight_null(null_color = 'yellow').\\\n",
    "    highlight_max().\\\n",
    "    format({\"A\":\"{:+.2%}\",\n",
    "                \"B\":\"{:,.2F}\",\n",
    "                 \"C\":\"{:,.4}\"\n",
    "                })"
   ]
  }
 ],
 "metadata": {
  "kernelspec": {
   "display_name": "Python 3",
   "language": "python",
   "name": "python3"
  },
  "language_info": {
   "codemirror_mode": {
    "name": "ipython",
    "version": 3
   },
   "file_extension": ".py",
   "mimetype": "text/x-python",
   "name": "python",
   "nbconvert_exporter": "python",
   "pygments_lexer": "ipython3",
   "version": "3.7.10"
  },
  "toc": {
   "base_numbering": 1,
   "nav_menu": {},
   "number_sections": true,
   "sideBar": true,
   "skip_h1_title": false,
   "title_cell": "Table of Contents",
   "title_sidebar": "Contents",
   "toc_cell": false,
   "toc_position": {
    "height": "calc(100% - 180px)",
    "left": "10px",
    "top": "150px",
    "width": "262.675px"
   },
   "toc_section_display": true,
   "toc_window_display": true
  }
 },
 "nbformat": 4,
 "nbformat_minor": 5
}
